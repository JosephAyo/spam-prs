{
 "cells": [
  {
   "cell_type": "code",
   "execution_count": 56,
   "id": "4babdda8-11f7-485e-bad8-d8c5b8eebb7a",
   "metadata": {},
   "outputs": [],
   "source": [
    "import requests\n",
    "import json\n",
    "import itertools\n",
    "import os\n",
    "import datetime\n",
    "from gql import gql, Client\n",
    "from gql.transport.requests import RequestsHTTPTransport\n",
    "import pandas as pd\n",
    "import random\n",
    "from tqdm import tqdm\n",
    "import time\n",
    "\n",
    "# Read tokens from a text file\n",
    "tokens_file = \"./env/tokens.txt\"\n",
    "with open(tokens_file, \"r\") as file:\n",
    "    tokens = file.read().splitlines()\n",
    "\n",
    "# Create an iterator to cycle through the tokens\n",
    "token_iterator = itertools.cycle(tokens)\n",
    "current_token = next(token_iterator)"
   ]
  },
  {
   "cell_type": "code",
   "execution_count": 57,
   "id": "e0c281d1-993b-497b-8984-0e32ac6a61b5",
   "metadata": {},
   "outputs": [],
   "source": [
    "# List of User-Agents for randomization\n",
    "user_agents = [\n",
    "    \"Mozilla/5.0 (Windows NT 10.0; Win64; x64) AppleWebKit/537.36 (KHTML, like Gecko) Chrome/58.0.3029.110 Safari/537.3\",\n",
    "    \"Mozilla/5.0 (Macintosh; Intel Mac OS X 10_15_7) AppleWebKit/605.1.15 (KHTML, like Gecko) Version/14.0.1 Safari/605.1.15\",\n",
    "    \"Mozilla/5.0 (X11; Linux x86_64) AppleWebKit/537.36 (KHTML, like Gecko) Chrome/91.0.4472.124 Safari/537.36\",\n",
    "    \"Mozilla/5.0 (iPhone; CPU iPhone OS 14_6 like Mac OS X) AppleWebKit/605.1.15 (KHTML, like Gecko) Version/14.0.1 Mobile/15E148 Safari/604.1\",\n",
    "    \"Mozilla/5.0 (Windows NT 10.0; Win64; x64; rv:89.0) Gecko/20100101 Firefox/89.0\",\n",
    "]\n",
    "\n",
    "# Define headers to authenticate using the first token\n",
    "headers = {\n",
    "    \"Authorization\": f\"Bearer {current_token}\",\n",
    "    \"User-Agent\": random.choice(user_agents),\n",
    "}\n",
    "\n",
    "# Setup GraphQL endpoint and client\n",
    "graphql_url = \"https://api.github.com/graphql\"\n",
    "transport = RequestsHTTPTransport(url=graphql_url, headers=headers, use_json=True)\n",
    "client = Client(transport=transport, fetch_schema_from_transport=True)"
   ]
  },
  {
   "cell_type": "code",
   "execution_count": null,
   "id": "93d7c4c6",
   "metadata": {},
   "outputs": [],
   "source": [
    "def log_activity(activity: str):\n",
    "    log = f\"{datetime.datetime.now()}: {activity}\\n\"\n",
    "    # print(log)\n",
    "    with open(\"spam-prs-output.log\", \"a\") as log_file:\n",
    "        log_file.write(log)"
   ]
  },
  {
   "cell_type": "code",
   "execution_count": 59,
   "id": "5062f1b0-a9df-4f94-bb18-56f42774bc22",
   "metadata": {},
   "outputs": [
    {
     "name": "stdout",
     "output_type": "stream",
     "text": [
      "2025-03-27 04:22:11.174140: Token 1/2 is valid. Logged in as: JosephAyo\n",
      "\n",
      "2025-03-27 04:22:16.501624: Token 2/2 is valid. Logged in as: j-cloudnetic\n",
      "\n"
     ]
    }
   ],
   "source": [
    "# Test all tokens to verify their validity\n",
    "def test_all_tokens():\n",
    "    test_query = gql(\n",
    "        \"\"\"\n",
    "        {\n",
    "          viewer {\n",
    "            login\n",
    "          }\n",
    "        }\n",
    "        \"\"\"\n",
    "    )\n",
    "    for i, token in enumerate(tokens):\n",
    "        headers = {\n",
    "            \"Authorization\": f\"Bearer {token}\",\n",
    "            \"User-Agent\": random.choice(user_agents),\n",
    "        }\n",
    "        transport = RequestsHTTPTransport(\n",
    "            url=graphql_url, headers=headers, use_json=True\n",
    "        )\n",
    "        client = Client(transport=transport, fetch_schema_from_transport=True)\n",
    "\n",
    "        try:\n",
    "            response = client.execute(test_query)\n",
    "            log_activity(\n",
    "                f\"Token {i+1}/{len(tokens)} is valid. Logged in as: {response['viewer']['login']}\"\n",
    "            )\n",
    "        except Exception as e:\n",
    "            log_activity(f\"Token {i+1}/{len(tokens)} failed with error: {e}\")\n",
    "\n",
    "\n",
    "# Run the token validation\n",
    "test_all_tokens()"
   ]
  },
  {
   "cell_type": "code",
   "execution_count": 60,
   "id": "cdd85df0-71b7-46c8-9ed4-eceb724201cf",
   "metadata": {},
   "outputs": [],
   "source": [
    "# Define the GraphQL query\n",
    "query_template = gql(\n",
    "    \"\"\"\n",
    "    query searchIssues($keyword: String!, $afterCursor: String, $first: Int) {\n",
    "      search(query: $keyword, type: ISSUE, first: $first, after: $afterCursor) {\n",
    "        issueCount\n",
    "        edges {\n",
    "          cursor\n",
    "          node {\n",
    "            ... on PullRequest {\n",
    "              id\n",
    "              number\n",
    "              title\n",
    "              url\n",
    "              comments(first: 100) {\n",
    "                totalCount # it still gives the total count regardless of the first parameter\n",
    "                edges {\n",
    "                  node {   \n",
    "                    author { ... on User { login } }\n",
    "                    editor { ... on User { login } }\n",
    "                    body\n",
    "                    createdAt\n",
    "                    lastEditedAt\n",
    "                  }\n",
    "                }\n",
    "              }\n",
    "              state\n",
    "              closed\n",
    "              merged\n",
    "              createdAt\n",
    "              updatedAt\n",
    "              mergeCommit {\n",
    "                oid\n",
    "              }\n",
    "              timeline(last: 100) {\n",
    "                edges {\n",
    "                  node {\n",
    "                    __typename\n",
    "                    ... on LabeledEvent {\n",
    "                      actor { ... on User { login } }\n",
    "                      label { ... on Label { name }}\n",
    "                      createdAt\n",
    "                    }\n",
    "                    ... on ClosedEvent { \n",
    "                      actor { ... on User { login } }\n",
    "                      createdAt\n",
    "                    }\n",
    "                  }\n",
    "                }\n",
    "              }\n",
    "              commits(first: 100) {\n",
    "                totalCount\n",
    "                pageInfo {\n",
    "                  hasNextPage\n",
    "                  endCursor\n",
    "                }\n",
    "                edges {\n",
    "                  node {\n",
    "                    commit {\n",
    "                      oid\n",
    "                      message\n",
    "                      author { ... on GitActor { name } }\n",
    "                      changedFilesIfAvailable\n",
    "                      commitUrl\n",
    "                      committedDate\n",
    "                    }\n",
    "                  }\n",
    "                }\n",
    "              }\n",
    "              changedFiles\n",
    "              headRefName\n",
    "              baseRefName\n",
    "              repository {\n",
    "                id\n",
    "                nameWithOwner\n",
    "                stargazerCount\n",
    "                description\n",
    "                codeOfConduct {\n",
    "                  body\n",
    "                  id\n",
    "                  name\n",
    "                  url\n",
    "                }\n",
    "                homepageUrl\n",
    "                assignableUsers(first: 100) {\n",
    "                  edges {\n",
    "                    node {\n",
    "                      login\n",
    "                      url\n",
    "                      bio\n",
    "                      company\n",
    "                    }\n",
    "                  }\n",
    "                  totalCount\n",
    "                }\n",
    "                mentionableUsers(first: 100) {\n",
    "                  edges {\n",
    "                    node {\n",
    "                      login\n",
    "                      url\n",
    "                      bio\n",
    "                      company\n",
    "                    }\n",
    "                  }\n",
    "                  totalCount\n",
    "                }\n",
    "                forkCount\n",
    "                watchers {\n",
    "                  totalCount\n",
    "                }\n",
    "                isFork\n",
    "                languages(first: 20) {\n",
    "                  edges {\n",
    "                    node {\n",
    "                      name\n",
    "                    }\n",
    "                  }\n",
    "                }\n",
    "              }\n",
    "              author {\n",
    "                ... on User {\n",
    "                  login\n",
    "                  url\n",
    "                  createdAt\n",
    "                  repositories {\n",
    "                    totalCount\n",
    "                  }\n",
    "                  followers {\n",
    "                    totalCount\n",
    "                  }\n",
    "                  following {\n",
    "                    totalCount\n",
    "                  }\n",
    "                  repositoryDiscussions {\n",
    "                    totalCount\n",
    "                  }\n",
    "                  repositoryDiscussionComments {\n",
    "                    totalCount\n",
    "                  }\n",
    "                  organizations (first: 20){\n",
    "                    edges {\n",
    "                      node {\n",
    "                        name\n",
    "                        login\n",
    "                        url\n",
    "                        membersWithRole {\n",
    "                          totalCount\n",
    "                        }\n",
    "                      }\n",
    "                    }\n",
    "                  }\n",
    "                }\n",
    "              }\n",
    "              labels(first: 10) {\n",
    "                edges {\n",
    "                  node {\n",
    "                    name\n",
    "                  }\n",
    "                }\n",
    "              }\n",
    "              body\n",
    "            }\n",
    "          }\n",
    "        }\n",
    "        pageInfo {\n",
    "          endCursor\n",
    "          hasNextPage\n",
    "        }\n",
    "      }\n",
    "    }\n",
    "    \"\"\"\n",
    ")"
   ]
  },
  {
   "cell_type": "code",
   "execution_count": 61,
   "id": "d7b32e41-7d3f-458b-ad0f-0c13d3146813",
   "metadata": {},
   "outputs": [],
   "source": [
    "# def get_contributor_count(repo_owner, repo_name):\n",
    "#     global current_token\n",
    "#     max_retries = 3\n",
    "#     retries = 0\n",
    "#     while retries < max_retries:\n",
    "#         try:\n",
    "#             # Randomize User-Agent for each query\n",
    "#             headers[\"User-Agent\"] = random.choice(user_agents)\n",
    "#             headers[\"Authorization\"] = f\"Bearer {current_token}\"\n",
    "#             url = f\"https://api.github.com/repos/{repo_owner}/{repo_name}/contributors?per_page=1&anon=true\"\n",
    "#             response = requests.get(url, headers=headers)\n",
    "#             if response.status_code == 200:\n",
    "#                 return int(response.headers.get(\"Link\", \"\").split(\",\")[-1].split(\"&page=\")[-1].split(\">\")[0]) if \"Link\" in response.headers else len(response.json())\n",
    "#             elif response.status_code == 403:\n",
    "#                 print(f\"Rate limit exceeded, switching token... (Attempt {retries + 1}/{max_retries})\")\n",
    "#                 current_token = next(token_iterator)\n",
    "#                 retries += 1\n",
    "#             else:\n",
    "#                 response.raise_for_status()\n",
    "#         except Exception as e:\n",
    "#             print(f\"Error: {e}, retrying... (Attempt {retries + 1}/{max_retries})\")\n",
    "#             retries += 1\n",
    "#     raise Exception(\"Max retries reached. Unable to complete the request.\")"
   ]
  },
  {
   "cell_type": "code",
   "execution_count": 62,
   "id": "ac2c2427-7797-4088-a144-6045c87ee349",
   "metadata": {},
   "outputs": [
    {
     "name": "stdout",
     "output_type": "stream",
     "text": [
      "2025-03-27 04:22:20.901895: Rate limit: {'limit': 5000, 'remaining': 4047, 'used': 953, 'resetAt': '2025-03-27T04:03:54Z'}\n",
      "\n"
     ]
    }
   ],
   "source": [
    "transport.headers = headers\n",
    "# Check rate limit before executing the main query\n",
    "rate_limit_query = gql(\n",
    "    \"\"\"\n",
    "    query {\n",
    "      viewer {\n",
    "        login\n",
    "      }\n",
    "      rateLimit {\n",
    "        limit\n",
    "        remaining\n",
    "        used\n",
    "        resetAt\n",
    "      }\n",
    "    }\n",
    "    \"\"\"\n",
    ")\n",
    "rate_limit_response = client.execute(rate_limit_query)\n",
    "log_activity(f\"Rate limit: {rate_limit_response['rateLimit']}\")"
   ]
  },
  {
   "cell_type": "code",
   "execution_count": 63,
   "id": "49acb9fd-7a25-458d-aec7-8f302a653c95",
   "metadata": {},
   "outputs": [],
   "source": [
    "rate_limit_query = gql(\n",
    "    \"\"\"\n",
    "    query {\n",
    "      viewer {\n",
    "        login\n",
    "      }\n",
    "      rateLimit {\n",
    "        limit\n",
    "        remaining\n",
    "        used\n",
    "        resetAt\n",
    "      }\n",
    "    }\n",
    "    \"\"\"\n",
    ")\n",
    "\n",
    "\n",
    "def execute_query(keyword, first=100, after_cursor=None):\n",
    "    global current_token\n",
    "    log_activity(\n",
    "        f\"Executing query with keyword: {keyword}, first: {first}, afterCursor: {after_cursor}\"\n",
    "    )\n",
    "    while True:\n",
    "        try:\n",
    "            # Randomize User-Agent for each query\n",
    "            headers[\"User-Agent\"] = random.choice(user_agents)\n",
    "            transport.headers = headers\n",
    "            # Check rate limit before executing the main query\n",
    "            rate_limit_response = client.execute(rate_limit_query)\n",
    "            remaining = rate_limit_response[\"rateLimit\"][\"remaining\"]\n",
    "            if remaining < 100:\n",
    "                log_activity(\n",
    "                    f\"Rate limit remaining ({remaining}) is below threshold. Switching token...\"\n",
    "                )\n",
    "                # Set up to track whether we have cycled through all tokens\n",
    "                all_tokens_checked = False\n",
    "                initial_token = current_token\n",
    "\n",
    "                while not all_tokens_checked:\n",
    "                    # Switch to the next token\n",
    "                    current_token = next(token_iterator)\n",
    "                    headers[\"Authorization\"] = f\"Bearer {current_token}\"\n",
    "                    transport.headers = headers\n",
    "\n",
    "                    # Check the rate limit of the new token\n",
    "                    rate_limit_response = client.execute(rate_limit_query)\n",
    "                    remaining = rate_limit_response[\"rateLimit\"][\"remaining\"]\n",
    "\n",
    "                    if remaining >= 100:\n",
    "                        log_activity(\n",
    "                            f\"Switched to a new token with sufficient rate limit ({remaining} remaining).\"\n",
    "                        )\n",
    "                        break\n",
    "\n",
    "                    # Check if we have cycled through all tokens\n",
    "                    if current_token == initial_token:\n",
    "                        log_activity(\"All tokens are below threshold. Waiting for 1 hour...\")\n",
    "                        time.sleep(3600)\n",
    "                        all_tokens_checked = True\n",
    "\n",
    "                continue\n",
    "            return client.execute(\n",
    "                query_template,\n",
    "                variable_values={\n",
    "                    \"keyword\": keyword,\n",
    "                    \"first\": first,\n",
    "                    \"afterCursor\": after_cursor,\n",
    "                },\n",
    "            )\n",
    "        except Exception as e:\n",
    "            if \"API rate limit\" in str(e):\n",
    "                log_activity(\n",
    "                    f\"Rate limit reached: {e}, switching token... (Attempt with first {first})\"\n",
    "                )\n",
    "                current_token = next(token_iterator)\n",
    "                headers[\"Authorization\"] = f\"Bearer {current_token}\"\n",
    "            else:\n",
    "                if first > 1:\n",
    "                    first = max(1, first // 2)\n",
    "                    log_activity(\n",
    "                        f\"Error: {e}, reducing number of results and retrying... (Attempt with first {first})\"\n",
    "                    )\n",
    "                else:\n",
    "                    break\n",
    "    log_activity(\"Max retries reached. Sleeping for 60 minutes and switching token...\")\n",
    "    time.sleep(3600)\n",
    "    current_token = next(token_iterator)\n",
    "    headers[\"Authorization\"] = f\"Bearer {current_token}\"\n",
    "    transport.headers = headers\n",
    "    return execute_query(keyword, first, after_cursor)"
   ]
  },
  {
   "cell_type": "code",
   "execution_count": 64,
   "id": "10e2f9a0-95df-4b00-8544-efeb1ba4d498",
   "metadata": {},
   "outputs": [],
   "source": [
    "import pickle\n",
    "\n",
    "if os.path.exists(\"progress.pkl\"):\n",
    "    with open(\"progress.pkl\", \"rb\") as f:\n",
    "        progress_data = pickle.load(f)\n",
    "        df = progress_data[\"df\"]\n",
    "        start_index = progress_data[\"start_index\"]\n",
    "else:\n",
    "    df = []\n",
    "    start_index = 0"
   ]
  },
  {
   "cell_type": "code",
   "execution_count": 65,
   "id": "69df882e",
   "metadata": {},
   "outputs": [],
   "source": [
    "df = []\n",
    "start_index = 0"
   ]
  },
  {
   "cell_type": "code",
   "execution_count": 66,
   "id": "abb89147-ab2c-4654-a8d7-637737c90537",
   "metadata": {},
   "outputs": [
    {
     "name": "stderr",
     "output_type": "stream",
     "text": [
      "  0%|          | 0/3 [00:00<?, ?it/s]"
     ]
    },
    {
     "name": "stdout",
     "output_type": "stream",
     "text": [
      "2025-03-27 04:22:21.013781: Executing query with keyword: label:\"ai spam\" is:pr is:public archived:false created:2005-01-01..2005-03-02, first: 10, afterCursor: None\n",
      "\n"
     ]
    },
    {
     "name": "stderr",
     "output_type": "stream",
     "text": [
      " 33%|███▎      | 1/3 [00:00<00:01,  1.35it/s]"
     ]
    },
    {
     "name": "stdout",
     "output_type": "stream",
     "text": [
      "2025-03-27 04:22:21.753807: response[\"search\"][\"issueCount\"]: 0\n",
      "\n",
      "\n",
      "2025-03-27 04:22:21.756014: Executing query with keyword: label:spam is:pr is:public archived:false created:2005-01-01..2005-03-02, first: 10, afterCursor: None\n",
      "\n"
     ]
    },
    {
     "name": "stderr",
     "output_type": "stream",
     "text": [
      " 67%|██████▋   | 2/3 [00:01<00:00,  1.37it/s]"
     ]
    },
    {
     "name": "stdout",
     "output_type": "stream",
     "text": [
      "2025-03-27 04:22:22.472573: response[\"search\"][\"issueCount\"]: 0\n",
      "\n",
      "\n",
      "2025-03-27 04:22:22.477376: Executing query with keyword: label:ai-spam is:pr is:public archived:false created:2005-01-01..2005-03-02, first: 10, afterCursor: None\n",
      "\n"
     ]
    },
    {
     "name": "stderr",
     "output_type": "stream",
     "text": [
      "100%|██████████| 3/3 [00:02<00:00,  1.40it/s]\n"
     ]
    },
    {
     "name": "stdout",
     "output_type": "stream",
     "text": [
      "2025-03-27 04:22:23.160785: response[\"search\"][\"issueCount\"]: 0\n",
      "\n",
      "\n"
     ]
    },
    {
     "name": "stderr",
     "output_type": "stream",
     "text": [
      "  0%|          | 0/3 [00:00<?, ?it/s]"
     ]
    },
    {
     "name": "stdout",
     "output_type": "stream",
     "text": [
      "2025-03-27 04:22:23.166681: Executing query with keyword: label:\"ai spam\" is:pr is:public archived:false created:2005-03-02..2005-05-01, first: 10, afterCursor: None\n",
      "\n"
     ]
    },
    {
     "name": "stderr",
     "output_type": "stream",
     "text": [
      " 33%|███▎      | 1/3 [00:00<00:01,  1.35it/s]"
     ]
    },
    {
     "name": "stdout",
     "output_type": "stream",
     "text": [
      "2025-03-27 04:22:23.905705: response[\"search\"][\"issueCount\"]: 0\n",
      "\n",
      "\n",
      "2025-03-27 04:22:23.907448: Executing query with keyword: label:spam is:pr is:public archived:false created:2005-03-02..2005-05-01, first: 10, afterCursor: None\n",
      "\n"
     ]
    },
    {
     "name": "stderr",
     "output_type": "stream",
     "text": [
      " 67%|██████▋   | 2/3 [00:01<00:00,  1.15it/s]"
     ]
    },
    {
     "name": "stdout",
     "output_type": "stream",
     "text": [
      "2025-03-27 04:22:24.861326: response[\"search\"][\"issueCount\"]: 0\n",
      "\n",
      "\n",
      "2025-03-27 04:22:24.863424: Executing query with keyword: label:ai-spam is:pr is:public archived:false created:2005-03-02..2005-05-01, first: 10, afterCursor: None\n",
      "\n"
     ]
    },
    {
     "name": "stderr",
     "output_type": "stream",
     "text": [
      "100%|██████████| 3/3 [00:02<00:00,  1.29it/s]\n"
     ]
    },
    {
     "name": "stdout",
     "output_type": "stream",
     "text": [
      "2025-03-27 04:22:25.491766: response[\"search\"][\"issueCount\"]: 0\n",
      "\n",
      "\n"
     ]
    },
    {
     "name": "stderr",
     "output_type": "stream",
     "text": [
      "  0%|          | 0/3 [00:00<?, ?it/s]"
     ]
    },
    {
     "name": "stdout",
     "output_type": "stream",
     "text": [
      "2025-03-27 04:22:25.495734: Executing query with keyword: label:\"ai spam\" is:pr is:public archived:false created:2005-05-01..2005-06-30, first: 10, afterCursor: None\n",
      "\n"
     ]
    },
    {
     "name": "stderr",
     "output_type": "stream",
     "text": [
      " 33%|███▎      | 1/3 [00:00<00:01,  1.26it/s]"
     ]
    },
    {
     "name": "stdout",
     "output_type": "stream",
     "text": [
      "2025-03-27 04:22:26.291016: response[\"search\"][\"issueCount\"]: 0\n",
      "\n",
      "\n",
      "2025-03-27 04:22:26.292495: Executing query with keyword: label:spam is:pr is:public archived:false created:2005-05-01..2005-06-30, first: 10, afterCursor: None\n",
      "\n"
     ]
    },
    {
     "name": "stderr",
     "output_type": "stream",
     "text": [
      " 67%|██████▋   | 2/3 [00:01<00:00,  1.34it/s]"
     ]
    },
    {
     "name": "stdout",
     "output_type": "stream",
     "text": [
      "2025-03-27 04:22:27.000971: response[\"search\"][\"issueCount\"]: 0\n",
      "\n",
      "\n",
      "2025-03-27 04:22:27.002571: Executing query with keyword: label:ai-spam is:pr is:public archived:false created:2005-05-01..2005-06-30, first: 10, afterCursor: None\n",
      "\n"
     ]
    },
    {
     "name": "stderr",
     "output_type": "stream",
     "text": [
      "100%|██████████| 3/3 [00:02<00:00,  1.35it/s]\n"
     ]
    },
    {
     "name": "stdout",
     "output_type": "stream",
     "text": [
      "2025-03-27 04:22:27.711161: response[\"search\"][\"issueCount\"]: 0\n",
      "\n",
      "\n"
     ]
    },
    {
     "name": "stderr",
     "output_type": "stream",
     "text": [
      "  0%|          | 0/3 [00:00<?, ?it/s]"
     ]
    },
    {
     "name": "stdout",
     "output_type": "stream",
     "text": [
      "2025-03-27 04:22:27.716093: Executing query with keyword: label:\"ai spam\" is:pr is:public archived:false created:2005-06-30..2005-08-29, first: 10, afterCursor: None\n",
      "\n"
     ]
    },
    {
     "name": "stderr",
     "output_type": "stream",
     "text": [
      " 33%|███▎      | 1/3 [00:00<00:01,  1.51it/s]"
     ]
    },
    {
     "name": "stdout",
     "output_type": "stream",
     "text": [
      "2025-03-27 04:22:28.372832: response[\"search\"][\"issueCount\"]: 0\n",
      "\n",
      "\n",
      "2025-03-27 04:22:28.382975: Executing query with keyword: label:spam is:pr is:public archived:false created:2005-06-30..2005-08-29, first: 10, afterCursor: None\n",
      "\n"
     ]
    },
    {
     "name": "stderr",
     "output_type": "stream",
     "text": [
      " 67%|██████▋   | 2/3 [00:01<00:00,  1.38it/s]"
     ]
    },
    {
     "name": "stdout",
     "output_type": "stream",
     "text": [
      "2025-03-27 04:22:29.144185: response[\"search\"][\"issueCount\"]: 0\n",
      "\n",
      "\n",
      "2025-03-27 04:22:29.146584: Executing query with keyword: label:ai-spam is:pr is:public archived:false created:2005-06-30..2005-08-29, first: 10, afterCursor: None\n",
      "\n"
     ]
    },
    {
     "name": "stderr",
     "output_type": "stream",
     "text": [
      "100%|██████████| 3/3 [00:02<00:00,  1.38it/s]\n"
     ]
    },
    {
     "name": "stdout",
     "output_type": "stream",
     "text": [
      "2025-03-27 04:22:29.891067: response[\"search\"][\"issueCount\"]: 0\n",
      "\n",
      "\n"
     ]
    },
    {
     "name": "stderr",
     "output_type": "stream",
     "text": [
      "  0%|          | 0/3 [00:00<?, ?it/s]"
     ]
    },
    {
     "name": "stdout",
     "output_type": "stream",
     "text": [
      "2025-03-27 04:22:29.895683: Executing query with keyword: label:\"ai spam\" is:pr is:public archived:false created:2005-08-29..2005-10-28, first: 10, afterCursor: None\n",
      "\n"
     ]
    },
    {
     "name": "stderr",
     "output_type": "stream",
     "text": [
      " 33%|███▎      | 1/3 [00:00<00:01,  1.36it/s]"
     ]
    },
    {
     "name": "stdout",
     "output_type": "stream",
     "text": [
      "2025-03-27 04:22:30.630750: response[\"search\"][\"issueCount\"]: 0\n",
      "\n",
      "\n",
      "2025-03-27 04:22:30.631918: Executing query with keyword: label:spam is:pr is:public archived:false created:2005-08-29..2005-10-28, first: 10, afterCursor: None\n",
      "\n"
     ]
    },
    {
     "name": "stderr",
     "output_type": "stream",
     "text": [
      " 67%|██████▋   | 2/3 [00:01<00:00,  1.34it/s]"
     ]
    },
    {
     "name": "stdout",
     "output_type": "stream",
     "text": [
      "2025-03-27 04:22:31.383568: response[\"search\"][\"issueCount\"]: 0\n",
      "\n",
      "\n",
      "2025-03-27 04:22:31.387782: Executing query with keyword: label:ai-spam is:pr is:public archived:false created:2005-08-29..2005-10-28, first: 10, afterCursor: None\n",
      "\n"
     ]
    },
    {
     "name": "stderr",
     "output_type": "stream",
     "text": [
      "100%|██████████| 3/3 [00:02<00:00,  1.40it/s]\n"
     ]
    },
    {
     "name": "stdout",
     "output_type": "stream",
     "text": [
      "2025-03-27 04:22:32.030894: response[\"search\"][\"issueCount\"]: 0\n",
      "\n",
      "\n"
     ]
    },
    {
     "name": "stderr",
     "output_type": "stream",
     "text": [
      "  0%|          | 0/3 [00:00<?, ?it/s]"
     ]
    },
    {
     "name": "stdout",
     "output_type": "stream",
     "text": [
      "2025-03-27 04:22:32.035253: Executing query with keyword: label:\"ai spam\" is:pr is:public archived:false created:2005-10-28..2005-12-27, first: 10, afterCursor: None\n",
      "\n"
     ]
    },
    {
     "name": "stderr",
     "output_type": "stream",
     "text": [
      " 33%|███▎      | 1/3 [00:00<00:01,  1.05it/s]"
     ]
    },
    {
     "name": "stdout",
     "output_type": "stream",
     "text": [
      "2025-03-27 04:22:32.985983: response[\"search\"][\"issueCount\"]: 0\n",
      "\n",
      "\n",
      "2025-03-27 04:22:32.989450: Executing query with keyword: label:spam is:pr is:public archived:false created:2005-10-28..2005-12-27, first: 10, afterCursor: None\n",
      "\n"
     ]
    },
    {
     "name": "stderr",
     "output_type": "stream",
     "text": [
      " 67%|██████▋   | 2/3 [00:01<00:00,  1.01it/s]"
     ]
    },
    {
     "name": "stdout",
     "output_type": "stream",
     "text": [
      "2025-03-27 04:22:34.002812: response[\"search\"][\"issueCount\"]: 0\n",
      "\n",
      "\n",
      "2025-03-27 04:22:34.005343: Executing query with keyword: label:ai-spam is:pr is:public archived:false created:2005-10-28..2005-12-27, first: 10, afterCursor: None\n",
      "\n"
     ]
    },
    {
     "name": "stderr",
     "output_type": "stream",
     "text": [
      "100%|██████████| 3/3 [00:02<00:00,  1.06it/s]\n"
     ]
    },
    {
     "name": "stdout",
     "output_type": "stream",
     "text": [
      "2025-03-27 04:22:34.851098: response[\"search\"][\"issueCount\"]: 0\n",
      "\n",
      "\n"
     ]
    },
    {
     "name": "stderr",
     "output_type": "stream",
     "text": [
      "  0%|          | 0/3 [00:00<?, ?it/s]"
     ]
    },
    {
     "name": "stdout",
     "output_type": "stream",
     "text": [
      "2025-03-27 04:22:34.854901: Executing query with keyword: label:\"ai spam\" is:pr is:public archived:false created:2005-12-27..2006-02-25, first: 10, afterCursor: None\n",
      "\n"
     ]
    },
    {
     "name": "stderr",
     "output_type": "stream",
     "text": [
      " 33%|███▎      | 1/3 [00:00<00:01,  1.37it/s]"
     ]
    },
    {
     "name": "stdout",
     "output_type": "stream",
     "text": [
      "2025-03-27 04:22:35.582307: response[\"search\"][\"issueCount\"]: 0\n",
      "\n",
      "\n",
      "2025-03-27 04:22:35.585423: Executing query with keyword: label:spam is:pr is:public archived:false created:2005-12-27..2006-02-25, first: 10, afterCursor: None\n",
      "\n"
     ]
    },
    {
     "name": "stderr",
     "output_type": "stream",
     "text": [
      " 67%|██████▋   | 2/3 [00:01<00:00,  1.27it/s]"
     ]
    },
    {
     "name": "stdout",
     "output_type": "stream",
     "text": [
      "2025-03-27 04:22:36.412822: response[\"search\"][\"issueCount\"]: 0\n",
      "\n",
      "\n",
      "2025-03-27 04:22:36.425415: Executing query with keyword: label:ai-spam is:pr is:public archived:false created:2005-12-27..2006-02-25, first: 10, afterCursor: None\n",
      "\n"
     ]
    },
    {
     "name": "stderr",
     "output_type": "stream",
     "text": [
      "100%|██████████| 3/3 [00:02<00:00,  1.30it/s]\n"
     ]
    },
    {
     "name": "stdout",
     "output_type": "stream",
     "text": [
      "2025-03-27 04:22:37.154020: response[\"search\"][\"issueCount\"]: 0\n",
      "\n",
      "\n"
     ]
    },
    {
     "name": "stderr",
     "output_type": "stream",
     "text": [
      "  0%|          | 0/3 [00:00<?, ?it/s]"
     ]
    },
    {
     "name": "stdout",
     "output_type": "stream",
     "text": [
      "2025-03-27 04:22:37.158817: Executing query with keyword: label:\"ai spam\" is:pr is:public archived:false created:2006-02-25..2006-04-26, first: 10, afterCursor: None\n",
      "\n"
     ]
    },
    {
     "name": "stderr",
     "output_type": "stream",
     "text": [
      " 33%|███▎      | 1/3 [00:00<00:01,  1.35it/s]"
     ]
    },
    {
     "name": "stdout",
     "output_type": "stream",
     "text": [
      "2025-03-27 04:22:37.901210: response[\"search\"][\"issueCount\"]: 0\n",
      "\n",
      "\n",
      "2025-03-27 04:22:37.902458: Executing query with keyword: label:spam is:pr is:public archived:false created:2006-02-25..2006-04-26, first: 10, afterCursor: None\n",
      "\n"
     ]
    },
    {
     "name": "stderr",
     "output_type": "stream",
     "text": [
      " 67%|██████▋   | 2/3 [00:01<00:00,  1.45it/s]"
     ]
    },
    {
     "name": "stdout",
     "output_type": "stream",
     "text": [
      "2025-03-27 04:22:38.550894: response[\"search\"][\"issueCount\"]: 0\n",
      "\n",
      "\n",
      "2025-03-27 04:22:38.552340: Executing query with keyword: label:ai-spam is:pr is:public archived:false created:2006-02-25..2006-04-26, first: 10, afterCursor: None\n",
      "\n"
     ]
    },
    {
     "name": "stderr",
     "output_type": "stream",
     "text": [
      "100%|██████████| 3/3 [00:02<00:00,  1.44it/s]\n"
     ]
    },
    {
     "name": "stdout",
     "output_type": "stream",
     "text": [
      "2025-03-27 04:22:39.241012: response[\"search\"][\"issueCount\"]: 0\n",
      "\n",
      "\n"
     ]
    },
    {
     "name": "stderr",
     "output_type": "stream",
     "text": [
      "  0%|          | 0/3 [00:00<?, ?it/s]"
     ]
    },
    {
     "name": "stdout",
     "output_type": "stream",
     "text": [
      "2025-03-27 04:22:39.245122: Executing query with keyword: label:\"ai spam\" is:pr is:public archived:false created:2006-04-26..2006-06-25, first: 10, afterCursor: None\n",
      "\n"
     ]
    },
    {
     "name": "stderr",
     "output_type": "stream",
     "text": [
      " 33%|███▎      | 1/3 [00:00<00:01,  1.52it/s]"
     ]
    },
    {
     "name": "stdout",
     "output_type": "stream",
     "text": [
      "2025-03-27 04:22:39.902196: response[\"search\"][\"issueCount\"]: 0\n",
      "\n",
      "\n",
      "2025-03-27 04:22:39.904513: Executing query with keyword: label:spam is:pr is:public archived:false created:2006-04-26..2006-06-25, first: 10, afterCursor: None\n",
      "\n"
     ]
    },
    {
     "name": "stderr",
     "output_type": "stream",
     "text": [
      " 67%|██████▋   | 2/3 [00:01<00:00,  1.42it/s]"
     ]
    },
    {
     "name": "stdout",
     "output_type": "stream",
     "text": [
      "2025-03-27 04:22:40.632882: response[\"search\"][\"issueCount\"]: 0\n",
      "\n",
      "\n",
      "2025-03-27 04:22:40.637340: Executing query with keyword: label:ai-spam is:pr is:public archived:false created:2006-04-26..2006-06-25, first: 10, afterCursor: None\n",
      "\n"
     ]
    },
    {
     "name": "stderr",
     "output_type": "stream",
     "text": [
      "100%|██████████| 3/3 [00:02<00:00,  1.43it/s]\n"
     ]
    },
    {
     "name": "stdout",
     "output_type": "stream",
     "text": [
      "2025-03-27 04:22:41.340885: response[\"search\"][\"issueCount\"]: 0\n",
      "\n",
      "\n"
     ]
    },
    {
     "name": "stderr",
     "output_type": "stream",
     "text": [
      "  0%|          | 0/3 [00:00<?, ?it/s]"
     ]
    },
    {
     "name": "stdout",
     "output_type": "stream",
     "text": [
      "2025-03-27 04:22:41.345280: Executing query with keyword: label:\"ai spam\" is:pr is:public archived:false created:2006-06-25..2006-08-24, first: 10, afterCursor: None\n",
      "\n"
     ]
    },
    {
     "name": "stderr",
     "output_type": "stream",
     "text": [
      " 33%|███▎      | 1/3 [00:00<00:01,  1.54it/s]"
     ]
    },
    {
     "name": "stdout",
     "output_type": "stream",
     "text": [
      "2025-03-27 04:22:41.993411: response[\"search\"][\"issueCount\"]: 0\n",
      "\n",
      "\n",
      "2025-03-27 04:22:41.995100: Executing query with keyword: label:spam is:pr is:public archived:false created:2006-06-25..2006-08-24, first: 10, afterCursor: None\n",
      "\n"
     ]
    },
    {
     "name": "stderr",
     "output_type": "stream",
     "text": [
      " 67%|██████▋   | 2/3 [00:01<00:00,  1.39it/s]"
     ]
    },
    {
     "name": "stdout",
     "output_type": "stream",
     "text": [
      "2025-03-27 04:22:42.761553: response[\"search\"][\"issueCount\"]: 0\n",
      "\n",
      "\n",
      "2025-03-27 04:22:42.764726: Executing query with keyword: label:ai-spam is:pr is:public archived:false created:2006-06-25..2006-08-24, first: 10, afterCursor: None\n",
      "\n"
     ]
    },
    {
     "name": "stderr",
     "output_type": "stream",
     "text": [
      "100%|██████████| 3/3 [00:02<00:00,  1.41it/s]\n"
     ]
    },
    {
     "name": "stdout",
     "output_type": "stream",
     "text": [
      "2025-03-27 04:22:43.472914: response[\"search\"][\"issueCount\"]: 0\n",
      "\n",
      "\n"
     ]
    },
    {
     "name": "stderr",
     "output_type": "stream",
     "text": [
      "  0%|          | 0/3 [00:00<?, ?it/s]"
     ]
    },
    {
     "name": "stdout",
     "output_type": "stream",
     "text": [
      "2025-03-27 04:22:43.478609: Executing query with keyword: label:\"ai spam\" is:pr is:public archived:false created:2006-08-24..2006-10-23, first: 10, afterCursor: None\n",
      "\n"
     ]
    },
    {
     "name": "stderr",
     "output_type": "stream",
     "text": [
      " 33%|███▎      | 1/3 [00:00<00:01,  1.63it/s]"
     ]
    },
    {
     "name": "stdout",
     "output_type": "stream",
     "text": [
      "2025-03-27 04:22:44.091335: response[\"search\"][\"issueCount\"]: 0\n",
      "\n",
      "\n",
      "2025-03-27 04:22:44.093723: Executing query with keyword: label:spam is:pr is:public archived:false created:2006-08-24..2006-10-23, first: 10, afterCursor: None\n",
      "\n"
     ]
    },
    {
     "name": "stderr",
     "output_type": "stream",
     "text": [
      " 67%|██████▋   | 2/3 [00:01<00:00,  1.43it/s]"
     ]
    },
    {
     "name": "stdout",
     "output_type": "stream",
     "text": [
      "2025-03-27 04:22:44.852335: response[\"search\"][\"issueCount\"]: 0\n",
      "\n",
      "\n",
      "2025-03-27 04:22:44.854882: Executing query with keyword: label:ai-spam is:pr is:public archived:false created:2006-08-24..2006-10-23, first: 10, afterCursor: None\n",
      "\n"
     ]
    },
    {
     "name": "stderr",
     "output_type": "stream",
     "text": [
      "100%|██████████| 3/3 [00:02<00:00,  1.45it/s]\n"
     ]
    },
    {
     "name": "stdout",
     "output_type": "stream",
     "text": [
      "2025-03-27 04:22:45.551636: response[\"search\"][\"issueCount\"]: 0\n",
      "\n",
      "\n"
     ]
    },
    {
     "name": "stderr",
     "output_type": "stream",
     "text": [
      "  0%|          | 0/3 [00:00<?, ?it/s]"
     ]
    },
    {
     "name": "stdout",
     "output_type": "stream",
     "text": [
      "2025-03-27 04:22:45.555546: Executing query with keyword: label:\"ai spam\" is:pr is:public archived:false created:2006-10-23..2006-12-22, first: 10, afterCursor: None\n",
      "\n"
     ]
    },
    {
     "name": "stderr",
     "output_type": "stream",
     "text": [
      " 33%|███▎      | 1/3 [00:00<00:01,  1.45it/s]"
     ]
    },
    {
     "name": "stdout",
     "output_type": "stream",
     "text": [
      "2025-03-27 04:22:46.242007: response[\"search\"][\"issueCount\"]: 0\n",
      "\n",
      "\n",
      "2025-03-27 04:22:46.244651: Executing query with keyword: label:spam is:pr is:public archived:false created:2006-10-23..2006-12-22, first: 10, afterCursor: None\n",
      "\n"
     ]
    },
    {
     "name": "stderr",
     "output_type": "stream",
     "text": [
      " 67%|██████▋   | 2/3 [00:01<00:00,  1.44it/s]"
     ]
    },
    {
     "name": "stdout",
     "output_type": "stream",
     "text": [
      "2025-03-27 04:22:46.941408: response[\"search\"][\"issueCount\"]: 0\n",
      "\n",
      "\n",
      "2025-03-27 04:22:46.943147: Executing query with keyword: label:ai-spam is:pr is:public archived:false created:2006-10-23..2006-12-22, first: 10, afterCursor: None\n",
      "\n"
     ]
    },
    {
     "name": "stderr",
     "output_type": "stream",
     "text": [
      "100%|██████████| 3/3 [00:02<00:00,  1.44it/s]\n"
     ]
    },
    {
     "name": "stdout",
     "output_type": "stream",
     "text": [
      "2025-03-27 04:22:47.631437: response[\"search\"][\"issueCount\"]: 0\n",
      "\n",
      "\n"
     ]
    },
    {
     "name": "stderr",
     "output_type": "stream",
     "text": [
      "  0%|          | 0/3 [00:00<?, ?it/s]"
     ]
    },
    {
     "name": "stdout",
     "output_type": "stream",
     "text": [
      "2025-03-27 04:22:47.635905: Executing query with keyword: label:\"ai spam\" is:pr is:public archived:false created:2006-12-22..2007-02-20, first: 10, afterCursor: None\n",
      "\n"
     ]
    },
    {
     "name": "stderr",
     "output_type": "stream",
     "text": [
      " 33%|███▎      | 1/3 [00:00<00:01,  1.50it/s]"
     ]
    },
    {
     "name": "stdout",
     "output_type": "stream",
     "text": [
      "2025-03-27 04:22:48.300976: response[\"search\"][\"issueCount\"]: 0\n",
      "\n",
      "\n",
      "2025-03-27 04:22:48.302739: Executing query with keyword: label:spam is:pr is:public archived:false created:2006-12-22..2007-02-20, first: 10, afterCursor: None\n",
      "\n"
     ]
    },
    {
     "name": "stderr",
     "output_type": "stream",
     "text": [
      " 67%|██████▋   | 2/3 [00:01<00:00,  1.34it/s]"
     ]
    },
    {
     "name": "stdout",
     "output_type": "stream",
     "text": [
      "2025-03-27 04:22:49.100827: response[\"search\"][\"issueCount\"]: 0\n",
      "\n",
      "\n",
      "2025-03-27 04:22:49.102719: Executing query with keyword: label:ai-spam is:pr is:public archived:false created:2006-12-22..2007-02-20, first: 10, afterCursor: None\n",
      "\n"
     ]
    },
    {
     "name": "stderr",
     "output_type": "stream",
     "text": [
      "100%|██████████| 3/3 [00:02<00:00,  1.36it/s]\n"
     ]
    },
    {
     "name": "stdout",
     "output_type": "stream",
     "text": [
      "2025-03-27 04:22:49.831691: response[\"search\"][\"issueCount\"]: 0\n",
      "\n",
      "\n"
     ]
    },
    {
     "name": "stderr",
     "output_type": "stream",
     "text": [
      "  0%|          | 0/3 [00:00<?, ?it/s]"
     ]
    },
    {
     "name": "stdout",
     "output_type": "stream",
     "text": [
      "2025-03-27 04:22:49.836591: Executing query with keyword: label:\"ai spam\" is:pr is:public archived:false created:2007-02-20..2007-04-21, first: 10, afterCursor: None\n",
      "\n"
     ]
    },
    {
     "name": "stderr",
     "output_type": "stream",
     "text": [
      " 33%|███▎      | 1/3 [00:00<00:01,  1.34it/s]"
     ]
    },
    {
     "name": "stdout",
     "output_type": "stream",
     "text": [
      "2025-03-27 04:22:50.581957: response[\"search\"][\"issueCount\"]: 0\n",
      "\n",
      "\n",
      "2025-03-27 04:22:50.584686: Executing query with keyword: label:spam is:pr is:public archived:false created:2007-02-20..2007-04-21, first: 10, afterCursor: None\n",
      "\n"
     ]
    },
    {
     "name": "stderr",
     "output_type": "stream",
     "text": [
      " 67%|██████▋   | 2/3 [00:01<00:00,  1.35it/s]"
     ]
    },
    {
     "name": "stdout",
     "output_type": "stream",
     "text": [
      "2025-03-27 04:22:51.316990: response[\"search\"][\"issueCount\"]: 0\n",
      "\n",
      "\n",
      "2025-03-27 04:22:51.318960: Executing query with keyword: label:ai-spam is:pr is:public archived:false created:2007-02-20..2007-04-21, first: 10, afterCursor: None\n",
      "\n"
     ]
    },
    {
     "name": "stderr",
     "output_type": "stream",
     "text": [
      "100%|██████████| 3/3 [00:02<00:00,  1.27it/s]\n"
     ]
    },
    {
     "name": "stdout",
     "output_type": "stream",
     "text": [
      "2025-03-27 04:22:52.192598: response[\"search\"][\"issueCount\"]: 0\n",
      "\n",
      "\n"
     ]
    },
    {
     "name": "stderr",
     "output_type": "stream",
     "text": [
      "  0%|          | 0/3 [00:00<?, ?it/s]"
     ]
    },
    {
     "name": "stdout",
     "output_type": "stream",
     "text": [
      "2025-03-27 04:22:52.197951: Executing query with keyword: label:\"ai spam\" is:pr is:public archived:false created:2007-04-21..2007-06-20, first: 10, afterCursor: None\n",
      "\n"
     ]
    },
    {
     "name": "stderr",
     "output_type": "stream",
     "text": [
      " 33%|███▎      | 1/3 [00:00<00:01,  1.44it/s]"
     ]
    },
    {
     "name": "stdout",
     "output_type": "stream",
     "text": [
      "2025-03-27 04:22:52.891460: response[\"search\"][\"issueCount\"]: 0\n",
      "\n",
      "\n",
      "2025-03-27 04:22:52.893117: Executing query with keyword: label:spam is:pr is:public archived:false created:2007-04-21..2007-06-20, first: 10, afterCursor: None\n",
      "\n"
     ]
    },
    {
     "name": "stderr",
     "output_type": "stream",
     "text": [
      " 67%|██████▋   | 2/3 [00:01<00:00,  1.24it/s]"
     ]
    },
    {
     "name": "stdout",
     "output_type": "stream",
     "text": [
      "2025-03-27 04:22:53.771356: response[\"search\"][\"issueCount\"]: 0\n",
      "\n",
      "\n",
      "2025-03-27 04:22:53.773089: Executing query with keyword: label:ai-spam is:pr is:public archived:false created:2007-04-21..2007-06-20, first: 10, afterCursor: None\n",
      "\n"
     ]
    },
    {
     "name": "stderr",
     "output_type": "stream",
     "text": [
      "100%|██████████| 3/3 [00:02<00:00,  1.33it/s]\n"
     ]
    },
    {
     "name": "stdout",
     "output_type": "stream",
     "text": [
      "2025-03-27 04:22:54.451251: response[\"search\"][\"issueCount\"]: 0\n",
      "\n",
      "\n"
     ]
    },
    {
     "name": "stderr",
     "output_type": "stream",
     "text": [
      "  0%|          | 0/3 [00:00<?, ?it/s]"
     ]
    },
    {
     "name": "stdout",
     "output_type": "stream",
     "text": [
      "2025-03-27 04:22:54.455556: Executing query with keyword: label:\"ai spam\" is:pr is:public archived:false created:2007-06-20..2007-08-19, first: 10, afterCursor: None\n",
      "\n"
     ]
    },
    {
     "name": "stderr",
     "output_type": "stream",
     "text": [
      " 33%|███▎      | 1/3 [00:00<00:01,  1.62it/s]"
     ]
    },
    {
     "name": "stdout",
     "output_type": "stream",
     "text": [
      "2025-03-27 04:22:55.073119: response[\"search\"][\"issueCount\"]: 0\n",
      "\n",
      "\n",
      "2025-03-27 04:22:55.075627: Executing query with keyword: label:spam is:pr is:public archived:false created:2007-06-20..2007-08-19, first: 10, afterCursor: None\n",
      "\n"
     ]
    },
    {
     "name": "stderr",
     "output_type": "stream",
     "text": [
      " 67%|██████▋   | 2/3 [00:01<00:00,  1.43it/s]"
     ]
    },
    {
     "name": "stdout",
     "output_type": "stream",
     "text": [
      "2025-03-27 04:22:55.830777: response[\"search\"][\"issueCount\"]: 0\n",
      "\n",
      "\n",
      "2025-03-27 04:22:55.832867: Executing query with keyword: label:ai-spam is:pr is:public archived:false created:2007-06-20..2007-08-19, first: 10, afterCursor: None\n",
      "\n"
     ]
    },
    {
     "name": "stderr",
     "output_type": "stream",
     "text": [
      "100%|██████████| 3/3 [00:02<00:00,  1.43it/s]\n"
     ]
    },
    {
     "name": "stdout",
     "output_type": "stream",
     "text": [
      "2025-03-27 04:22:56.551822: response[\"search\"][\"issueCount\"]: 0\n",
      "\n",
      "\n"
     ]
    },
    {
     "name": "stderr",
     "output_type": "stream",
     "text": [
      "  0%|          | 0/3 [00:00<?, ?it/s]"
     ]
    },
    {
     "name": "stdout",
     "output_type": "stream",
     "text": [
      "2025-03-27 04:22:56.557448: Executing query with keyword: label:\"ai spam\" is:pr is:public archived:false created:2007-08-19..2007-10-18, first: 10, afterCursor: None\n",
      "\n"
     ]
    },
    {
     "name": "stderr",
     "output_type": "stream",
     "text": [
      " 33%|███▎      | 1/3 [00:00<00:01,  1.53it/s]"
     ]
    },
    {
     "name": "stdout",
     "output_type": "stream",
     "text": [
      "2025-03-27 04:22:57.211784: response[\"search\"][\"issueCount\"]: 0\n",
      "\n",
      "\n",
      "2025-03-27 04:22:57.213509: Executing query with keyword: label:spam is:pr is:public archived:false created:2007-08-19..2007-10-18, first: 10, afterCursor: None\n",
      "\n"
     ]
    },
    {
     "name": "stderr",
     "output_type": "stream",
     "text": [
      " 67%|██████▋   | 2/3 [00:01<00:00,  1.41it/s]"
     ]
    },
    {
     "name": "stdout",
     "output_type": "stream",
     "text": [
      "2025-03-27 04:22:57.961223: response[\"search\"][\"issueCount\"]: 0\n",
      "\n",
      "\n",
      "2025-03-27 04:22:57.962733: Executing query with keyword: label:ai-spam is:pr is:public archived:false created:2007-08-19..2007-10-18, first: 10, afterCursor: None\n",
      "\n"
     ]
    },
    {
     "name": "stderr",
     "output_type": "stream",
     "text": [
      "100%|██████████| 3/3 [00:02<00:00,  1.44it/s]\n"
     ]
    },
    {
     "name": "stdout",
     "output_type": "stream",
     "text": [
      "2025-03-27 04:22:58.640410: response[\"search\"][\"issueCount\"]: 0\n",
      "\n",
      "\n"
     ]
    },
    {
     "name": "stderr",
     "output_type": "stream",
     "text": [
      "  0%|          | 0/3 [00:00<?, ?it/s]"
     ]
    },
    {
     "name": "stdout",
     "output_type": "stream",
     "text": [
      "2025-03-27 04:22:58.644851: Executing query with keyword: label:\"ai spam\" is:pr is:public archived:false created:2007-10-18..2007-12-17, first: 10, afterCursor: None\n",
      "\n"
     ]
    },
    {
     "name": "stderr",
     "output_type": "stream",
     "text": [
      " 33%|███▎      | 1/3 [00:00<00:01,  1.59it/s]"
     ]
    },
    {
     "name": "stdout",
     "output_type": "stream",
     "text": [
      "2025-03-27 04:22:59.272687: response[\"search\"][\"issueCount\"]: 0\n",
      "\n",
      "\n",
      "2025-03-27 04:22:59.274773: Executing query with keyword: label:spam is:pr is:public archived:false created:2007-10-18..2007-12-17, first: 10, afterCursor: None\n",
      "\n"
     ]
    },
    {
     "name": "stderr",
     "output_type": "stream",
     "text": [
      " 67%|██████▋   | 2/3 [00:01<00:00,  1.48it/s]"
     ]
    },
    {
     "name": "stdout",
     "output_type": "stream",
     "text": [
      "2025-03-27 04:22:59.981419: response[\"search\"][\"issueCount\"]: 0\n",
      "\n",
      "\n",
      "2025-03-27 04:22:59.983494: Executing query with keyword: label:ai-spam is:pr is:public archived:false created:2007-10-18..2007-12-17, first: 10, afterCursor: None\n",
      "\n"
     ]
    },
    {
     "name": "stderr",
     "output_type": "stream",
     "text": [
      "100%|██████████| 3/3 [00:02<00:00,  1.41it/s]\n"
     ]
    },
    {
     "name": "stdout",
     "output_type": "stream",
     "text": [
      "2025-03-27 04:23:00.771081: response[\"search\"][\"issueCount\"]: 0\n",
      "\n",
      "\n"
     ]
    },
    {
     "name": "stderr",
     "output_type": "stream",
     "text": [
      "  0%|          | 0/3 [00:00<?, ?it/s]"
     ]
    },
    {
     "name": "stdout",
     "output_type": "stream",
     "text": [
      "2025-03-27 04:23:00.776492: Executing query with keyword: label:\"ai spam\" is:pr is:public archived:false created:2007-12-17..2008-02-15, first: 10, afterCursor: None\n",
      "\n"
     ]
    },
    {
     "name": "stderr",
     "output_type": "stream",
     "text": [
      " 33%|███▎      | 1/3 [00:00<00:01,  1.39it/s]"
     ]
    },
    {
     "name": "stdout",
     "output_type": "stream",
     "text": [
      "2025-03-27 04:23:01.491286: response[\"search\"][\"issueCount\"]: 0\n",
      "\n",
      "\n",
      "2025-03-27 04:23:01.495692: Executing query with keyword: label:spam is:pr is:public archived:false created:2007-12-17..2008-02-15, first: 10, afterCursor: None\n",
      "\n"
     ]
    },
    {
     "name": "stderr",
     "output_type": "stream",
     "text": [
      " 67%|██████▋   | 2/3 [00:01<00:00,  1.41it/s]"
     ]
    },
    {
     "name": "stdout",
     "output_type": "stream",
     "text": [
      "2025-03-27 04:23:02.192671: response[\"search\"][\"issueCount\"]: 0\n",
      "\n",
      "\n",
      "2025-03-27 04:23:02.194956: Executing query with keyword: label:ai-spam is:pr is:public archived:false created:2007-12-17..2008-02-15, first: 10, afterCursor: None\n",
      "\n"
     ]
    },
    {
     "name": "stderr",
     "output_type": "stream",
     "text": [
      "100%|██████████| 3/3 [00:02<00:00,  1.34it/s]\n"
     ]
    },
    {
     "name": "stdout",
     "output_type": "stream",
     "text": [
      "2025-03-27 04:23:03.011150: response[\"search\"][\"issueCount\"]: 0\n",
      "\n",
      "\n"
     ]
    },
    {
     "name": "stderr",
     "output_type": "stream",
     "text": [
      "  0%|          | 0/3 [00:00<?, ?it/s]"
     ]
    },
    {
     "name": "stdout",
     "output_type": "stream",
     "text": [
      "2025-03-27 04:23:03.015235: Executing query with keyword: label:\"ai spam\" is:pr is:public archived:false created:2008-02-15..2008-04-15, first: 10, afterCursor: None\n",
      "\n"
     ]
    },
    {
     "name": "stderr",
     "output_type": "stream",
     "text": [
      " 33%|███▎      | 1/3 [00:00<00:01,  1.06it/s]"
     ]
    },
    {
     "name": "stdout",
     "output_type": "stream",
     "text": [
      "2025-03-27 04:23:03.961195: response[\"search\"][\"issueCount\"]: 0\n",
      "\n",
      "\n",
      "2025-03-27 04:23:03.962704: Executing query with keyword: label:spam is:pr is:public archived:false created:2008-02-15..2008-04-15, first: 10, afterCursor: None\n",
      "\n"
     ]
    },
    {
     "name": "stderr",
     "output_type": "stream",
     "text": [
      " 67%|██████▋   | 2/3 [00:01<00:00,  1.11it/s]"
     ]
    },
    {
     "name": "stdout",
     "output_type": "stream",
     "text": [
      "2025-03-27 04:23:04.831591: response[\"search\"][\"issueCount\"]: 0\n",
      "\n",
      "\n",
      "2025-03-27 04:23:04.833925: Executing query with keyword: label:ai-spam is:pr is:public archived:false created:2008-02-15..2008-04-15, first: 10, afterCursor: None\n",
      "\n"
     ]
    },
    {
     "name": "stderr",
     "output_type": "stream",
     "text": [
      "100%|██████████| 3/3 [00:02<00:00,  1.17it/s]\n"
     ]
    },
    {
     "name": "stdout",
     "output_type": "stream",
     "text": [
      "2025-03-27 04:23:05.581597: response[\"search\"][\"issueCount\"]: 0\n",
      "\n",
      "\n"
     ]
    },
    {
     "name": "stderr",
     "output_type": "stream",
     "text": [
      "  0%|          | 0/3 [00:00<?, ?it/s]"
     ]
    },
    {
     "name": "stdout",
     "output_type": "stream",
     "text": [
      "2025-03-27 04:23:05.587095: Executing query with keyword: label:\"ai spam\" is:pr is:public archived:false created:2008-04-15..2008-06-14, first: 10, afterCursor: None\n",
      "\n"
     ]
    },
    {
     "name": "stderr",
     "output_type": "stream",
     "text": [
      " 33%|███▎      | 1/3 [00:00<00:01,  1.34it/s]"
     ]
    },
    {
     "name": "stdout",
     "output_type": "stream",
     "text": [
      "2025-03-27 04:23:06.331958: response[\"search\"][\"issueCount\"]: 0\n",
      "\n",
      "\n",
      "2025-03-27 04:23:06.335036: Executing query with keyword: label:spam is:pr is:public archived:false created:2008-04-15..2008-06-14, first: 10, afterCursor: None\n",
      "\n"
     ]
    },
    {
     "name": "stderr",
     "output_type": "stream",
     "text": [
      " 67%|██████▋   | 2/3 [00:01<00:00,  1.35it/s]"
     ]
    },
    {
     "name": "stdout",
     "output_type": "stream",
     "text": [
      "2025-03-27 04:23:07.071817: response[\"search\"][\"issueCount\"]: 0\n",
      "\n",
      "\n",
      "2025-03-27 04:23:07.074119: Executing query with keyword: label:ai-spam is:pr is:public archived:false created:2008-04-15..2008-06-14, first: 10, afterCursor: None\n",
      "\n"
     ]
    },
    {
     "name": "stderr",
     "output_type": "stream",
     "text": [
      "100%|██████████| 3/3 [00:02<00:00,  1.41it/s]\n"
     ]
    },
    {
     "name": "stdout",
     "output_type": "stream",
     "text": [
      "2025-03-27 04:23:07.711461: response[\"search\"][\"issueCount\"]: 0\n",
      "\n",
      "\n"
     ]
    },
    {
     "name": "stderr",
     "output_type": "stream",
     "text": [
      "  0%|          | 0/3 [00:00<?, ?it/s]"
     ]
    },
    {
     "name": "stdout",
     "output_type": "stream",
     "text": [
      "2025-03-27 04:23:07.715437: Executing query with keyword: label:\"ai spam\" is:pr is:public archived:false created:2008-06-14..2008-08-13, first: 10, afterCursor: None\n",
      "\n"
     ]
    },
    {
     "name": "stderr",
     "output_type": "stream",
     "text": [
      " 33%|███▎      | 1/3 [00:00<00:01,  1.37it/s]"
     ]
    },
    {
     "name": "stdout",
     "output_type": "stream",
     "text": [
      "2025-03-27 04:23:08.444999: response[\"search\"][\"issueCount\"]: 0\n",
      "\n",
      "\n",
      "2025-03-27 04:23:08.446976: Executing query with keyword: label:spam is:pr is:public archived:false created:2008-06-14..2008-08-13, first: 10, afterCursor: None\n",
      "\n"
     ]
    },
    {
     "name": "stderr",
     "output_type": "stream",
     "text": [
      " 67%|██████▋   | 2/3 [00:01<00:00,  1.42it/s]"
     ]
    },
    {
     "name": "stdout",
     "output_type": "stream",
     "text": [
      "2025-03-27 04:23:09.132151: response[\"search\"][\"issueCount\"]: 0\n",
      "\n",
      "\n",
      "2025-03-27 04:23:09.134687: Executing query with keyword: label:ai-spam is:pr is:public archived:false created:2008-06-14..2008-08-13, first: 10, afterCursor: None\n",
      "\n"
     ]
    },
    {
     "name": "stderr",
     "output_type": "stream",
     "text": [
      "100%|██████████| 3/3 [00:02<00:00,  1.33it/s]\n"
     ]
    },
    {
     "name": "stdout",
     "output_type": "stream",
     "text": [
      "2025-03-27 04:23:09.972060: response[\"search\"][\"issueCount\"]: 0\n",
      "\n",
      "\n"
     ]
    },
    {
     "name": "stderr",
     "output_type": "stream",
     "text": [
      "  0%|          | 0/3 [00:00<?, ?it/s]"
     ]
    },
    {
     "name": "stdout",
     "output_type": "stream",
     "text": [
      "2025-03-27 04:23:09.978296: Executing query with keyword: label:\"ai spam\" is:pr is:public archived:false created:2008-08-13..2008-10-12, first: 10, afterCursor: None\n",
      "\n"
     ]
    },
    {
     "name": "stderr",
     "output_type": "stream",
     "text": [
      " 33%|███▎      | 1/3 [00:00<00:01,  1.38it/s]"
     ]
    },
    {
     "name": "stdout",
     "output_type": "stream",
     "text": [
      "2025-03-27 04:23:10.702343: response[\"search\"][\"issueCount\"]: 0\n",
      "\n",
      "\n",
      "2025-03-27 04:23:10.704210: Executing query with keyword: label:spam is:pr is:public archived:false created:2008-08-13..2008-10-12, first: 10, afterCursor: None\n",
      "\n"
     ]
    },
    {
     "name": "stderr",
     "output_type": "stream",
     "text": [
      " 67%|██████▋   | 2/3 [00:01<00:00,  1.51it/s]"
     ]
    },
    {
     "name": "stdout",
     "output_type": "stream",
     "text": [
      "2025-03-27 04:23:11.321512: response[\"search\"][\"issueCount\"]: 0\n",
      "\n",
      "\n",
      "2025-03-27 04:23:11.324257: Executing query with keyword: label:ai-spam is:pr is:public archived:false created:2008-08-13..2008-10-12, first: 10, afterCursor: None\n",
      "\n"
     ]
    },
    {
     "name": "stderr",
     "output_type": "stream",
     "text": [
      "100%|██████████| 3/3 [00:02<00:00,  1.42it/s]\n"
     ]
    },
    {
     "name": "stdout",
     "output_type": "stream",
     "text": [
      "2025-03-27 04:23:12.081494: response[\"search\"][\"issueCount\"]: 0\n",
      "\n",
      "\n"
     ]
    },
    {
     "name": "stderr",
     "output_type": "stream",
     "text": [
      "  0%|          | 0/3 [00:00<?, ?it/s]"
     ]
    },
    {
     "name": "stdout",
     "output_type": "stream",
     "text": [
      "2025-03-27 04:23:12.086472: Executing query with keyword: label:\"ai spam\" is:pr is:public archived:false created:2008-10-12..2008-12-11, first: 10, afterCursor: None\n",
      "\n"
     ]
    },
    {
     "name": "stderr",
     "output_type": "stream",
     "text": [
      " 33%|███▎      | 1/3 [00:00<00:01,  1.36it/s]"
     ]
    },
    {
     "name": "stdout",
     "output_type": "stream",
     "text": [
      "2025-03-27 04:23:12.821573: response[\"search\"][\"issueCount\"]: 0\n",
      "\n",
      "\n",
      "2025-03-27 04:23:12.825171: Executing query with keyword: label:spam is:pr is:public archived:false created:2008-10-12..2008-12-11, first: 10, afterCursor: None\n",
      "\n"
     ]
    },
    {
     "name": "stderr",
     "output_type": "stream",
     "text": [
      " 67%|██████▋   | 2/3 [00:01<00:00,  1.41it/s]"
     ]
    },
    {
     "name": "stdout",
     "output_type": "stream",
     "text": [
      "2025-03-27 04:23:13.511374: response[\"search\"][\"issueCount\"]: 0\n",
      "\n",
      "\n",
      "2025-03-27 04:23:13.513704: Executing query with keyword: label:ai-spam is:pr is:public archived:false created:2008-10-12..2008-12-11, first: 10, afterCursor: None\n",
      "\n"
     ]
    },
    {
     "name": "stderr",
     "output_type": "stream",
     "text": [
      "100%|██████████| 3/3 [00:02<00:00,  1.41it/s]\n"
     ]
    },
    {
     "name": "stdout",
     "output_type": "stream",
     "text": [
      "2025-03-27 04:23:14.204511: response[\"search\"][\"issueCount\"]: 0\n",
      "\n",
      "\n"
     ]
    },
    {
     "name": "stderr",
     "output_type": "stream",
     "text": [
      "  0%|          | 0/3 [00:00<?, ?it/s]"
     ]
    },
    {
     "name": "stdout",
     "output_type": "stream",
     "text": [
      "2025-03-27 04:23:14.212797: Executing query with keyword: label:\"ai spam\" is:pr is:public archived:false created:2008-12-11..2009-02-09, first: 10, afterCursor: None\n",
      "\n"
     ]
    },
    {
     "name": "stderr",
     "output_type": "stream",
     "text": [
      " 33%|███▎      | 1/3 [00:00<00:01,  1.45it/s]"
     ]
    },
    {
     "name": "stdout",
     "output_type": "stream",
     "text": [
      "2025-03-27 04:23:14.901336: response[\"search\"][\"issueCount\"]: 0\n",
      "\n",
      "\n",
      "2025-03-27 04:23:14.903654: Executing query with keyword: label:spam is:pr is:public archived:false created:2008-12-11..2009-02-09, first: 10, afterCursor: None\n",
      "\n"
     ]
    },
    {
     "name": "stderr",
     "output_type": "stream",
     "text": [
      " 67%|██████▋   | 2/3 [00:02<00:01,  1.29s/it]"
     ]
    },
    {
     "name": "stdout",
     "output_type": "stream",
     "text": [
      "2025-03-27 04:23:16.614474: response[\"search\"][\"issueCount\"]: 0\n",
      "\n",
      "\n",
      "2025-03-27 04:23:16.617801: Executing query with keyword: label:ai-spam is:pr is:public archived:false created:2008-12-11..2009-02-09, first: 10, afterCursor: None\n",
      "\n"
     ]
    },
    {
     "name": "stderr",
     "output_type": "stream",
     "text": [
      "100%|██████████| 3/3 [00:03<00:00,  1.10s/it]\n"
     ]
    },
    {
     "name": "stdout",
     "output_type": "stream",
     "text": [
      "2025-03-27 04:23:17.521406: response[\"search\"][\"issueCount\"]: 0\n",
      "\n",
      "\n"
     ]
    },
    {
     "name": "stderr",
     "output_type": "stream",
     "text": [
      "  0%|          | 0/3 [00:00<?, ?it/s]"
     ]
    },
    {
     "name": "stdout",
     "output_type": "stream",
     "text": [
      "2025-03-27 04:23:17.526452: Executing query with keyword: label:\"ai spam\" is:pr is:public archived:false created:2009-02-09..2009-04-10, first: 10, afterCursor: None\n",
      "\n"
     ]
    },
    {
     "name": "stderr",
     "output_type": "stream",
     "text": [
      " 33%|███▎      | 1/3 [00:00<00:01,  1.54it/s]"
     ]
    },
    {
     "name": "stdout",
     "output_type": "stream",
     "text": [
      "2025-03-27 04:23:18.174682: response[\"search\"][\"issueCount\"]: 0\n",
      "\n",
      "\n",
      "2025-03-27 04:23:18.176837: Executing query with keyword: label:spam is:pr is:public archived:false created:2009-02-09..2009-04-10, first: 10, afterCursor: None\n",
      "\n"
     ]
    },
    {
     "name": "stderr",
     "output_type": "stream",
     "text": [
      " 67%|██████▋   | 2/3 [00:01<00:00,  1.38it/s]"
     ]
    },
    {
     "name": "stdout",
     "output_type": "stream",
     "text": [
      "2025-03-27 04:23:18.946511: response[\"search\"][\"issueCount\"]: 0\n",
      "\n",
      "\n",
      "2025-03-27 04:23:18.950142: Executing query with keyword: label:ai-spam is:pr is:public archived:false created:2009-02-09..2009-04-10, first: 10, afterCursor: None\n",
      "\n"
     ]
    },
    {
     "name": "stderr",
     "output_type": "stream",
     "text": [
      "100%|██████████| 3/3 [00:02<00:00,  1.38it/s]\n"
     ]
    },
    {
     "name": "stdout",
     "output_type": "stream",
     "text": [
      "2025-03-27 04:23:19.692051: response[\"search\"][\"issueCount\"]: 0\n",
      "\n",
      "\n"
     ]
    },
    {
     "name": "stderr",
     "output_type": "stream",
     "text": [
      "  0%|          | 0/3 [00:00<?, ?it/s]"
     ]
    },
    {
     "name": "stdout",
     "output_type": "stream",
     "text": [
      "2025-03-27 04:23:19.704537: Executing query with keyword: label:\"ai spam\" is:pr is:public archived:false created:2009-04-10..2009-06-09, first: 10, afterCursor: None\n",
      "\n"
     ]
    },
    {
     "name": "stderr",
     "output_type": "stream",
     "text": [
      " 33%|███▎      | 1/3 [00:00<00:01,  1.62it/s]"
     ]
    },
    {
     "name": "stdout",
     "output_type": "stream",
     "text": [
      "2025-03-27 04:23:20.322033: response[\"search\"][\"issueCount\"]: 0\n",
      "\n",
      "\n",
      "2025-03-27 04:23:20.324649: Executing query with keyword: label:spam is:pr is:public archived:false created:2009-04-10..2009-06-09, first: 10, afterCursor: None\n",
      "\n"
     ]
    },
    {
     "name": "stderr",
     "output_type": "stream",
     "text": [
      " 67%|██████▋   | 2/3 [00:01<00:00,  1.46it/s]"
     ]
    },
    {
     "name": "stdout",
     "output_type": "stream",
     "text": [
      "2025-03-27 04:23:21.051874: response[\"search\"][\"issueCount\"]: 0\n",
      "\n",
      "\n",
      "2025-03-27 04:23:21.053836: Executing query with keyword: label:ai-spam is:pr is:public archived:false created:2009-04-10..2009-06-09, first: 10, afterCursor: None\n",
      "\n"
     ]
    },
    {
     "name": "stderr",
     "output_type": "stream",
     "text": [
      "100%|██████████| 3/3 [00:02<00:00,  1.45it/s]\n"
     ]
    },
    {
     "name": "stdout",
     "output_type": "stream",
     "text": [
      "2025-03-27 04:23:21.771572: response[\"search\"][\"issueCount\"]: 0\n",
      "\n",
      "\n"
     ]
    },
    {
     "name": "stderr",
     "output_type": "stream",
     "text": [
      "  0%|          | 0/3 [00:00<?, ?it/s]"
     ]
    },
    {
     "name": "stdout",
     "output_type": "stream",
     "text": [
      "2025-03-27 04:23:21.775605: Executing query with keyword: label:\"ai spam\" is:pr is:public archived:false created:2009-06-09..2009-08-08, first: 10, afterCursor: None\n",
      "\n"
     ]
    },
    {
     "name": "stderr",
     "output_type": "stream",
     "text": [
      " 33%|███▎      | 1/3 [00:00<00:01,  1.57it/s]"
     ]
    },
    {
     "name": "stdout",
     "output_type": "stream",
     "text": [
      "2025-03-27 04:23:22.411903: response[\"search\"][\"issueCount\"]: 0\n",
      "\n",
      "\n",
      "2025-03-27 04:23:22.414476: Executing query with keyword: label:spam is:pr is:public archived:false created:2009-06-09..2009-08-08, first: 10, afterCursor: None\n",
      "\n"
     ]
    },
    {
     "name": "stderr",
     "output_type": "stream",
     "text": [
      " 67%|██████▋   | 2/3 [00:01<00:00,  1.26it/s]"
     ]
    },
    {
     "name": "stdout",
     "output_type": "stream",
     "text": [
      "2025-03-27 04:23:23.315404: response[\"search\"][\"issueCount\"]: 0\n",
      "\n",
      "\n",
      "2025-03-27 04:23:23.319091: Executing query with keyword: label:ai-spam is:pr is:public archived:false created:2009-06-09..2009-08-08, first: 10, afterCursor: None\n",
      "\n"
     ]
    },
    {
     "name": "stderr",
     "output_type": "stream",
     "text": [
      "100%|██████████| 3/3 [00:02<00:00,  1.36it/s]\n"
     ]
    },
    {
     "name": "stdout",
     "output_type": "stream",
     "text": [
      "2025-03-27 04:23:23.971813: response[\"search\"][\"issueCount\"]: 0\n",
      "\n",
      "\n"
     ]
    },
    {
     "name": "stderr",
     "output_type": "stream",
     "text": [
      "  0%|          | 0/3 [00:00<?, ?it/s]"
     ]
    },
    {
     "name": "stdout",
     "output_type": "stream",
     "text": [
      "2025-03-27 04:23:23.976200: Executing query with keyword: label:\"ai spam\" is:pr is:public archived:false created:2009-08-08..2009-10-07, first: 10, afterCursor: None\n",
      "\n"
     ]
    },
    {
     "name": "stderr",
     "output_type": "stream",
     "text": [
      " 33%|███▎      | 1/3 [00:00<00:01,  1.08it/s]"
     ]
    },
    {
     "name": "stdout",
     "output_type": "stream",
     "text": [
      "2025-03-27 04:23:24.902320: response[\"search\"][\"issueCount\"]: 0\n",
      "\n",
      "\n",
      "2025-03-27 04:23:24.904444: Executing query with keyword: label:spam is:pr is:public archived:false created:2009-08-08..2009-10-07, first: 10, afterCursor: None\n",
      "\n"
     ]
    },
    {
     "name": "stderr",
     "output_type": "stream",
     "text": [
      " 67%|██████▋   | 2/3 [00:01<00:00,  1.33it/s]"
     ]
    },
    {
     "name": "stdout",
     "output_type": "stream",
     "text": [
      "2025-03-27 04:23:25.532909: response[\"search\"][\"issueCount\"]: 0\n",
      "\n",
      "\n",
      "2025-03-27 04:23:25.535382: Executing query with keyword: label:ai-spam is:pr is:public archived:false created:2009-08-08..2009-10-07, first: 10, afterCursor: None\n",
      "\n"
     ]
    },
    {
     "name": "stderr",
     "output_type": "stream",
     "text": [
      "100%|██████████| 3/3 [00:02<00:00,  1.28it/s]\n"
     ]
    },
    {
     "name": "stdout",
     "output_type": "stream",
     "text": [
      "2025-03-27 04:23:26.321974: response[\"search\"][\"issueCount\"]: 0\n",
      "\n",
      "\n"
     ]
    },
    {
     "name": "stderr",
     "output_type": "stream",
     "text": [
      "  0%|          | 0/3 [00:00<?, ?it/s]"
     ]
    },
    {
     "name": "stdout",
     "output_type": "stream",
     "text": [
      "2025-03-27 04:23:26.327087: Executing query with keyword: label:\"ai spam\" is:pr is:public archived:false created:2009-10-07..2009-12-06, first: 10, afterCursor: None\n",
      "\n"
     ]
    },
    {
     "name": "stderr",
     "output_type": "stream",
     "text": [
      " 33%|███▎      | 1/3 [00:00<00:01,  1.03it/s]"
     ]
    },
    {
     "name": "stdout",
     "output_type": "stream",
     "text": [
      "2025-03-27 04:23:27.292009: response[\"search\"][\"issueCount\"]: 0\n",
      "\n",
      "\n",
      "2025-03-27 04:23:27.295038: Executing query with keyword: label:spam is:pr is:public archived:false created:2009-10-07..2009-12-06, first: 10, afterCursor: None\n",
      "\n"
     ]
    },
    {
     "name": "stderr",
     "output_type": "stream",
     "text": [
      " 67%|██████▋   | 2/3 [00:01<00:00,  1.21it/s]"
     ]
    },
    {
     "name": "stdout",
     "output_type": "stream",
     "text": [
      "2025-03-27 04:23:28.013219: response[\"search\"][\"issueCount\"]: 0\n",
      "\n",
      "\n",
      "2025-03-27 04:23:28.023960: Executing query with keyword: label:ai-spam is:pr is:public archived:false created:2009-10-07..2009-12-06, first: 10, afterCursor: None\n",
      "\n"
     ]
    },
    {
     "name": "stderr",
     "output_type": "stream",
     "text": [
      "100%|██████████| 3/3 [00:02<00:00,  1.25it/s]\n"
     ]
    },
    {
     "name": "stdout",
     "output_type": "stream",
     "text": [
      "2025-03-27 04:23:28.718849: response[\"search\"][\"issueCount\"]: 0\n",
      "\n",
      "\n"
     ]
    },
    {
     "name": "stderr",
     "output_type": "stream",
     "text": [
      "  0%|          | 0/3 [00:00<?, ?it/s]"
     ]
    },
    {
     "name": "stdout",
     "output_type": "stream",
     "text": [
      "2025-03-27 04:23:28.726113: Executing query with keyword: label:\"ai spam\" is:pr is:public archived:false created:2009-12-06..2010-02-04, first: 10, afterCursor: None\n",
      "\n"
     ]
    },
    {
     "name": "stderr",
     "output_type": "stream",
     "text": [
      " 33%|███▎      | 1/3 [00:00<00:01,  1.13it/s]"
     ]
    },
    {
     "name": "stdout",
     "output_type": "stream",
     "text": [
      "2025-03-27 04:23:29.613105: response[\"search\"][\"issueCount\"]: 0\n",
      "\n",
      "\n",
      "2025-03-27 04:23:29.615870: Executing query with keyword: label:spam is:pr is:public archived:false created:2009-12-06..2010-02-04, first: 10, afterCursor: None\n",
      "\n"
     ]
    },
    {
     "name": "stderr",
     "output_type": "stream",
     "text": [
      " 67%|██████▋   | 2/3 [00:01<00:00,  1.04it/s]"
     ]
    },
    {
     "name": "stdout",
     "output_type": "stream",
     "text": [
      "2025-03-27 04:23:30.632841: response[\"search\"][\"issueCount\"]: 0\n",
      "\n",
      "\n",
      "2025-03-27 04:23:30.634978: Executing query with keyword: label:ai-spam is:pr is:public archived:false created:2009-12-06..2010-02-04, first: 10, afterCursor: None\n",
      "\n"
     ]
    },
    {
     "name": "stderr",
     "output_type": "stream",
     "text": [
      "100%|██████████| 3/3 [00:02<00:00,  1.01it/s]\n"
     ]
    },
    {
     "name": "stdout",
     "output_type": "stream",
     "text": [
      "2025-03-27 04:23:31.681217: response[\"search\"][\"issueCount\"]: 0\n",
      "\n",
      "\n"
     ]
    },
    {
     "name": "stderr",
     "output_type": "stream",
     "text": [
      "  0%|          | 0/3 [00:00<?, ?it/s]"
     ]
    },
    {
     "name": "stdout",
     "output_type": "stream",
     "text": [
      "2025-03-27 04:23:31.686014: Executing query with keyword: label:\"ai spam\" is:pr is:public archived:false created:2010-02-04..2010-04-05, first: 10, afterCursor: None\n",
      "\n"
     ]
    },
    {
     "name": "stderr",
     "output_type": "stream",
     "text": [
      " 33%|███▎      | 1/3 [00:00<00:01,  1.48it/s]"
     ]
    },
    {
     "name": "stdout",
     "output_type": "stream",
     "text": [
      "2025-03-27 04:23:32.362107: response[\"search\"][\"issueCount\"]: 0\n",
      "\n",
      "\n",
      "2025-03-27 04:23:32.364515: Executing query with keyword: label:spam is:pr is:public archived:false created:2010-02-04..2010-04-05, first: 10, afterCursor: None\n",
      "\n"
     ]
    },
    {
     "name": "stderr",
     "output_type": "stream",
     "text": [
      " 67%|██████▋   | 2/3 [00:01<00:00,  1.34it/s]"
     ]
    },
    {
     "name": "stdout",
     "output_type": "stream",
     "text": [
      "2025-03-27 04:23:33.152965: response[\"search\"][\"issueCount\"]: 0\n",
      "\n",
      "\n",
      "2025-03-27 04:23:33.156707: Executing query with keyword: label:ai-spam is:pr is:public archived:false created:2010-02-04..2010-04-05, first: 10, afterCursor: None\n",
      "\n"
     ]
    },
    {
     "name": "stderr",
     "output_type": "stream",
     "text": [
      "100%|██████████| 3/3 [00:02<00:00,  1.32it/s]\n"
     ]
    },
    {
     "name": "stdout",
     "output_type": "stream",
     "text": [
      "2025-03-27 04:23:33.961640: response[\"search\"][\"issueCount\"]: 0\n",
      "\n",
      "\n"
     ]
    },
    {
     "name": "stderr",
     "output_type": "stream",
     "text": [
      "  0%|          | 0/3 [00:00<?, ?it/s]"
     ]
    },
    {
     "name": "stdout",
     "output_type": "stream",
     "text": [
      "2025-03-27 04:23:33.965462: Executing query with keyword: label:\"ai spam\" is:pr is:public archived:false created:2010-04-05..2010-06-04, first: 10, afterCursor: None\n",
      "\n"
     ]
    },
    {
     "name": "stderr",
     "output_type": "stream",
     "text": [
      " 33%|███▎      | 1/3 [00:00<00:01,  1.17it/s]"
     ]
    },
    {
     "name": "stdout",
     "output_type": "stream",
     "text": [
      "2025-03-27 04:23:34.821077: response[\"search\"][\"issueCount\"]: 0\n",
      "\n",
      "\n",
      "2025-03-27 04:23:34.822621: Executing query with keyword: label:spam is:pr is:public archived:false created:2010-04-05..2010-06-04, first: 10, afterCursor: None\n",
      "\n"
     ]
    },
    {
     "name": "stderr",
     "output_type": "stream",
     "text": [
      " 67%|██████▋   | 2/3 [00:01<00:00,  1.36it/s]"
     ]
    },
    {
     "name": "stdout",
     "output_type": "stream",
     "text": [
      "2025-03-27 04:23:35.472411: response[\"search\"][\"issueCount\"]: 0\n",
      "\n",
      "\n",
      "2025-03-27 04:23:35.473915: Executing query with keyword: label:ai-spam is:pr is:public archived:false created:2010-04-05..2010-06-04, first: 10, afterCursor: None\n",
      "\n"
     ]
    },
    {
     "name": "stderr",
     "output_type": "stream",
     "text": [
      "100%|██████████| 3/3 [00:02<00:00,  1.34it/s]\n"
     ]
    },
    {
     "name": "stdout",
     "output_type": "stream",
     "text": [
      "2025-03-27 04:23:36.201541: response[\"search\"][\"issueCount\"]: 0\n",
      "\n",
      "\n"
     ]
    },
    {
     "name": "stderr",
     "output_type": "stream",
     "text": [
      "  0%|          | 0/3 [00:00<?, ?it/s]"
     ]
    },
    {
     "name": "stdout",
     "output_type": "stream",
     "text": [
      "2025-03-27 04:23:36.207510: Executing query with keyword: label:\"ai spam\" is:pr is:public archived:false created:2010-06-04..2010-08-03, first: 10, afterCursor: None\n",
      "\n"
     ]
    },
    {
     "name": "stderr",
     "output_type": "stream",
     "text": [
      " 33%|███▎      | 1/3 [00:00<00:01,  1.40it/s]"
     ]
    },
    {
     "name": "stdout",
     "output_type": "stream",
     "text": [
      "2025-03-27 04:23:36.920882: response[\"search\"][\"issueCount\"]: 0\n",
      "\n",
      "\n",
      "2025-03-27 04:23:36.923215: Executing query with keyword: label:spam is:pr is:public archived:false created:2010-06-04..2010-08-03, first: 10, afterCursor: None\n",
      "\n"
     ]
    },
    {
     "name": "stderr",
     "output_type": "stream",
     "text": [
      " 67%|██████▋   | 2/3 [00:01<00:00,  1.20it/s]"
     ]
    },
    {
     "name": "stdout",
     "output_type": "stream",
     "text": [
      "2025-03-27 04:23:37.841227: response[\"search\"][\"issueCount\"]: 0\n",
      "\n",
      "\n",
      "2025-03-27 04:23:37.844162: Executing query with keyword: label:ai-spam is:pr is:public archived:false created:2010-06-04..2010-08-03, first: 10, afterCursor: None\n",
      "\n"
     ]
    },
    {
     "name": "stderr",
     "output_type": "stream",
     "text": [
      "100%|██████████| 3/3 [00:02<00:00,  1.27it/s]\n"
     ]
    },
    {
     "name": "stdout",
     "output_type": "stream",
     "text": [
      "2025-03-27 04:23:38.562493: response[\"search\"][\"issueCount\"]: 0\n",
      "\n",
      "\n"
     ]
    },
    {
     "name": "stderr",
     "output_type": "stream",
     "text": [
      "  0%|          | 0/3 [00:00<?, ?it/s]"
     ]
    },
    {
     "name": "stdout",
     "output_type": "stream",
     "text": [
      "2025-03-27 04:23:38.567365: Executing query with keyword: label:\"ai spam\" is:pr is:public archived:false created:2010-08-03..2010-10-02, first: 10, afterCursor: None\n",
      "\n"
     ]
    },
    {
     "name": "stderr",
     "output_type": "stream",
     "text": [
      " 33%|███▎      | 1/3 [00:00<00:01,  1.36it/s]"
     ]
    },
    {
     "name": "stdout",
     "output_type": "stream",
     "text": [
      "2025-03-27 04:23:39.302297: response[\"search\"][\"issueCount\"]: 0\n",
      "\n",
      "\n",
      "2025-03-27 04:23:39.305200: Executing query with keyword: label:spam is:pr is:public archived:false created:2010-08-03..2010-10-02, first: 10, afterCursor: None\n",
      "\n"
     ]
    },
    {
     "name": "stderr",
     "output_type": "stream",
     "text": [
      " 67%|██████▋   | 2/3 [00:01<00:00,  1.37it/s]"
     ]
    },
    {
     "name": "stdout",
     "output_type": "stream",
     "text": [
      "2025-03-27 04:23:40.008477: response[\"search\"][\"issueCount\"]: 0\n",
      "\n",
      "\n",
      "2025-03-27 04:23:40.097387: Executing query with keyword: label:ai-spam is:pr is:public archived:false created:2010-08-03..2010-10-02, first: 10, afterCursor: None\n",
      "\n"
     ]
    },
    {
     "name": "stderr",
     "output_type": "stream",
     "text": [
      "100%|██████████| 3/3 [00:02<00:00,  1.34it/s]\n"
     ]
    },
    {
     "name": "stdout",
     "output_type": "stream",
     "text": [
      "2025-03-27 04:23:40.802747: response[\"search\"][\"issueCount\"]: 0\n",
      "\n",
      "\n"
     ]
    },
    {
     "name": "stderr",
     "output_type": "stream",
     "text": [
      "  0%|          | 0/3 [00:00<?, ?it/s]"
     ]
    },
    {
     "name": "stdout",
     "output_type": "stream",
     "text": [
      "2025-03-27 04:23:40.809040: Executing query with keyword: label:\"ai spam\" is:pr is:public archived:false created:2010-10-02..2010-12-01, first: 10, afterCursor: None\n",
      "\n"
     ]
    },
    {
     "name": "stderr",
     "output_type": "stream",
     "text": [
      " 33%|███▎      | 1/3 [00:00<00:01,  1.49it/s]"
     ]
    },
    {
     "name": "stdout",
     "output_type": "stream",
     "text": [
      "2025-03-27 04:23:41.480786: response[\"search\"][\"issueCount\"]: 0\n",
      "\n",
      "\n",
      "2025-03-27 04:23:41.483020: Executing query with keyword: label:spam is:pr is:public archived:false created:2010-10-02..2010-12-01, first: 10, afterCursor: None\n",
      "\n"
     ]
    },
    {
     "name": "stderr",
     "output_type": "stream",
     "text": [
      " 67%|██████▋   | 2/3 [00:01<00:00,  1.47it/s]"
     ]
    },
    {
     "name": "stdout",
     "output_type": "stream",
     "text": [
      "2025-03-27 04:23:42.165490: response[\"search\"][\"issueCount\"]: 0\n",
      "\n",
      "\n",
      "2025-03-27 04:23:42.168749: Executing query with keyword: label:ai-spam is:pr is:public archived:false created:2010-10-02..2010-12-01, first: 10, afterCursor: None\n",
      "\n"
     ]
    },
    {
     "name": "stderr",
     "output_type": "stream",
     "text": [
      "100%|██████████| 3/3 [00:02<00:00,  1.41it/s]\n"
     ]
    },
    {
     "name": "stdout",
     "output_type": "stream",
     "text": [
      "2025-03-27 04:23:42.930359: response[\"search\"][\"issueCount\"]: 0\n",
      "\n",
      "\n"
     ]
    },
    {
     "name": "stderr",
     "output_type": "stream",
     "text": [
      "  0%|          | 0/3 [00:00<?, ?it/s]"
     ]
    },
    {
     "name": "stdout",
     "output_type": "stream",
     "text": [
      "2025-03-27 04:23:42.936143: Executing query with keyword: label:\"ai spam\" is:pr is:public archived:false created:2010-12-01..2011-01-30, first: 10, afterCursor: None\n",
      "\n"
     ]
    },
    {
     "name": "stderr",
     "output_type": "stream",
     "text": [
      " 33%|███▎      | 1/3 [00:00<00:01,  1.43it/s]"
     ]
    },
    {
     "name": "stdout",
     "output_type": "stream",
     "text": [
      "2025-03-27 04:23:43.632045: response[\"search\"][\"issueCount\"]: 0\n",
      "\n",
      "\n",
      "2025-03-27 04:23:43.633904: Executing query with keyword: label:spam is:pr is:public archived:false created:2010-12-01..2011-01-30, first: 10, afterCursor: None\n",
      "\n"
     ]
    },
    {
     "name": "stderr",
     "output_type": "stream",
     "text": [
      " 67%|██████▋   | 2/3 [00:01<00:00,  1.38it/s]"
     ]
    },
    {
     "name": "stdout",
     "output_type": "stream",
     "text": [
      "2025-03-27 04:23:44.372374: response[\"search\"][\"issueCount\"]: 0\n",
      "\n",
      "\n",
      "2025-03-27 04:23:44.375349: Executing query with keyword: label:ai-spam is:pr is:public archived:false created:2010-12-01..2011-01-30, first: 10, afterCursor: None\n",
      "\n"
     ]
    },
    {
     "name": "stderr",
     "output_type": "stream",
     "text": [
      "100%|██████████| 3/3 [00:02<00:00,  1.37it/s]\n"
     ]
    },
    {
     "name": "stdout",
     "output_type": "stream",
     "text": [
      "2025-03-27 04:23:45.123469: response[\"search\"][\"issueCount\"]: 0\n",
      "\n",
      "\n"
     ]
    },
    {
     "name": "stderr",
     "output_type": "stream",
     "text": [
      "  0%|          | 0/3 [00:00<?, ?it/s]"
     ]
    },
    {
     "name": "stdout",
     "output_type": "stream",
     "text": [
      "2025-03-27 04:23:45.129283: Executing query with keyword: label:\"ai spam\" is:pr is:public archived:false created:2011-01-30..2011-03-31, first: 10, afterCursor: None\n",
      "\n"
     ]
    },
    {
     "name": "stderr",
     "output_type": "stream",
     "text": [
      " 33%|███▎      | 1/3 [00:00<00:01,  1.41it/s]"
     ]
    },
    {
     "name": "stdout",
     "output_type": "stream",
     "text": [
      "2025-03-27 04:23:45.837381: response[\"search\"][\"issueCount\"]: 0\n",
      "\n",
      "\n",
      "2025-03-27 04:23:45.839284: Executing query with keyword: label:spam is:pr is:public archived:false created:2011-01-30..2011-03-31, first: 10, afterCursor: None\n",
      "\n"
     ]
    },
    {
     "name": "stderr",
     "output_type": "stream",
     "text": [
      " 67%|██████▋   | 2/3 [00:01<00:00,  1.47it/s]"
     ]
    },
    {
     "name": "stdout",
     "output_type": "stream",
     "text": [
      "2025-03-27 04:23:46.493378: response[\"search\"][\"issueCount\"]: 0\n",
      "\n",
      "\n",
      "2025-03-27 04:23:46.496211: Executing query with keyword: label:ai-spam is:pr is:public archived:false created:2011-01-30..2011-03-31, first: 10, afterCursor: None\n",
      "\n"
     ]
    },
    {
     "name": "stderr",
     "output_type": "stream",
     "text": [
      "100%|██████████| 3/3 [00:02<00:00,  1.43it/s]\n"
     ]
    },
    {
     "name": "stdout",
     "output_type": "stream",
     "text": [
      "2025-03-27 04:23:47.226878: response[\"search\"][\"issueCount\"]: 0\n",
      "\n",
      "\n"
     ]
    },
    {
     "name": "stderr",
     "output_type": "stream",
     "text": [
      "  0%|          | 0/3 [00:00<?, ?it/s]"
     ]
    },
    {
     "name": "stdout",
     "output_type": "stream",
     "text": [
      "2025-03-27 04:23:47.236089: Executing query with keyword: label:\"ai spam\" is:pr is:public archived:false created:2011-03-31..2011-05-30, first: 10, afterCursor: None\n",
      "\n"
     ]
    },
    {
     "name": "stderr",
     "output_type": "stream",
     "text": [
      " 33%|███▎      | 1/3 [00:00<00:01,  1.44it/s]"
     ]
    },
    {
     "name": "stdout",
     "output_type": "stream",
     "text": [
      "2025-03-27 04:23:47.930703: response[\"search\"][\"issueCount\"]: 0\n",
      "\n",
      "\n",
      "2025-03-27 04:23:47.932252: Executing query with keyword: label:spam is:pr is:public archived:false created:2011-03-31..2011-05-30, first: 10, afterCursor: None\n",
      "\n"
     ]
    },
    {
     "name": "stderr",
     "output_type": "stream",
     "text": [
      " 67%|██████▋   | 2/3 [00:01<00:00,  1.54it/s]"
     ]
    },
    {
     "name": "stdout",
     "output_type": "stream",
     "text": [
      "2025-03-27 04:23:48.551190: response[\"search\"][\"issueCount\"]: 0\n",
      "\n",
      "\n",
      "2025-03-27 04:23:48.552893: Executing query with keyword: label:ai-spam is:pr is:public archived:false created:2011-03-31..2011-05-30, first: 10, afterCursor: None\n",
      "\n"
     ]
    },
    {
     "name": "stderr",
     "output_type": "stream",
     "text": [
      "100%|██████████| 3/3 [00:02<00:00,  1.45it/s]\n"
     ]
    },
    {
     "name": "stdout",
     "output_type": "stream",
     "text": [
      "2025-03-27 04:23:49.300951: response[\"search\"][\"issueCount\"]: 0\n",
      "\n",
      "\n"
     ]
    },
    {
     "name": "stderr",
     "output_type": "stream",
     "text": [
      "  0%|          | 0/3 [00:00<?, ?it/s]"
     ]
    },
    {
     "name": "stdout",
     "output_type": "stream",
     "text": [
      "2025-03-27 04:23:49.306214: Executing query with keyword: label:\"ai spam\" is:pr is:public archived:false created:2011-05-30..2011-07-29, first: 10, afterCursor: None\n",
      "\n"
     ]
    },
    {
     "name": "stderr",
     "output_type": "stream",
     "text": [
      " 33%|███▎      | 1/3 [00:00<00:01,  1.38it/s]"
     ]
    },
    {
     "name": "stdout",
     "output_type": "stream",
     "text": [
      "2025-03-27 04:23:50.031062: response[\"search\"][\"issueCount\"]: 0\n",
      "\n",
      "\n",
      "2025-03-27 04:23:50.034073: Executing query with keyword: label:spam is:pr is:public archived:false created:2011-05-30..2011-07-29, first: 10, afterCursor: None\n",
      "\n"
     ]
    },
    {
     "name": "stderr",
     "output_type": "stream",
     "text": [
      " 67%|██████▋   | 2/3 [00:01<00:00,  1.25it/s]"
     ]
    },
    {
     "name": "stdout",
     "output_type": "stream",
     "text": [
      "2025-03-27 04:23:50.881810: response[\"search\"][\"issueCount\"]: 0\n",
      "\n",
      "\n",
      "2025-03-27 04:23:50.884749: Executing query with keyword: label:ai-spam is:pr is:public archived:false created:2011-05-30..2011-07-29, first: 10, afterCursor: None\n",
      "\n"
     ]
    },
    {
     "name": "stderr",
     "output_type": "stream",
     "text": [
      "100%|██████████| 3/3 [00:02<00:00,  1.31it/s]\n"
     ]
    },
    {
     "name": "stdout",
     "output_type": "stream",
     "text": [
      "2025-03-27 04:23:51.601916: response[\"search\"][\"issueCount\"]: 0\n",
      "\n",
      "\n"
     ]
    },
    {
     "name": "stderr",
     "output_type": "stream",
     "text": [
      "  0%|          | 0/3 [00:00<?, ?it/s]"
     ]
    },
    {
     "name": "stdout",
     "output_type": "stream",
     "text": [
      "2025-03-27 04:23:51.606503: Executing query with keyword: label:\"ai spam\" is:pr is:public archived:false created:2011-07-29..2011-09-27, first: 10, afterCursor: None\n",
      "\n"
     ]
    },
    {
     "name": "stderr",
     "output_type": "stream",
     "text": [
      " 33%|███▎      | 1/3 [00:00<00:01,  1.41it/s]"
     ]
    },
    {
     "name": "stdout",
     "output_type": "stream",
     "text": [
      "2025-03-27 04:23:52.313515: response[\"search\"][\"issueCount\"]: 0\n",
      "\n",
      "\n",
      "2025-03-27 04:23:52.317295: Executing query with keyword: label:spam is:pr is:public archived:false created:2011-07-29..2011-09-27, first: 10, afterCursor: None\n",
      "\n"
     ]
    },
    {
     "name": "stderr",
     "output_type": "stream",
     "text": [
      " 67%|██████▋   | 2/3 [00:01<00:00,  1.25it/s]"
     ]
    },
    {
     "name": "stdout",
     "output_type": "stream",
     "text": [
      "2025-03-27 04:23:53.172640: response[\"search\"][\"issueCount\"]: 0\n",
      "\n",
      "\n",
      "2025-03-27 04:23:53.174888: Executing query with keyword: label:ai-spam is:pr is:public archived:false created:2011-07-29..2011-09-27, first: 10, afterCursor: None\n",
      "\n"
     ]
    },
    {
     "name": "stderr",
     "output_type": "stream",
     "text": [
      "100%|██████████| 3/3 [00:02<00:00,  1.38it/s]\n"
     ]
    },
    {
     "name": "stdout",
     "output_type": "stream",
     "text": [
      "2025-03-27 04:23:53.781607: response[\"search\"][\"issueCount\"]: 0\n",
      "\n",
      "\n"
     ]
    },
    {
     "name": "stderr",
     "output_type": "stream",
     "text": [
      "  0%|          | 0/3 [00:00<?, ?it/s]"
     ]
    },
    {
     "name": "stdout",
     "output_type": "stream",
     "text": [
      "2025-03-27 04:23:53.785587: Executing query with keyword: label:\"ai spam\" is:pr is:public archived:false created:2011-09-27..2011-11-26, first: 10, afterCursor: None\n",
      "\n"
     ]
    },
    {
     "name": "stderr",
     "output_type": "stream",
     "text": [
      " 33%|███▎      | 1/3 [00:00<00:01,  1.22it/s]"
     ]
    },
    {
     "name": "stdout",
     "output_type": "stream",
     "text": [
      "2025-03-27 04:23:54.603217: response[\"search\"][\"issueCount\"]: 0\n",
      "\n",
      "\n",
      "2025-03-27 04:23:54.606074: Executing query with keyword: label:spam is:pr is:public archived:false created:2011-09-27..2011-11-26, first: 10, afterCursor: None\n",
      "\n"
     ]
    },
    {
     "name": "stderr",
     "output_type": "stream",
     "text": [
      " 67%|██████▋   | 2/3 [00:01<00:00,  1.30it/s]"
     ]
    },
    {
     "name": "stdout",
     "output_type": "stream",
     "text": [
      "2025-03-27 04:23:55.333202: response[\"search\"][\"issueCount\"]: 0\n",
      "\n",
      "\n",
      "2025-03-27 04:23:55.335817: Executing query with keyword: label:ai-spam is:pr is:public archived:false created:2011-09-27..2011-11-26, first: 10, afterCursor: None\n",
      "\n"
     ]
    },
    {
     "name": "stderr",
     "output_type": "stream",
     "text": [
      "100%|██████████| 3/3 [00:02<00:00,  1.38it/s]\n"
     ]
    },
    {
     "name": "stdout",
     "output_type": "stream",
     "text": [
      "2025-03-27 04:23:55.950645: response[\"search\"][\"issueCount\"]: 0\n",
      "\n",
      "\n"
     ]
    },
    {
     "name": "stderr",
     "output_type": "stream",
     "text": [
      "  0%|          | 0/3 [00:00<?, ?it/s]"
     ]
    },
    {
     "name": "stdout",
     "output_type": "stream",
     "text": [
      "2025-03-27 04:23:55.953243: Executing query with keyword: label:\"ai spam\" is:pr is:public archived:false created:2011-11-26..2012-01-25, first: 10, afterCursor: None\n",
      "\n"
     ]
    },
    {
     "name": "stderr",
     "output_type": "stream",
     "text": [
      " 33%|███▎      | 1/3 [00:00<00:01,  1.33it/s]"
     ]
    },
    {
     "name": "stdout",
     "output_type": "stream",
     "text": [
      "2025-03-27 04:23:56.703073: response[\"search\"][\"issueCount\"]: 0\n",
      "\n",
      "\n",
      "2025-03-27 04:23:56.705340: Executing query with keyword: label:spam is:pr is:public archived:false created:2011-11-26..2012-01-25, first: 10, afterCursor: None\n",
      "\n"
     ]
    },
    {
     "name": "stderr",
     "output_type": "stream",
     "text": [
      " 67%|██████▋   | 2/3 [00:02<00:01,  1.22s/it]"
     ]
    },
    {
     "name": "stdout",
     "output_type": "stream",
     "text": [
      "2025-03-27 04:23:58.243671: response[\"search\"][\"issueCount\"]: 1\n",
      "\n",
      "\n",
      "2025-03-27 04:23:58.247348: Executing query with keyword: label:ai-spam is:pr is:public archived:false created:2011-11-26..2012-01-25, first: 10, afterCursor: None\n",
      "\n"
     ]
    },
    {
     "name": "stderr",
     "output_type": "stream",
     "text": [
      "100%|██████████| 3/3 [00:02<00:00,  1.00it/s]\n"
     ]
    },
    {
     "name": "stdout",
     "output_type": "stream",
     "text": [
      "2025-03-27 04:23:58.949033: response[\"search\"][\"issueCount\"]: 0\n",
      "\n",
      "\n"
     ]
    },
    {
     "name": "stderr",
     "output_type": "stream",
     "text": [
      "  0%|          | 0/3 [00:00<?, ?it/s]"
     ]
    },
    {
     "name": "stdout",
     "output_type": "stream",
     "text": [
      "2025-03-27 04:23:58.952751: Executing query with keyword: label:\"ai spam\" is:pr is:public archived:false created:2012-01-25..2012-03-25, first: 10, afterCursor: None\n",
      "\n"
     ]
    },
    {
     "name": "stderr",
     "output_type": "stream",
     "text": [
      " 33%|███▎      | 1/3 [00:00<00:01,  1.35it/s]"
     ]
    },
    {
     "name": "stdout",
     "output_type": "stream",
     "text": [
      "2025-03-27 04:23:59.692293: response[\"search\"][\"issueCount\"]: 0\n",
      "\n",
      "\n",
      "2025-03-27 04:23:59.695551: Executing query with keyword: label:spam is:pr is:public archived:false created:2012-01-25..2012-03-25, first: 10, afterCursor: None\n",
      "\n"
     ]
    },
    {
     "name": "stderr",
     "output_type": "stream",
     "text": [
      " 67%|██████▋   | 2/3 [00:01<00:00,  1.42it/s]"
     ]
    },
    {
     "name": "stdout",
     "output_type": "stream",
     "text": [
      "2025-03-27 04:24:00.372577: response[\"search\"][\"issueCount\"]: 0\n",
      "\n",
      "\n",
      "2025-03-27 04:24:00.376661: Executing query with keyword: label:ai-spam is:pr is:public archived:false created:2012-01-25..2012-03-25, first: 10, afterCursor: None\n",
      "\n"
     ]
    },
    {
     "name": "stderr",
     "output_type": "stream",
     "text": [
      "100%|██████████| 3/3 [00:02<00:00,  1.36it/s]\n"
     ]
    },
    {
     "name": "stdout",
     "output_type": "stream",
     "text": [
      "2025-03-27 04:24:01.148755: response[\"search\"][\"issueCount\"]: 0\n",
      "\n",
      "\n"
     ]
    },
    {
     "name": "stderr",
     "output_type": "stream",
     "text": [
      "  0%|          | 0/3 [00:00<?, ?it/s]"
     ]
    },
    {
     "name": "stdout",
     "output_type": "stream",
     "text": [
      "2025-03-27 04:24:01.158850: Executing query with keyword: label:\"ai spam\" is:pr is:public archived:false created:2012-03-25..2012-05-24, first: 10, afterCursor: None\n",
      "\n"
     ]
    },
    {
     "name": "stderr",
     "output_type": "stream",
     "text": [
      " 33%|███▎      | 1/3 [00:01<00:02,  1.14s/it]"
     ]
    },
    {
     "name": "stdout",
     "output_type": "stream",
     "text": [
      "2025-03-27 04:24:02.294443: response[\"search\"][\"issueCount\"]: 0\n",
      "\n",
      "\n",
      "2025-03-27 04:24:02.297115: Executing query with keyword: label:spam is:pr is:public archived:false created:2012-03-25..2012-05-24, first: 10, afterCursor: None\n",
      "\n"
     ]
    },
    {
     "name": "stderr",
     "output_type": "stream",
     "text": [
      " 67%|██████▋   | 2/3 [00:01<00:00,  1.14it/s]"
     ]
    },
    {
     "name": "stdout",
     "output_type": "stream",
     "text": [
      "2025-03-27 04:24:02.989557: response[\"search\"][\"issueCount\"]: 0\n",
      "\n",
      "\n",
      "2025-03-27 04:24:02.991078: Executing query with keyword: label:ai-spam is:pr is:public archived:false created:2012-03-25..2012-05-24, first: 10, afterCursor: None\n",
      "\n"
     ]
    },
    {
     "name": "stderr",
     "output_type": "stream",
     "text": [
      "100%|██████████| 3/3 [00:02<00:00,  1.14it/s]\n"
     ]
    },
    {
     "name": "stdout",
     "output_type": "stream",
     "text": [
      "2025-03-27 04:24:03.780490: response[\"search\"][\"issueCount\"]: 0\n",
      "\n",
      "\n"
     ]
    },
    {
     "name": "stderr",
     "output_type": "stream",
     "text": [
      "  0%|          | 0/3 [00:00<?, ?it/s]"
     ]
    },
    {
     "name": "stdout",
     "output_type": "stream",
     "text": [
      "2025-03-27 04:24:03.783458: Executing query with keyword: label:\"ai spam\" is:pr is:public archived:false created:2012-05-24..2012-07-23, first: 10, afterCursor: None\n",
      "\n"
     ]
    },
    {
     "name": "stderr",
     "output_type": "stream",
     "text": [
      " 33%|███▎      | 1/3 [00:00<00:01,  1.24it/s]"
     ]
    },
    {
     "name": "stdout",
     "output_type": "stream",
     "text": [
      "2025-03-27 04:24:04.590062: response[\"search\"][\"issueCount\"]: 0\n",
      "\n",
      "\n",
      "2025-03-27 04:24:04.591103: Executing query with keyword: label:spam is:pr is:public archived:false created:2012-05-24..2012-07-23, first: 10, afterCursor: None\n",
      "\n"
     ]
    },
    {
     "name": "stderr",
     "output_type": "stream",
     "text": [
      " 67%|██████▋   | 2/3 [00:02<00:01,  1.43s/it]"
     ]
    },
    {
     "name": "stdout",
     "output_type": "stream",
     "text": [
      "2025-03-27 04:24:06.458018: response[\"search\"][\"issueCount\"]: 1\n",
      "\n",
      "\n",
      "2025-03-27 04:24:06.461208: Executing query with keyword: label:ai-spam is:pr is:public archived:false created:2012-05-24..2012-07-23, first: 10, afterCursor: None\n",
      "\n"
     ]
    },
    {
     "name": "stderr",
     "output_type": "stream",
     "text": [
      "100%|██████████| 3/3 [00:03<00:00,  1.18s/it]\n"
     ]
    },
    {
     "name": "stdout",
     "output_type": "stream",
     "text": [
      "2025-03-27 04:24:07.326698: response[\"search\"][\"issueCount\"]: 0\n",
      "\n",
      "\n"
     ]
    },
    {
     "name": "stderr",
     "output_type": "stream",
     "text": [
      "  0%|          | 0/3 [00:00<?, ?it/s]"
     ]
    },
    {
     "name": "stdout",
     "output_type": "stream",
     "text": [
      "2025-03-27 04:24:07.333868: Executing query with keyword: label:\"ai spam\" is:pr is:public archived:false created:2012-07-23..2012-09-21, first: 10, afterCursor: None\n",
      "\n"
     ]
    },
    {
     "name": "stderr",
     "output_type": "stream",
     "text": [
      " 33%|███▎      | 1/3 [00:00<00:01,  1.47it/s]"
     ]
    },
    {
     "name": "stdout",
     "output_type": "stream",
     "text": [
      "2025-03-27 04:24:08.012689: response[\"search\"][\"issueCount\"]: 0\n",
      "\n",
      "\n",
      "2025-03-27 04:24:08.016157: Executing query with keyword: label:spam is:pr is:public archived:false created:2012-07-23..2012-09-21, first: 10, afterCursor: None\n",
      "\n"
     ]
    },
    {
     "name": "stderr",
     "output_type": "stream",
     "text": [
      " 67%|██████▋   | 2/3 [00:01<00:00,  1.45it/s]"
     ]
    },
    {
     "name": "stdout",
     "output_type": "stream",
     "text": [
      "2025-03-27 04:24:08.710841: response[\"search\"][\"issueCount\"]: 0\n",
      "\n",
      "\n",
      "2025-03-27 04:24:08.712208: Executing query with keyword: label:ai-spam is:pr is:public archived:false created:2012-07-23..2012-09-21, first: 10, afterCursor: None\n",
      "\n"
     ]
    },
    {
     "name": "stderr",
     "output_type": "stream",
     "text": [
      "100%|██████████| 3/3 [00:02<00:00,  1.43it/s]\n"
     ]
    },
    {
     "name": "stdout",
     "output_type": "stream",
     "text": [
      "2025-03-27 04:24:09.433656: response[\"search\"][\"issueCount\"]: 0\n",
      "\n",
      "\n"
     ]
    },
    {
     "name": "stderr",
     "output_type": "stream",
     "text": [
      "  0%|          | 0/3 [00:00<?, ?it/s]"
     ]
    },
    {
     "name": "stdout",
     "output_type": "stream",
     "text": [
      "2025-03-27 04:24:09.441449: Executing query with keyword: label:\"ai spam\" is:pr is:public archived:false created:2012-09-21..2012-11-20, first: 10, afterCursor: None\n",
      "\n"
     ]
    },
    {
     "name": "stderr",
     "output_type": "stream",
     "text": [
      " 33%|███▎      | 1/3 [00:00<00:01,  1.53it/s]"
     ]
    },
    {
     "name": "stdout",
     "output_type": "stream",
     "text": [
      "2025-03-27 04:24:10.092181: response[\"search\"][\"issueCount\"]: 0\n",
      "\n",
      "\n",
      "2025-03-27 04:24:10.095614: Executing query with keyword: label:spam is:pr is:public archived:false created:2012-09-21..2012-11-20, first: 10, afterCursor: None\n",
      "\n"
     ]
    },
    {
     "name": "stderr",
     "output_type": "stream",
     "text": [
      " 67%|██████▋   | 2/3 [00:01<00:00,  1.41it/s]"
     ]
    },
    {
     "name": "stdout",
     "output_type": "stream",
     "text": [
      "2025-03-27 04:24:10.840139: response[\"search\"][\"issueCount\"]: 0\n",
      "\n",
      "\n",
      "2025-03-27 04:24:10.842986: Executing query with keyword: label:ai-spam is:pr is:public archived:false created:2012-09-21..2012-11-20, first: 10, afterCursor: None\n",
      "\n"
     ]
    },
    {
     "name": "stderr",
     "output_type": "stream",
     "text": [
      "100%|██████████| 3/3 [00:02<00:00,  1.39it/s]\n"
     ]
    },
    {
     "name": "stdout",
     "output_type": "stream",
     "text": [
      "2025-03-27 04:24:11.602141: response[\"search\"][\"issueCount\"]: 0\n",
      "\n",
      "\n"
     ]
    },
    {
     "name": "stderr",
     "output_type": "stream",
     "text": [
      "  0%|          | 0/3 [00:00<?, ?it/s]"
     ]
    },
    {
     "name": "stdout",
     "output_type": "stream",
     "text": [
      "2025-03-27 04:24:11.607016: Executing query with keyword: label:\"ai spam\" is:pr is:public archived:false created:2012-11-20..2013-01-19, first: 10, afterCursor: None\n",
      "\n"
     ]
    },
    {
     "name": "stderr",
     "output_type": "stream",
     "text": [
      " 33%|███▎      | 1/3 [00:00<00:01,  1.34it/s]"
     ]
    },
    {
     "name": "stdout",
     "output_type": "stream",
     "text": [
      "2025-03-27 04:24:12.352092: response[\"search\"][\"issueCount\"]: 0\n",
      "\n",
      "\n",
      "2025-03-27 04:24:12.354967: Executing query with keyword: label:spam is:pr is:public archived:false created:2012-11-20..2013-01-19, first: 10, afterCursor: None\n",
      "\n"
     ]
    },
    {
     "name": "stderr",
     "output_type": "stream",
     "text": [
      " 67%|██████▋   | 2/3 [00:01<00:00,  1.33it/s]"
     ]
    },
    {
     "name": "stdout",
     "output_type": "stream",
     "text": [
      "2025-03-27 04:24:13.102958: response[\"search\"][\"issueCount\"]: 0\n",
      "\n",
      "\n",
      "2025-03-27 04:24:13.105775: Executing query with keyword: label:ai-spam is:pr is:public archived:false created:2012-11-20..2013-01-19, first: 10, afterCursor: None\n",
      "\n"
     ]
    },
    {
     "name": "stderr",
     "output_type": "stream",
     "text": [
      "100%|██████████| 3/3 [00:02<00:00,  1.33it/s]\n"
     ]
    },
    {
     "name": "stdout",
     "output_type": "stream",
     "text": [
      "2025-03-27 04:24:13.854355: response[\"search\"][\"issueCount\"]: 0\n",
      "\n",
      "\n"
     ]
    },
    {
     "name": "stderr",
     "output_type": "stream",
     "text": [
      "  0%|          | 0/3 [00:00<?, ?it/s]"
     ]
    },
    {
     "name": "stdout",
     "output_type": "stream",
     "text": [
      "2025-03-27 04:24:13.860752: Executing query with keyword: label:\"ai spam\" is:pr is:public archived:false created:2013-01-19..2013-03-20, first: 10, afterCursor: None\n",
      "\n"
     ]
    },
    {
     "name": "stderr",
     "output_type": "stream",
     "text": [
      " 33%|███▎      | 1/3 [00:00<00:01,  1.56it/s]"
     ]
    },
    {
     "name": "stdout",
     "output_type": "stream",
     "text": [
      "2025-03-27 04:24:14.501164: response[\"search\"][\"issueCount\"]: 0\n",
      "\n",
      "\n",
      "2025-03-27 04:24:14.503522: Executing query with keyword: label:spam is:pr is:public archived:false created:2013-01-19..2013-03-20, first: 10, afterCursor: None\n",
      "\n"
     ]
    },
    {
     "name": "stderr",
     "output_type": "stream",
     "text": [
      " 67%|██████▋   | 2/3 [00:01<00:00,  1.49it/s]"
     ]
    },
    {
     "name": "stdout",
     "output_type": "stream",
     "text": [
      "2025-03-27 04:24:15.192787: response[\"search\"][\"issueCount\"]: 0\n",
      "\n",
      "\n",
      "2025-03-27 04:24:15.196298: Executing query with keyword: label:ai-spam is:pr is:public archived:false created:2013-01-19..2013-03-20, first: 10, afterCursor: None\n",
      "\n"
     ]
    },
    {
     "name": "stderr",
     "output_type": "stream",
     "text": [
      "100%|██████████| 3/3 [00:02<00:00,  1.47it/s]\n"
     ]
    },
    {
     "name": "stdout",
     "output_type": "stream",
     "text": [
      "2025-03-27 04:24:15.893002: response[\"search\"][\"issueCount\"]: 0\n",
      "\n",
      "\n"
     ]
    },
    {
     "name": "stderr",
     "output_type": "stream",
     "text": [
      "  0%|          | 0/3 [00:00<?, ?it/s]"
     ]
    },
    {
     "name": "stdout",
     "output_type": "stream",
     "text": [
      "2025-03-27 04:24:15.899215: Executing query with keyword: label:\"ai spam\" is:pr is:public archived:false created:2013-03-20..2013-05-19, first: 10, afterCursor: None\n",
      "\n"
     ]
    },
    {
     "name": "stderr",
     "output_type": "stream",
     "text": [
      " 33%|███▎      | 1/3 [00:00<00:01,  1.46it/s]"
     ]
    },
    {
     "name": "stdout",
     "output_type": "stream",
     "text": [
      "2025-03-27 04:24:16.583092: response[\"search\"][\"issueCount\"]: 0\n",
      "\n",
      "\n",
      "2025-03-27 04:24:16.584480: Executing query with keyword: label:spam is:pr is:public archived:false created:2013-03-20..2013-05-19, first: 10, afterCursor: None\n",
      "\n"
     ]
    },
    {
     "name": "stderr",
     "output_type": "stream",
     "text": [
      " 67%|██████▋   | 2/3 [00:02<00:01,  1.46s/it]"
     ]
    },
    {
     "name": "stdout",
     "output_type": "stream",
     "text": [
      "2025-03-27 04:24:18.585288: response[\"search\"][\"issueCount\"]: 1\n",
      "\n",
      "\n",
      "2025-03-27 04:24:18.589428: Executing query with keyword: label:ai-spam is:pr is:public archived:false created:2013-03-20..2013-05-19, first: 10, afterCursor: None\n",
      "\n"
     ]
    },
    {
     "name": "stderr",
     "output_type": "stream",
     "text": [
      "100%|██████████| 3/3 [00:03<00:00,  1.17s/it]\n"
     ]
    },
    {
     "name": "stdout",
     "output_type": "stream",
     "text": [
      "2025-03-27 04:24:19.393223: response[\"search\"][\"issueCount\"]: 0\n",
      "\n",
      "\n"
     ]
    },
    {
     "name": "stderr",
     "output_type": "stream",
     "text": [
      "  0%|          | 0/3 [00:00<?, ?it/s]"
     ]
    },
    {
     "name": "stdout",
     "output_type": "stream",
     "text": [
      "2025-03-27 04:24:19.402330: Executing query with keyword: label:\"ai spam\" is:pr is:public archived:false created:2013-05-19..2013-07-18, first: 10, afterCursor: None\n",
      "\n"
     ]
    },
    {
     "name": "stderr",
     "output_type": "stream",
     "text": [
      " 33%|███▎      | 1/3 [00:00<00:01,  1.54it/s]"
     ]
    },
    {
     "name": "stdout",
     "output_type": "stream",
     "text": [
      "2025-03-27 04:24:20.051091: response[\"search\"][\"issueCount\"]: 0\n",
      "\n",
      "\n",
      "2025-03-27 04:24:20.054396: Executing query with keyword: label:spam is:pr is:public archived:false created:2013-05-19..2013-07-18, first: 10, afterCursor: None\n",
      "\n"
     ]
    },
    {
     "name": "stderr",
     "output_type": "stream",
     "text": [
      " 67%|██████▋   | 2/3 [00:01<00:00,  1.42it/s]"
     ]
    },
    {
     "name": "stdout",
     "output_type": "stream",
     "text": [
      "2025-03-27 04:24:20.792359: response[\"search\"][\"issueCount\"]: 0\n",
      "\n",
      "\n",
      "2025-03-27 04:24:20.796133: Executing query with keyword: label:ai-spam is:pr is:public archived:false created:2013-05-19..2013-07-18, first: 10, afterCursor: None\n",
      "\n"
     ]
    },
    {
     "name": "stderr",
     "output_type": "stream",
     "text": [
      "100%|██████████| 3/3 [00:02<00:00,  1.43it/s]\n"
     ]
    },
    {
     "name": "stdout",
     "output_type": "stream",
     "text": [
      "2025-03-27 04:24:21.498307: response[\"search\"][\"issueCount\"]: 0\n",
      "\n",
      "\n"
     ]
    },
    {
     "name": "stderr",
     "output_type": "stream",
     "text": [
      "  0%|          | 0/3 [00:00<?, ?it/s]"
     ]
    },
    {
     "name": "stdout",
     "output_type": "stream",
     "text": [
      "2025-03-27 04:24:21.501234: Executing query with keyword: label:\"ai spam\" is:pr is:public archived:false created:2013-07-18..2013-09-16, first: 10, afterCursor: None\n",
      "\n"
     ]
    },
    {
     "name": "stderr",
     "output_type": "stream",
     "text": [
      " 33%|███▎      | 1/3 [00:00<00:01,  1.44it/s]"
     ]
    },
    {
     "name": "stdout",
     "output_type": "stream",
     "text": [
      "2025-03-27 04:24:22.192289: response[\"search\"][\"issueCount\"]: 0\n",
      "\n",
      "\n",
      "2025-03-27 04:24:22.195697: Executing query with keyword: label:spam is:pr is:public archived:false created:2013-07-18..2013-09-16, first: 10, afterCursor: None\n",
      "\n"
     ]
    },
    {
     "name": "stderr",
     "output_type": "stream",
     "text": [
      " 67%|██████▋   | 2/3 [00:01<00:00,  1.45it/s]"
     ]
    },
    {
     "name": "stdout",
     "output_type": "stream",
     "text": [
      "2025-03-27 04:24:22.883058: response[\"search\"][\"issueCount\"]: 0\n",
      "\n",
      "\n",
      "2025-03-27 04:24:22.886601: Executing query with keyword: label:ai-spam is:pr is:public archived:false created:2013-07-18..2013-09-16, first: 10, afterCursor: None\n",
      "\n"
     ]
    },
    {
     "name": "stderr",
     "output_type": "stream",
     "text": [
      "100%|██████████| 3/3 [00:02<00:00,  1.44it/s]\n"
     ]
    },
    {
     "name": "stdout",
     "output_type": "stream",
     "text": [
      "2025-03-27 04:24:23.582580: response[\"search\"][\"issueCount\"]: 0\n",
      "\n",
      "\n"
     ]
    },
    {
     "name": "stderr",
     "output_type": "stream",
     "text": [
      "  0%|          | 0/3 [00:00<?, ?it/s]"
     ]
    },
    {
     "name": "stdout",
     "output_type": "stream",
     "text": [
      "2025-03-27 04:24:23.589782: Executing query with keyword: label:\"ai spam\" is:pr is:public archived:false created:2013-09-16..2013-11-15, first: 10, afterCursor: None\n",
      "\n"
     ]
    },
    {
     "name": "stderr",
     "output_type": "stream",
     "text": [
      " 33%|███▎      | 1/3 [00:00<00:01,  1.50it/s]"
     ]
    },
    {
     "name": "stdout",
     "output_type": "stream",
     "text": [
      "2025-03-27 04:24:24.253356: response[\"search\"][\"issueCount\"]: 0\n",
      "\n",
      "\n",
      "2025-03-27 04:24:24.255958: Executing query with keyword: label:spam is:pr is:public archived:false created:2013-09-16..2013-11-15, first: 10, afterCursor: None\n",
      "\n"
     ]
    },
    {
     "name": "stderr",
     "output_type": "stream",
     "text": [
      " 67%|██████▋   | 2/3 [00:01<00:00,  1.24it/s]"
     ]
    },
    {
     "name": "stdout",
     "output_type": "stream",
     "text": [
      "2025-03-27 04:24:25.161578: response[\"search\"][\"issueCount\"]: 0\n",
      "\n",
      "\n",
      "2025-03-27 04:24:25.164168: Executing query with keyword: label:ai-spam is:pr is:public archived:false created:2013-09-16..2013-11-15, first: 10, afterCursor: None\n",
      "\n"
     ]
    },
    {
     "name": "stderr",
     "output_type": "stream",
     "text": [
      "100%|██████████| 3/3 [00:02<00:00,  1.34it/s]\n"
     ]
    },
    {
     "name": "stdout",
     "output_type": "stream",
     "text": [
      "2025-03-27 04:24:25.822702: response[\"search\"][\"issueCount\"]: 0\n",
      "\n",
      "\n"
     ]
    },
    {
     "name": "stderr",
     "output_type": "stream",
     "text": [
      "  0%|          | 0/3 [00:00<?, ?it/s]"
     ]
    },
    {
     "name": "stdout",
     "output_type": "stream",
     "text": [
      "2025-03-27 04:24:25.831522: Executing query with keyword: label:\"ai spam\" is:pr is:public archived:false created:2013-11-15..2014-01-14, first: 10, afterCursor: None\n",
      "\n"
     ]
    },
    {
     "name": "stderr",
     "output_type": "stream",
     "text": [
      " 33%|███▎      | 1/3 [00:00<00:01,  1.40it/s]"
     ]
    },
    {
     "name": "stdout",
     "output_type": "stream",
     "text": [
      "2025-03-27 04:24:26.542591: response[\"search\"][\"issueCount\"]: 0\n",
      "\n",
      "\n",
      "2025-03-27 04:24:26.545764: Executing query with keyword: label:spam is:pr is:public archived:false created:2013-11-15..2014-01-14, first: 10, afterCursor: None\n",
      "\n"
     ]
    },
    {
     "name": "stderr",
     "output_type": "stream",
     "text": [
      " 67%|██████▋   | 2/3 [00:01<00:00,  1.41it/s]"
     ]
    },
    {
     "name": "stdout",
     "output_type": "stream",
     "text": [
      "2025-03-27 04:24:27.251001: response[\"search\"][\"issueCount\"]: 0\n",
      "\n",
      "\n",
      "2025-03-27 04:24:27.253219: Executing query with keyword: label:ai-spam is:pr is:public archived:false created:2013-11-15..2014-01-14, first: 10, afterCursor: None\n",
      "\n"
     ]
    },
    {
     "name": "stderr",
     "output_type": "stream",
     "text": [
      "100%|██████████| 3/3 [00:02<00:00,  1.44it/s]\n"
     ]
    },
    {
     "name": "stdout",
     "output_type": "stream",
     "text": [
      "2025-03-27 04:24:27.910626: response[\"search\"][\"issueCount\"]: 0\n",
      "\n",
      "\n"
     ]
    },
    {
     "name": "stderr",
     "output_type": "stream",
     "text": [
      "  0%|          | 0/3 [00:00<?, ?it/s]"
     ]
    },
    {
     "name": "stdout",
     "output_type": "stream",
     "text": [
      "2025-03-27 04:24:27.913510: Executing query with keyword: label:\"ai spam\" is:pr is:public archived:false created:2014-01-14..2014-03-15, first: 10, afterCursor: None\n",
      "\n"
     ]
    },
    {
     "name": "stderr",
     "output_type": "stream",
     "text": [
      " 33%|███▎      | 1/3 [00:00<00:01,  1.34it/s]"
     ]
    },
    {
     "name": "stdout",
     "output_type": "stream",
     "text": [
      "2025-03-27 04:24:28.655564: response[\"search\"][\"issueCount\"]: 0\n",
      "\n",
      "\n",
      "2025-03-27 04:24:28.658986: Executing query with keyword: label:spam is:pr is:public archived:false created:2014-01-14..2014-03-15, first: 10, afterCursor: None\n",
      "\n"
     ]
    },
    {
     "name": "stderr",
     "output_type": "stream",
     "text": [
      " 67%|██████▋   | 2/3 [00:01<00:00,  1.32it/s]"
     ]
    },
    {
     "name": "stdout",
     "output_type": "stream",
     "text": [
      "2025-03-27 04:24:29.422646: response[\"search\"][\"issueCount\"]: 0\n",
      "\n",
      "\n",
      "2025-03-27 04:24:29.425987: Executing query with keyword: label:ai-spam is:pr is:public archived:false created:2014-01-14..2014-03-15, first: 10, afterCursor: None\n",
      "\n"
     ]
    },
    {
     "name": "stderr",
     "output_type": "stream",
     "text": [
      "100%|██████████| 3/3 [00:02<00:00,  1.34it/s]\n"
     ]
    },
    {
     "name": "stdout",
     "output_type": "stream",
     "text": [
      "2025-03-27 04:24:30.146510: response[\"search\"][\"issueCount\"]: 0\n",
      "\n",
      "\n"
     ]
    },
    {
     "name": "stderr",
     "output_type": "stream",
     "text": [
      "  0%|          | 0/3 [00:00<?, ?it/s]"
     ]
    },
    {
     "name": "stdout",
     "output_type": "stream",
     "text": [
      "2025-03-27 04:24:30.152588: Executing query with keyword: label:\"ai spam\" is:pr is:public archived:false created:2014-03-15..2014-05-14, first: 10, afterCursor: None\n",
      "\n"
     ]
    },
    {
     "name": "stderr",
     "output_type": "stream",
     "text": [
      " 33%|███▎      | 1/3 [00:00<00:01,  1.25it/s]"
     ]
    },
    {
     "name": "stdout",
     "output_type": "stream",
     "text": [
      "2025-03-27 04:24:30.950466: response[\"search\"][\"issueCount\"]: 0\n",
      "\n",
      "\n",
      "2025-03-27 04:24:30.951720: Executing query with keyword: label:spam is:pr is:public archived:false created:2014-03-15..2014-05-14, first: 10, afterCursor: None\n",
      "\n"
     ]
    },
    {
     "name": "stderr",
     "output_type": "stream",
     "text": [
      " 67%|██████▋   | 2/3 [00:01<00:00,  1.37it/s]"
     ]
    },
    {
     "name": "stdout",
     "output_type": "stream",
     "text": [
      "2025-03-27 04:24:31.631557: response[\"search\"][\"issueCount\"]: 0\n",
      "\n",
      "\n",
      "2025-03-27 04:24:31.633652: Executing query with keyword: label:ai-spam is:pr is:public archived:false created:2014-03-15..2014-05-14, first: 10, afterCursor: None\n",
      "\n"
     ]
    },
    {
     "name": "stderr",
     "output_type": "stream",
     "text": [
      "100%|██████████| 3/3 [00:02<00:00,  1.37it/s]\n"
     ]
    },
    {
     "name": "stdout",
     "output_type": "stream",
     "text": [
      "2025-03-27 04:24:32.343144: response[\"search\"][\"issueCount\"]: 0\n",
      "\n",
      "\n"
     ]
    },
    {
     "name": "stderr",
     "output_type": "stream",
     "text": [
      "  0%|          | 0/3 [00:00<?, ?it/s]"
     ]
    },
    {
     "name": "stdout",
     "output_type": "stream",
     "text": [
      "2025-03-27 04:24:32.348427: Executing query with keyword: label:\"ai spam\" is:pr is:public archived:false created:2014-05-14..2014-07-13, first: 10, afterCursor: None\n",
      "\n"
     ]
    },
    {
     "name": "stderr",
     "output_type": "stream",
     "text": [
      " 33%|███▎      | 1/3 [00:00<00:01,  1.26it/s]"
     ]
    },
    {
     "name": "stdout",
     "output_type": "stream",
     "text": [
      "2025-03-27 04:24:33.140217: response[\"search\"][\"issueCount\"]: 0\n",
      "\n",
      "\n",
      "2025-03-27 04:24:33.144000: Executing query with keyword: label:spam is:pr is:public archived:false created:2014-05-14..2014-07-13, first: 10, afterCursor: None\n",
      "\n"
     ]
    },
    {
     "name": "stderr",
     "output_type": "stream",
     "text": [
      " 67%|██████▋   | 2/3 [00:01<00:00,  1.30it/s]"
     ]
    },
    {
     "name": "stdout",
     "output_type": "stream",
     "text": [
      "2025-03-27 04:24:33.892376: response[\"search\"][\"issueCount\"]: 0\n",
      "\n",
      "\n",
      "2025-03-27 04:24:33.896400: Executing query with keyword: label:ai-spam is:pr is:public archived:false created:2014-05-14..2014-07-13, first: 10, afterCursor: None\n",
      "\n"
     ]
    },
    {
     "name": "stderr",
     "output_type": "stream",
     "text": [
      "100%|██████████| 3/3 [00:02<00:00,  1.29it/s]\n"
     ]
    },
    {
     "name": "stdout",
     "output_type": "stream",
     "text": [
      "2025-03-27 04:24:34.662923: response[\"search\"][\"issueCount\"]: 0\n",
      "\n",
      "\n"
     ]
    },
    {
     "name": "stderr",
     "output_type": "stream",
     "text": [
      "  0%|          | 0/3 [00:00<?, ?it/s]"
     ]
    },
    {
     "name": "stdout",
     "output_type": "stream",
     "text": [
      "2025-03-27 04:24:34.668647: Executing query with keyword: label:\"ai spam\" is:pr is:public archived:false created:2014-07-13..2014-09-11, first: 10, afterCursor: None\n",
      "\n"
     ]
    },
    {
     "name": "stderr",
     "output_type": "stream",
     "text": [
      " 33%|███▎      | 1/3 [00:00<00:01,  1.30it/s]"
     ]
    },
    {
     "name": "stdout",
     "output_type": "stream",
     "text": [
      "2025-03-27 04:24:35.434245: response[\"search\"][\"issueCount\"]: 0\n",
      "\n",
      "\n",
      "2025-03-27 04:24:35.438429: Executing query with keyword: label:spam is:pr is:public archived:false created:2014-07-13..2014-09-11, first: 10, afterCursor: None\n",
      "\n"
     ]
    },
    {
     "name": "stderr",
     "output_type": "stream",
     "text": [
      " 67%|██████▋   | 2/3 [00:01<00:00,  1.35it/s]"
     ]
    },
    {
     "name": "stdout",
     "output_type": "stream",
     "text": [
      "2025-03-27 04:24:36.160412: response[\"search\"][\"issueCount\"]: 0\n",
      "\n",
      "\n",
      "2025-03-27 04:24:36.161953: Executing query with keyword: label:ai-spam is:pr is:public archived:false created:2014-07-13..2014-09-11, first: 10, afterCursor: None\n",
      "\n"
     ]
    },
    {
     "name": "stderr",
     "output_type": "stream",
     "text": [
      "100%|██████████| 3/3 [00:02<00:00,  1.35it/s]\n"
     ]
    },
    {
     "name": "stdout",
     "output_type": "stream",
     "text": [
      "2025-03-27 04:24:36.886865: response[\"search\"][\"issueCount\"]: 0\n",
      "\n",
      "\n"
     ]
    },
    {
     "name": "stderr",
     "output_type": "stream",
     "text": [
      "  0%|          | 0/3 [00:00<?, ?it/s]"
     ]
    },
    {
     "name": "stdout",
     "output_type": "stream",
     "text": [
      "2025-03-27 04:24:36.894308: Executing query with keyword: label:\"ai spam\" is:pr is:public archived:false created:2014-09-11..2014-11-10, first: 10, afterCursor: None\n",
      "\n"
     ]
    },
    {
     "name": "stderr",
     "output_type": "stream",
     "text": [
      " 33%|███▎      | 1/3 [00:00<00:01,  1.46it/s]"
     ]
    },
    {
     "name": "stdout",
     "output_type": "stream",
     "text": [
      "2025-03-27 04:24:37.580175: response[\"search\"][\"issueCount\"]: 0\n",
      "\n",
      "\n",
      "2025-03-27 04:24:37.581345: Executing query with keyword: label:spam is:pr is:public archived:false created:2014-09-11..2014-11-10, first: 10, afterCursor: None\n",
      "\n"
     ]
    },
    {
     "name": "stderr",
     "output_type": "stream",
     "text": [
      " 67%|██████▋   | 2/3 [00:01<00:00,  1.33it/s]"
     ]
    },
    {
     "name": "stdout",
     "output_type": "stream",
     "text": [
      "2025-03-27 04:24:38.380380: response[\"search\"][\"issueCount\"]: 0\n",
      "\n",
      "\n",
      "2025-03-27 04:24:38.381890: Executing query with keyword: label:ai-spam is:pr is:public archived:false created:2014-09-11..2014-11-10, first: 10, afterCursor: None\n",
      "\n"
     ]
    },
    {
     "name": "stderr",
     "output_type": "stream",
     "text": [
      "100%|██████████| 3/3 [00:02<00:00,  1.32it/s]\n"
     ]
    },
    {
     "name": "stdout",
     "output_type": "stream",
     "text": [
      "2025-03-27 04:24:39.172217: response[\"search\"][\"issueCount\"]: 0\n",
      "\n",
      "\n"
     ]
    },
    {
     "name": "stderr",
     "output_type": "stream",
     "text": [
      "  0%|          | 0/3 [00:00<?, ?it/s]"
     ]
    },
    {
     "name": "stdout",
     "output_type": "stream",
     "text": [
      "2025-03-27 04:24:39.175936: Executing query with keyword: label:\"ai spam\" is:pr is:public archived:false created:2014-11-10..2015-01-09, first: 10, afterCursor: None\n",
      "\n"
     ]
    },
    {
     "name": "stderr",
     "output_type": "stream",
     "text": [
      " 33%|███▎      | 1/3 [00:00<00:01,  1.41it/s]"
     ]
    },
    {
     "name": "stdout",
     "output_type": "stream",
     "text": [
      "2025-03-27 04:24:39.881590: response[\"search\"][\"issueCount\"]: 0\n",
      "\n",
      "\n",
      "2025-03-27 04:24:39.883180: Executing query with keyword: label:spam is:pr is:public archived:false created:2014-11-10..2015-01-09, first: 10, afterCursor: None\n",
      "\n"
     ]
    },
    {
     "name": "stderr",
     "output_type": "stream",
     "text": [
      " 67%|██████▋   | 2/3 [00:01<00:00,  1.46it/s]"
     ]
    },
    {
     "name": "stdout",
     "output_type": "stream",
     "text": [
      "2025-03-27 04:24:40.551904: response[\"search\"][\"issueCount\"]: 0\n",
      "\n",
      "\n",
      "2025-03-27 04:24:40.553274: Executing query with keyword: label:ai-spam is:pr is:public archived:false created:2014-11-10..2015-01-09, first: 10, afterCursor: None\n",
      "\n"
     ]
    },
    {
     "name": "stderr",
     "output_type": "stream",
     "text": [
      "100%|██████████| 3/3 [00:02<00:00,  1.42it/s]\n"
     ]
    },
    {
     "name": "stdout",
     "output_type": "stream",
     "text": [
      "2025-03-27 04:24:41.290315: response[\"search\"][\"issueCount\"]: 0\n",
      "\n",
      "\n"
     ]
    },
    {
     "name": "stderr",
     "output_type": "stream",
     "text": [
      "  0%|          | 0/3 [00:00<?, ?it/s]"
     ]
    },
    {
     "name": "stdout",
     "output_type": "stream",
     "text": [
      "2025-03-27 04:24:41.292931: Executing query with keyword: label:\"ai spam\" is:pr is:public archived:false created:2015-01-09..2015-03-10, first: 10, afterCursor: None\n",
      "\n"
     ]
    },
    {
     "name": "stderr",
     "output_type": "stream",
     "text": [
      " 33%|███▎      | 1/3 [00:00<00:01,  1.22it/s]"
     ]
    },
    {
     "name": "stdout",
     "output_type": "stream",
     "text": [
      "2025-03-27 04:24:42.110982: response[\"search\"][\"issueCount\"]: 0\n",
      "\n",
      "\n",
      "2025-03-27 04:24:42.112892: Executing query with keyword: label:spam is:pr is:public archived:false created:2015-01-09..2015-03-10, first: 10, afterCursor: None\n",
      "\n"
     ]
    },
    {
     "name": "stderr",
     "output_type": "stream",
     "text": [
      " 67%|██████▋   | 2/3 [00:01<00:00,  1.36it/s]"
     ]
    },
    {
     "name": "stdout",
     "output_type": "stream",
     "text": [
      "2025-03-27 04:24:42.790389: response[\"search\"][\"issueCount\"]: 0\n",
      "\n",
      "\n",
      "2025-03-27 04:24:42.792245: Executing query with keyword: label:ai-spam is:pr is:public archived:false created:2015-01-09..2015-03-10, first: 10, afterCursor: None\n",
      "\n"
     ]
    },
    {
     "name": "stderr",
     "output_type": "stream",
     "text": [
      "100%|██████████| 3/3 [00:02<00:00,  1.35it/s]\n"
     ]
    },
    {
     "name": "stdout",
     "output_type": "stream",
     "text": [
      "2025-03-27 04:24:43.510589: response[\"search\"][\"issueCount\"]: 0\n",
      "\n",
      "\n"
     ]
    },
    {
     "name": "stderr",
     "output_type": "stream",
     "text": [
      "  0%|          | 0/3 [00:00<?, ?it/s]"
     ]
    },
    {
     "name": "stdout",
     "output_type": "stream",
     "text": [
      "2025-03-27 04:24:43.514271: Executing query with keyword: label:\"ai spam\" is:pr is:public archived:false created:2015-03-10..2015-05-09, first: 10, afterCursor: None\n",
      "\n"
     ]
    },
    {
     "name": "stderr",
     "output_type": "stream",
     "text": [
      " 33%|███▎      | 1/3 [00:00<00:01,  1.56it/s]"
     ]
    },
    {
     "name": "stdout",
     "output_type": "stream",
     "text": [
      "2025-03-27 04:24:44.152519: response[\"search\"][\"issueCount\"]: 0\n",
      "\n",
      "\n",
      "2025-03-27 04:24:44.155021: Executing query with keyword: label:spam is:pr is:public archived:false created:2015-03-10..2015-05-09, first: 10, afterCursor: None\n",
      "\n"
     ]
    },
    {
     "name": "stderr",
     "output_type": "stream",
     "text": [
      " 67%|██████▋   | 2/3 [00:01<00:00,  1.40it/s]"
     ]
    },
    {
     "name": "stdout",
     "output_type": "stream",
     "text": [
      "2025-03-27 04:24:44.920567: response[\"search\"][\"issueCount\"]: 0\n",
      "\n",
      "\n",
      "2025-03-27 04:24:44.922046: Executing query with keyword: label:ai-spam is:pr is:public archived:false created:2015-03-10..2015-05-09, first: 10, afterCursor: None\n",
      "\n"
     ]
    },
    {
     "name": "stderr",
     "output_type": "stream",
     "text": [
      "100%|██████████| 3/3 [00:02<00:00,  1.43it/s]\n"
     ]
    },
    {
     "name": "stdout",
     "output_type": "stream",
     "text": [
      "2025-03-27 04:24:45.603024: response[\"search\"][\"issueCount\"]: 0\n",
      "\n",
      "\n"
     ]
    },
    {
     "name": "stderr",
     "output_type": "stream",
     "text": [
      "  0%|          | 0/3 [00:00<?, ?it/s]"
     ]
    },
    {
     "name": "stdout",
     "output_type": "stream",
     "text": [
      "2025-03-27 04:24:45.610106: Executing query with keyword: label:\"ai spam\" is:pr is:public archived:false created:2015-05-09..2015-07-08, first: 10, afterCursor: None\n",
      "\n"
     ]
    },
    {
     "name": "stderr",
     "output_type": "stream",
     "text": [
      " 33%|███▎      | 1/3 [00:00<00:01,  1.42it/s]"
     ]
    },
    {
     "name": "stdout",
     "output_type": "stream",
     "text": [
      "2025-03-27 04:24:46.311374: response[\"search\"][\"issueCount\"]: 0\n",
      "\n",
      "\n",
      "2025-03-27 04:24:46.313121: Executing query with keyword: label:spam is:pr is:public archived:false created:2015-05-09..2015-07-08, first: 10, afterCursor: None\n",
      "\n"
     ]
    },
    {
     "name": "stderr",
     "output_type": "stream",
     "text": [
      " 67%|██████▋   | 2/3 [00:01<00:00,  1.40it/s]"
     ]
    },
    {
     "name": "stdout",
     "output_type": "stream",
     "text": [
      "2025-03-27 04:24:47.030887: response[\"search\"][\"issueCount\"]: 0\n",
      "\n",
      "\n",
      "2025-03-27 04:24:47.033523: Executing query with keyword: label:ai-spam is:pr is:public archived:false created:2015-05-09..2015-07-08, first: 10, afterCursor: None\n",
      "\n"
     ]
    },
    {
     "name": "stderr",
     "output_type": "stream",
     "text": [
      "100%|██████████| 3/3 [00:02<00:00,  1.41it/s]\n"
     ]
    },
    {
     "name": "stdout",
     "output_type": "stream",
     "text": [
      "2025-03-27 04:24:47.740567: response[\"search\"][\"issueCount\"]: 0\n",
      "\n",
      "\n"
     ]
    },
    {
     "name": "stderr",
     "output_type": "stream",
     "text": [
      "  0%|          | 0/3 [00:00<?, ?it/s]"
     ]
    },
    {
     "name": "stdout",
     "output_type": "stream",
     "text": [
      "2025-03-27 04:24:47.744386: Executing query with keyword: label:\"ai spam\" is:pr is:public archived:false created:2015-07-08..2015-09-06, first: 10, afterCursor: None\n",
      "\n"
     ]
    },
    {
     "name": "stderr",
     "output_type": "stream",
     "text": [
      " 33%|███▎      | 1/3 [00:00<00:01,  1.48it/s]"
     ]
    },
    {
     "name": "stdout",
     "output_type": "stream",
     "text": [
      "2025-03-27 04:24:48.420286: response[\"search\"][\"issueCount\"]: 0\n",
      "\n",
      "\n",
      "2025-03-27 04:24:48.421571: Executing query with keyword: label:spam is:pr is:public archived:false created:2015-07-08..2015-09-06, first: 10, afterCursor: None\n",
      "\n"
     ]
    },
    {
     "name": "stderr",
     "output_type": "stream",
     "text": [
      " 33%|███▎      | 1/3 [00:01<00:02,  1.01s/it]\n"
     ]
    },
    {
     "ename": "KeyboardInterrupt",
     "evalue": "",
     "output_type": "error",
     "traceback": [
      "\u001b[0;31m---------------------------------------------------------------------------\u001b[0m",
      "\u001b[0;31mKeyboardInterrupt\u001b[0m                         Traceback (most recent call last)",
      "Cell \u001b[0;32mIn[66], line 25\u001b[0m\n\u001b[1;32m     23\u001b[0m after_cursor \u001b[38;5;241m=\u001b[39m \u001b[38;5;28;01mNone\u001b[39;00m\n\u001b[1;32m     24\u001b[0m \u001b[38;5;28;01mwhile\u001b[39;00m \u001b[38;5;28;01mTrue\u001b[39;00m:\n\u001b[0;32m---> 25\u001b[0m     response \u001b[38;5;241m=\u001b[39m \u001b[43mexecute_query\u001b[49m\u001b[43m(\u001b[49m\n\u001b[1;32m     26\u001b[0m \u001b[43m        \u001b[49m\u001b[43msearch_keyword\u001b[49m\u001b[43m,\u001b[49m\u001b[43m \u001b[49m\u001b[43mfirst\u001b[49m\u001b[38;5;241;43m=\u001b[39;49m\u001b[38;5;241;43m10\u001b[39;49m\u001b[43m,\u001b[49m\u001b[43m \u001b[49m\u001b[43mafter_cursor\u001b[49m\u001b[38;5;241;43m=\u001b[39;49m\u001b[43mafter_cursor\u001b[49m\n\u001b[1;32m     27\u001b[0m \u001b[43m    \u001b[49m\u001b[43m)\u001b[49m\n\u001b[1;32m     28\u001b[0m     log_activity(\n\u001b[1;32m     29\u001b[0m         \u001b[38;5;124mf\u001b[39m\u001b[38;5;124m'\u001b[39m\u001b[38;5;124mresponse[\u001b[39m\u001b[38;5;124m\"\u001b[39m\u001b[38;5;124msearch\u001b[39m\u001b[38;5;124m\"\u001b[39m\u001b[38;5;124m][\u001b[39m\u001b[38;5;124m\"\u001b[39m\u001b[38;5;124missueCount\u001b[39m\u001b[38;5;124m\"\u001b[39m\u001b[38;5;124m]: \u001b[39m\u001b[38;5;132;01m{\u001b[39;00mresponse[\u001b[38;5;124m\"\u001b[39m\u001b[38;5;124msearch\u001b[39m\u001b[38;5;124m\"\u001b[39m][\u001b[38;5;124m\"\u001b[39m\u001b[38;5;124missueCount\u001b[39m\u001b[38;5;124m\"\u001b[39m]\u001b[38;5;132;01m}\u001b[39;00m\u001b[38;5;130;01m\\n\u001b[39;00m\u001b[38;5;124m'\u001b[39m\n\u001b[1;32m     30\u001b[0m     )\n\u001b[1;32m     31\u001b[0m     \u001b[38;5;28;01mif\u001b[39;00m response[\u001b[38;5;124m\"\u001b[39m\u001b[38;5;124msearch\u001b[39m\u001b[38;5;124m\"\u001b[39m][\u001b[38;5;124m\"\u001b[39m\u001b[38;5;124missueCount\u001b[39m\u001b[38;5;124m\"\u001b[39m] \u001b[38;5;241m==\u001b[39m \u001b[38;5;241m0\u001b[39m:\n",
      "Cell \u001b[0;32mIn[63], line 62\u001b[0m, in \u001b[0;36mexecute_query\u001b[0;34m(keyword, first, after_cursor)\u001b[0m\n\u001b[1;32m     59\u001b[0m                 all_tokens_checked \u001b[38;5;241m=\u001b[39m \u001b[38;5;28;01mTrue\u001b[39;00m\n\u001b[1;32m     61\u001b[0m         \u001b[38;5;28;01mcontinue\u001b[39;00m\n\u001b[0;32m---> 62\u001b[0m     \u001b[38;5;28;01mreturn\u001b[39;00m \u001b[43mclient\u001b[49m\u001b[38;5;241;43m.\u001b[39;49m\u001b[43mexecute\u001b[49m\u001b[43m(\u001b[49m\n\u001b[1;32m     63\u001b[0m \u001b[43m        \u001b[49m\u001b[43mquery_template\u001b[49m\u001b[43m,\u001b[49m\n\u001b[1;32m     64\u001b[0m \u001b[43m        \u001b[49m\u001b[43mvariable_values\u001b[49m\u001b[38;5;241;43m=\u001b[39;49m\u001b[43m{\u001b[49m\n\u001b[1;32m     65\u001b[0m \u001b[43m            \u001b[49m\u001b[38;5;124;43m\"\u001b[39;49m\u001b[38;5;124;43mkeyword\u001b[39;49m\u001b[38;5;124;43m\"\u001b[39;49m\u001b[43m:\u001b[49m\u001b[43m \u001b[49m\u001b[43mkeyword\u001b[49m\u001b[43m,\u001b[49m\n\u001b[1;32m     66\u001b[0m \u001b[43m            \u001b[49m\u001b[38;5;124;43m\"\u001b[39;49m\u001b[38;5;124;43mfirst\u001b[39;49m\u001b[38;5;124;43m\"\u001b[39;49m\u001b[43m:\u001b[49m\u001b[43m \u001b[49m\u001b[43mfirst\u001b[49m\u001b[43m,\u001b[49m\n\u001b[1;32m     67\u001b[0m \u001b[43m            \u001b[49m\u001b[38;5;124;43m\"\u001b[39;49m\u001b[38;5;124;43mafterCursor\u001b[39;49m\u001b[38;5;124;43m\"\u001b[39;49m\u001b[43m:\u001b[49m\u001b[43m \u001b[49m\u001b[43mafter_cursor\u001b[49m\u001b[43m,\u001b[49m\n\u001b[1;32m     68\u001b[0m \u001b[43m        \u001b[49m\u001b[43m}\u001b[49m\u001b[43m,\u001b[49m\n\u001b[1;32m     69\u001b[0m \u001b[43m    \u001b[49m\u001b[43m)\u001b[49m\n\u001b[1;32m     70\u001b[0m \u001b[38;5;28;01mexcept\u001b[39;00m \u001b[38;5;167;01mException\u001b[39;00m \u001b[38;5;28;01mas\u001b[39;00m e:\n\u001b[1;32m     71\u001b[0m     \u001b[38;5;28;01mif\u001b[39;00m \u001b[38;5;124m\"\u001b[39m\u001b[38;5;124mAPI rate limit\u001b[39m\u001b[38;5;124m\"\u001b[39m \u001b[38;5;129;01min\u001b[39;00m \u001b[38;5;28mstr\u001b[39m(e):\n",
      "File \u001b[0;32m~/Documents/ayo-workspace/iwadi/spam/spam/lib/python3.13/site-packages/gql/client.py:484\u001b[0m, in \u001b[0;36mClient.execute\u001b[0;34m(self, document, variable_values, operation_name, serialize_variables, parse_result, get_execution_result, **kwargs)\u001b[0m\n\u001b[1;32m    481\u001b[0m     \u001b[38;5;28;01mreturn\u001b[39;00m data\n\u001b[1;32m    483\u001b[0m \u001b[38;5;28;01melse\u001b[39;00m:  \u001b[38;5;66;03m# Sync transports\u001b[39;00m\n\u001b[0;32m--> 484\u001b[0m     \u001b[38;5;28;01mreturn\u001b[39;00m \u001b[38;5;28;43mself\u001b[39;49m\u001b[38;5;241;43m.\u001b[39;49m\u001b[43mexecute_sync\u001b[49m\u001b[43m(\u001b[49m\n\u001b[1;32m    485\u001b[0m \u001b[43m        \u001b[49m\u001b[43mdocument\u001b[49m\u001b[43m,\u001b[49m\n\u001b[1;32m    486\u001b[0m \u001b[43m        \u001b[49m\u001b[43mvariable_values\u001b[49m\u001b[38;5;241;43m=\u001b[39;49m\u001b[43mvariable_values\u001b[49m\u001b[43m,\u001b[49m\n\u001b[1;32m    487\u001b[0m \u001b[43m        \u001b[49m\u001b[43moperation_name\u001b[49m\u001b[38;5;241;43m=\u001b[39;49m\u001b[43moperation_name\u001b[49m\u001b[43m,\u001b[49m\n\u001b[1;32m    488\u001b[0m \u001b[43m        \u001b[49m\u001b[43mserialize_variables\u001b[49m\u001b[38;5;241;43m=\u001b[39;49m\u001b[43mserialize_variables\u001b[49m\u001b[43m,\u001b[49m\n\u001b[1;32m    489\u001b[0m \u001b[43m        \u001b[49m\u001b[43mparse_result\u001b[49m\u001b[38;5;241;43m=\u001b[39;49m\u001b[43mparse_result\u001b[49m\u001b[43m,\u001b[49m\n\u001b[1;32m    490\u001b[0m \u001b[43m        \u001b[49m\u001b[43mget_execution_result\u001b[49m\u001b[38;5;241;43m=\u001b[39;49m\u001b[43mget_execution_result\u001b[49m\u001b[43m,\u001b[49m\n\u001b[1;32m    491\u001b[0m \u001b[43m        \u001b[49m\u001b[38;5;241;43m*\u001b[39;49m\u001b[38;5;241;43m*\u001b[39;49m\u001b[43mkwargs\u001b[49m\u001b[43m,\u001b[49m\n\u001b[1;32m    492\u001b[0m \u001b[43m    \u001b[49m\u001b[43m)\u001b[49m\n",
      "File \u001b[0;32m~/Documents/ayo-workspace/iwadi/spam/spam/lib/python3.13/site-packages/gql/client.py:248\u001b[0m, in \u001b[0;36mClient.execute_sync\u001b[0;34m(self, document, variable_values, operation_name, serialize_variables, parse_result, get_execution_result, **kwargs)\u001b[0m\n\u001b[1;32m    246\u001b[0m \u001b[38;5;250m\u001b[39m\u001b[38;5;124;03m\"\"\":meta private:\"\"\"\u001b[39;00m\n\u001b[1;32m    247\u001b[0m \u001b[38;5;28;01mwith\u001b[39;00m \u001b[38;5;28mself\u001b[39m \u001b[38;5;28;01mas\u001b[39;00m session:\n\u001b[0;32m--> 248\u001b[0m     \u001b[38;5;28;01mreturn\u001b[39;00m \u001b[43msession\u001b[49m\u001b[38;5;241;43m.\u001b[39;49m\u001b[43mexecute\u001b[49m\u001b[43m(\u001b[49m\n\u001b[1;32m    249\u001b[0m \u001b[43m        \u001b[49m\u001b[43mdocument\u001b[49m\u001b[43m,\u001b[49m\n\u001b[1;32m    250\u001b[0m \u001b[43m        \u001b[49m\u001b[43mvariable_values\u001b[49m\u001b[38;5;241;43m=\u001b[39;49m\u001b[43mvariable_values\u001b[49m\u001b[43m,\u001b[49m\n\u001b[1;32m    251\u001b[0m \u001b[43m        \u001b[49m\u001b[43moperation_name\u001b[49m\u001b[38;5;241;43m=\u001b[39;49m\u001b[43moperation_name\u001b[49m\u001b[43m,\u001b[49m\n\u001b[1;32m    252\u001b[0m \u001b[43m        \u001b[49m\u001b[43mserialize_variables\u001b[49m\u001b[38;5;241;43m=\u001b[39;49m\u001b[43mserialize_variables\u001b[49m\u001b[43m,\u001b[49m\n\u001b[1;32m    253\u001b[0m \u001b[43m        \u001b[49m\u001b[43mparse_result\u001b[49m\u001b[38;5;241;43m=\u001b[39;49m\u001b[43mparse_result\u001b[49m\u001b[43m,\u001b[49m\n\u001b[1;32m    254\u001b[0m \u001b[43m        \u001b[49m\u001b[43mget_execution_result\u001b[49m\u001b[38;5;241;43m=\u001b[39;49m\u001b[43mget_execution_result\u001b[49m\u001b[43m,\u001b[49m\n\u001b[1;32m    255\u001b[0m \u001b[43m        \u001b[49m\u001b[38;5;241;43m*\u001b[39;49m\u001b[38;5;241;43m*\u001b[39;49m\u001b[43mkwargs\u001b[49m\u001b[43m,\u001b[49m\n\u001b[1;32m    256\u001b[0m \u001b[43m    \u001b[49m\u001b[43m)\u001b[49m\n",
      "File \u001b[0;32m~/Documents/ayo-workspace/iwadi/spam/spam/lib/python3.13/site-packages/gql/client.py:1017\u001b[0m, in \u001b[0;36mSyncClientSession.execute\u001b[0;34m(self, document, variable_values, operation_name, serialize_variables, parse_result, get_execution_result, **kwargs)\u001b[0m\n\u001b[1;32m    997\u001b[0m \u001b[38;5;250m\u001b[39m\u001b[38;5;124;03m\"\"\"Execute the provided document AST synchronously using\u001b[39;00m\n\u001b[1;32m    998\u001b[0m \u001b[38;5;124;03mthe sync transport.\u001b[39;00m\n\u001b[1;32m    999\u001b[0m \n\u001b[0;32m   (...)\u001b[0m\n\u001b[1;32m   1013\u001b[0m \n\u001b[1;32m   1014\u001b[0m \u001b[38;5;124;03mThe extra arguments are passed to the transport execute method.\"\"\"\u001b[39;00m\n\u001b[1;32m   1016\u001b[0m \u001b[38;5;66;03m# Validate and execute on the transport\u001b[39;00m\n\u001b[0;32m-> 1017\u001b[0m result \u001b[38;5;241m=\u001b[39m \u001b[38;5;28;43mself\u001b[39;49m\u001b[38;5;241;43m.\u001b[39;49m\u001b[43m_execute\u001b[49m\u001b[43m(\u001b[49m\n\u001b[1;32m   1018\u001b[0m \u001b[43m    \u001b[49m\u001b[43mdocument\u001b[49m\u001b[43m,\u001b[49m\n\u001b[1;32m   1019\u001b[0m \u001b[43m    \u001b[49m\u001b[43mvariable_values\u001b[49m\u001b[38;5;241;43m=\u001b[39;49m\u001b[43mvariable_values\u001b[49m\u001b[43m,\u001b[49m\n\u001b[1;32m   1020\u001b[0m \u001b[43m    \u001b[49m\u001b[43moperation_name\u001b[49m\u001b[38;5;241;43m=\u001b[39;49m\u001b[43moperation_name\u001b[49m\u001b[43m,\u001b[49m\n\u001b[1;32m   1021\u001b[0m \u001b[43m    \u001b[49m\u001b[43mserialize_variables\u001b[49m\u001b[38;5;241;43m=\u001b[39;49m\u001b[43mserialize_variables\u001b[49m\u001b[43m,\u001b[49m\n\u001b[1;32m   1022\u001b[0m \u001b[43m    \u001b[49m\u001b[43mparse_result\u001b[49m\u001b[38;5;241;43m=\u001b[39;49m\u001b[43mparse_result\u001b[49m\u001b[43m,\u001b[49m\n\u001b[1;32m   1023\u001b[0m \u001b[43m    \u001b[49m\u001b[38;5;241;43m*\u001b[39;49m\u001b[38;5;241;43m*\u001b[39;49m\u001b[43mkwargs\u001b[49m\u001b[43m,\u001b[49m\n\u001b[1;32m   1024\u001b[0m \u001b[43m\u001b[49m\u001b[43m)\u001b[49m\n\u001b[1;32m   1026\u001b[0m \u001b[38;5;66;03m# Raise an error if an error is returned in the ExecutionResult object\u001b[39;00m\n\u001b[1;32m   1027\u001b[0m \u001b[38;5;28;01mif\u001b[39;00m result\u001b[38;5;241m.\u001b[39merrors:\n",
      "File \u001b[0;32m~/Documents/ayo-workspace/iwadi/spam/spam/lib/python3.13/site-packages/gql/client.py:926\u001b[0m, in \u001b[0;36mSyncClientSession._execute\u001b[0;34m(self, document, variable_values, operation_name, serialize_variables, parse_result, **kwargs)\u001b[0m\n\u001b[1;32m    923\u001b[0m     result \u001b[38;5;241m=\u001b[39m future_result\u001b[38;5;241m.\u001b[39mresult()\n\u001b[1;32m    925\u001b[0m \u001b[38;5;28;01melse\u001b[39;00m:\n\u001b[0;32m--> 926\u001b[0m     result \u001b[38;5;241m=\u001b[39m \u001b[38;5;28;43mself\u001b[39;49m\u001b[38;5;241;43m.\u001b[39;49m\u001b[43mtransport\u001b[49m\u001b[38;5;241;43m.\u001b[39;49m\u001b[43mexecute\u001b[49m\u001b[43m(\u001b[49m\n\u001b[1;32m    927\u001b[0m \u001b[43m        \u001b[49m\u001b[43mdocument\u001b[49m\u001b[43m,\u001b[49m\n\u001b[1;32m    928\u001b[0m \u001b[43m        \u001b[49m\u001b[43mvariable_values\u001b[49m\u001b[38;5;241;43m=\u001b[39;49m\u001b[43mvariable_values\u001b[49m\u001b[43m,\u001b[49m\n\u001b[1;32m    929\u001b[0m \u001b[43m        \u001b[49m\u001b[43moperation_name\u001b[49m\u001b[38;5;241;43m=\u001b[39;49m\u001b[43moperation_name\u001b[49m\u001b[43m,\u001b[49m\n\u001b[1;32m    930\u001b[0m \u001b[43m        \u001b[49m\u001b[38;5;241;43m*\u001b[39;49m\u001b[38;5;241;43m*\u001b[39;49m\u001b[43mkwargs\u001b[49m\u001b[43m,\u001b[49m\n\u001b[1;32m    931\u001b[0m \u001b[43m    \u001b[49m\u001b[43m)\u001b[49m\n\u001b[1;32m    933\u001b[0m \u001b[38;5;66;03m# Unserialize the result if requested\u001b[39;00m\n\u001b[1;32m    934\u001b[0m \u001b[38;5;28;01mif\u001b[39;00m \u001b[38;5;28mself\u001b[39m\u001b[38;5;241m.\u001b[39mclient\u001b[38;5;241m.\u001b[39mschema:\n",
      "File \u001b[0;32m~/Documents/ayo-workspace/iwadi/spam/spam/lib/python3.13/site-packages/gql/transport/requests.py:237\u001b[0m, in \u001b[0;36mRequestsHTTPTransport.execute\u001b[0;34m(self, document, variable_values, operation_name, timeout, extra_args, upload_files)\u001b[0m\n\u001b[1;32m    234\u001b[0m     post_args\u001b[38;5;241m.\u001b[39mupdate(extra_args)\n\u001b[1;32m    236\u001b[0m \u001b[38;5;66;03m# Using the created session to perform requests\u001b[39;00m\n\u001b[0;32m--> 237\u001b[0m response \u001b[38;5;241m=\u001b[39m \u001b[38;5;28;43mself\u001b[39;49m\u001b[38;5;241;43m.\u001b[39;49m\u001b[43msession\u001b[49m\u001b[38;5;241;43m.\u001b[39;49m\u001b[43mrequest\u001b[49m\u001b[43m(\u001b[49m\n\u001b[1;32m    238\u001b[0m \u001b[43m    \u001b[49m\u001b[38;5;28;43mself\u001b[39;49m\u001b[38;5;241;43m.\u001b[39;49m\u001b[43mmethod\u001b[49m\u001b[43m,\u001b[49m\u001b[43m \u001b[49m\u001b[38;5;28;43mself\u001b[39;49m\u001b[38;5;241;43m.\u001b[39;49m\u001b[43murl\u001b[49m\u001b[43m,\u001b[49m\u001b[43m \u001b[49m\u001b[38;5;241;43m*\u001b[39;49m\u001b[38;5;241;43m*\u001b[39;49m\u001b[43mpost_args\u001b[49m\u001b[43m  \u001b[49m\u001b[38;5;66;43;03m# type: ignore\u001b[39;49;00m\n\u001b[1;32m    239\u001b[0m \u001b[43m\u001b[49m\u001b[43m)\u001b[49m\n\u001b[1;32m    240\u001b[0m \u001b[38;5;28mself\u001b[39m\u001b[38;5;241m.\u001b[39mresponse_headers \u001b[38;5;241m=\u001b[39m response\u001b[38;5;241m.\u001b[39mheaders\n\u001b[1;32m    242\u001b[0m \u001b[38;5;28;01mdef\u001b[39;00m\u001b[38;5;250m \u001b[39m\u001b[38;5;21mraise_response_error\u001b[39m(resp: requests\u001b[38;5;241m.\u001b[39mResponse, reason: \u001b[38;5;28mstr\u001b[39m):\n\u001b[1;32m    243\u001b[0m     \u001b[38;5;66;03m# We raise a TransportServerError if the status code is 400 or higher\u001b[39;00m\n\u001b[1;32m    244\u001b[0m     \u001b[38;5;66;03m# We raise a TransportProtocolError in the other cases\u001b[39;00m\n",
      "File \u001b[0;32m~/Documents/ayo-workspace/iwadi/spam/spam/lib/python3.13/site-packages/requests/sessions.py:589\u001b[0m, in \u001b[0;36mSession.request\u001b[0;34m(self, method, url, params, data, headers, cookies, files, auth, timeout, allow_redirects, proxies, hooks, stream, verify, cert, json)\u001b[0m\n\u001b[1;32m    584\u001b[0m send_kwargs \u001b[38;5;241m=\u001b[39m {\n\u001b[1;32m    585\u001b[0m     \u001b[38;5;124m\"\u001b[39m\u001b[38;5;124mtimeout\u001b[39m\u001b[38;5;124m\"\u001b[39m: timeout,\n\u001b[1;32m    586\u001b[0m     \u001b[38;5;124m\"\u001b[39m\u001b[38;5;124mallow_redirects\u001b[39m\u001b[38;5;124m\"\u001b[39m: allow_redirects,\n\u001b[1;32m    587\u001b[0m }\n\u001b[1;32m    588\u001b[0m send_kwargs\u001b[38;5;241m.\u001b[39mupdate(settings)\n\u001b[0;32m--> 589\u001b[0m resp \u001b[38;5;241m=\u001b[39m \u001b[38;5;28;43mself\u001b[39;49m\u001b[38;5;241;43m.\u001b[39;49m\u001b[43msend\u001b[49m\u001b[43m(\u001b[49m\u001b[43mprep\u001b[49m\u001b[43m,\u001b[49m\u001b[43m \u001b[49m\u001b[38;5;241;43m*\u001b[39;49m\u001b[38;5;241;43m*\u001b[39;49m\u001b[43msend_kwargs\u001b[49m\u001b[43m)\u001b[49m\n\u001b[1;32m    591\u001b[0m \u001b[38;5;28;01mreturn\u001b[39;00m resp\n",
      "File \u001b[0;32m~/Documents/ayo-workspace/iwadi/spam/spam/lib/python3.13/site-packages/requests/sessions.py:703\u001b[0m, in \u001b[0;36mSession.send\u001b[0;34m(self, request, **kwargs)\u001b[0m\n\u001b[1;32m    700\u001b[0m start \u001b[38;5;241m=\u001b[39m preferred_clock()\n\u001b[1;32m    702\u001b[0m \u001b[38;5;66;03m# Send the request\u001b[39;00m\n\u001b[0;32m--> 703\u001b[0m r \u001b[38;5;241m=\u001b[39m \u001b[43madapter\u001b[49m\u001b[38;5;241;43m.\u001b[39;49m\u001b[43msend\u001b[49m\u001b[43m(\u001b[49m\u001b[43mrequest\u001b[49m\u001b[43m,\u001b[49m\u001b[43m \u001b[49m\u001b[38;5;241;43m*\u001b[39;49m\u001b[38;5;241;43m*\u001b[39;49m\u001b[43mkwargs\u001b[49m\u001b[43m)\u001b[49m\n\u001b[1;32m    705\u001b[0m \u001b[38;5;66;03m# Total elapsed time of the request (approximately)\u001b[39;00m\n\u001b[1;32m    706\u001b[0m elapsed \u001b[38;5;241m=\u001b[39m preferred_clock() \u001b[38;5;241m-\u001b[39m start\n",
      "File \u001b[0;32m~/Documents/ayo-workspace/iwadi/spam/spam/lib/python3.13/site-packages/requests/adapters.py:667\u001b[0m, in \u001b[0;36mHTTPAdapter.send\u001b[0;34m(self, request, stream, timeout, verify, cert, proxies)\u001b[0m\n\u001b[1;32m    664\u001b[0m     timeout \u001b[38;5;241m=\u001b[39m TimeoutSauce(connect\u001b[38;5;241m=\u001b[39mtimeout, read\u001b[38;5;241m=\u001b[39mtimeout)\n\u001b[1;32m    666\u001b[0m \u001b[38;5;28;01mtry\u001b[39;00m:\n\u001b[0;32m--> 667\u001b[0m     resp \u001b[38;5;241m=\u001b[39m \u001b[43mconn\u001b[49m\u001b[38;5;241;43m.\u001b[39;49m\u001b[43murlopen\u001b[49m\u001b[43m(\u001b[49m\n\u001b[1;32m    668\u001b[0m \u001b[43m        \u001b[49m\u001b[43mmethod\u001b[49m\u001b[38;5;241;43m=\u001b[39;49m\u001b[43mrequest\u001b[49m\u001b[38;5;241;43m.\u001b[39;49m\u001b[43mmethod\u001b[49m\u001b[43m,\u001b[49m\n\u001b[1;32m    669\u001b[0m \u001b[43m        \u001b[49m\u001b[43murl\u001b[49m\u001b[38;5;241;43m=\u001b[39;49m\u001b[43murl\u001b[49m\u001b[43m,\u001b[49m\n\u001b[1;32m    670\u001b[0m \u001b[43m        \u001b[49m\u001b[43mbody\u001b[49m\u001b[38;5;241;43m=\u001b[39;49m\u001b[43mrequest\u001b[49m\u001b[38;5;241;43m.\u001b[39;49m\u001b[43mbody\u001b[49m\u001b[43m,\u001b[49m\n\u001b[1;32m    671\u001b[0m \u001b[43m        \u001b[49m\u001b[43mheaders\u001b[49m\u001b[38;5;241;43m=\u001b[39;49m\u001b[43mrequest\u001b[49m\u001b[38;5;241;43m.\u001b[39;49m\u001b[43mheaders\u001b[49m\u001b[43m,\u001b[49m\n\u001b[1;32m    672\u001b[0m \u001b[43m        \u001b[49m\u001b[43mredirect\u001b[49m\u001b[38;5;241;43m=\u001b[39;49m\u001b[38;5;28;43;01mFalse\u001b[39;49;00m\u001b[43m,\u001b[49m\n\u001b[1;32m    673\u001b[0m \u001b[43m        \u001b[49m\u001b[43massert_same_host\u001b[49m\u001b[38;5;241;43m=\u001b[39;49m\u001b[38;5;28;43;01mFalse\u001b[39;49;00m\u001b[43m,\u001b[49m\n\u001b[1;32m    674\u001b[0m \u001b[43m        \u001b[49m\u001b[43mpreload_content\u001b[49m\u001b[38;5;241;43m=\u001b[39;49m\u001b[38;5;28;43;01mFalse\u001b[39;49;00m\u001b[43m,\u001b[49m\n\u001b[1;32m    675\u001b[0m \u001b[43m        \u001b[49m\u001b[43mdecode_content\u001b[49m\u001b[38;5;241;43m=\u001b[39;49m\u001b[38;5;28;43;01mFalse\u001b[39;49;00m\u001b[43m,\u001b[49m\n\u001b[1;32m    676\u001b[0m \u001b[43m        \u001b[49m\u001b[43mretries\u001b[49m\u001b[38;5;241;43m=\u001b[39;49m\u001b[38;5;28;43mself\u001b[39;49m\u001b[38;5;241;43m.\u001b[39;49m\u001b[43mmax_retries\u001b[49m\u001b[43m,\u001b[49m\n\u001b[1;32m    677\u001b[0m \u001b[43m        \u001b[49m\u001b[43mtimeout\u001b[49m\u001b[38;5;241;43m=\u001b[39;49m\u001b[43mtimeout\u001b[49m\u001b[43m,\u001b[49m\n\u001b[1;32m    678\u001b[0m \u001b[43m        \u001b[49m\u001b[43mchunked\u001b[49m\u001b[38;5;241;43m=\u001b[39;49m\u001b[43mchunked\u001b[49m\u001b[43m,\u001b[49m\n\u001b[1;32m    679\u001b[0m \u001b[43m    \u001b[49m\u001b[43m)\u001b[49m\n\u001b[1;32m    681\u001b[0m \u001b[38;5;28;01mexcept\u001b[39;00m (ProtocolError, \u001b[38;5;167;01mOSError\u001b[39;00m) \u001b[38;5;28;01mas\u001b[39;00m err:\n\u001b[1;32m    682\u001b[0m     \u001b[38;5;28;01mraise\u001b[39;00m \u001b[38;5;167;01mConnectionError\u001b[39;00m(err, request\u001b[38;5;241m=\u001b[39mrequest)\n",
      "File \u001b[0;32m~/Documents/ayo-workspace/iwadi/spam/spam/lib/python3.13/site-packages/urllib3/connectionpool.py:787\u001b[0m, in \u001b[0;36mHTTPConnectionPool.urlopen\u001b[0;34m(self, method, url, body, headers, retries, redirect, assert_same_host, timeout, pool_timeout, release_conn, chunked, body_pos, preload_content, decode_content, **response_kw)\u001b[0m\n\u001b[1;32m    784\u001b[0m response_conn \u001b[38;5;241m=\u001b[39m conn \u001b[38;5;28;01mif\u001b[39;00m \u001b[38;5;129;01mnot\u001b[39;00m release_conn \u001b[38;5;28;01melse\u001b[39;00m \u001b[38;5;28;01mNone\u001b[39;00m\n\u001b[1;32m    786\u001b[0m \u001b[38;5;66;03m# Make the request on the HTTPConnection object\u001b[39;00m\n\u001b[0;32m--> 787\u001b[0m response \u001b[38;5;241m=\u001b[39m \u001b[38;5;28;43mself\u001b[39;49m\u001b[38;5;241;43m.\u001b[39;49m\u001b[43m_make_request\u001b[49m\u001b[43m(\u001b[49m\n\u001b[1;32m    788\u001b[0m \u001b[43m    \u001b[49m\u001b[43mconn\u001b[49m\u001b[43m,\u001b[49m\n\u001b[1;32m    789\u001b[0m \u001b[43m    \u001b[49m\u001b[43mmethod\u001b[49m\u001b[43m,\u001b[49m\n\u001b[1;32m    790\u001b[0m \u001b[43m    \u001b[49m\u001b[43murl\u001b[49m\u001b[43m,\u001b[49m\n\u001b[1;32m    791\u001b[0m \u001b[43m    \u001b[49m\u001b[43mtimeout\u001b[49m\u001b[38;5;241;43m=\u001b[39;49m\u001b[43mtimeout_obj\u001b[49m\u001b[43m,\u001b[49m\n\u001b[1;32m    792\u001b[0m \u001b[43m    \u001b[49m\u001b[43mbody\u001b[49m\u001b[38;5;241;43m=\u001b[39;49m\u001b[43mbody\u001b[49m\u001b[43m,\u001b[49m\n\u001b[1;32m    793\u001b[0m \u001b[43m    \u001b[49m\u001b[43mheaders\u001b[49m\u001b[38;5;241;43m=\u001b[39;49m\u001b[43mheaders\u001b[49m\u001b[43m,\u001b[49m\n\u001b[1;32m    794\u001b[0m \u001b[43m    \u001b[49m\u001b[43mchunked\u001b[49m\u001b[38;5;241;43m=\u001b[39;49m\u001b[43mchunked\u001b[49m\u001b[43m,\u001b[49m\n\u001b[1;32m    795\u001b[0m \u001b[43m    \u001b[49m\u001b[43mretries\u001b[49m\u001b[38;5;241;43m=\u001b[39;49m\u001b[43mretries\u001b[49m\u001b[43m,\u001b[49m\n\u001b[1;32m    796\u001b[0m \u001b[43m    \u001b[49m\u001b[43mresponse_conn\u001b[49m\u001b[38;5;241;43m=\u001b[39;49m\u001b[43mresponse_conn\u001b[49m\u001b[43m,\u001b[49m\n\u001b[1;32m    797\u001b[0m \u001b[43m    \u001b[49m\u001b[43mpreload_content\u001b[49m\u001b[38;5;241;43m=\u001b[39;49m\u001b[43mpreload_content\u001b[49m\u001b[43m,\u001b[49m\n\u001b[1;32m    798\u001b[0m \u001b[43m    \u001b[49m\u001b[43mdecode_content\u001b[49m\u001b[38;5;241;43m=\u001b[39;49m\u001b[43mdecode_content\u001b[49m\u001b[43m,\u001b[49m\n\u001b[1;32m    799\u001b[0m \u001b[43m    \u001b[49m\u001b[38;5;241;43m*\u001b[39;49m\u001b[38;5;241;43m*\u001b[39;49m\u001b[43mresponse_kw\u001b[49m\u001b[43m,\u001b[49m\n\u001b[1;32m    800\u001b[0m \u001b[43m\u001b[49m\u001b[43m)\u001b[49m\n\u001b[1;32m    802\u001b[0m \u001b[38;5;66;03m# Everything went great!\u001b[39;00m\n\u001b[1;32m    803\u001b[0m clean_exit \u001b[38;5;241m=\u001b[39m \u001b[38;5;28;01mTrue\u001b[39;00m\n",
      "File \u001b[0;32m~/Documents/ayo-workspace/iwadi/spam/spam/lib/python3.13/site-packages/urllib3/connectionpool.py:464\u001b[0m, in \u001b[0;36mHTTPConnectionPool._make_request\u001b[0;34m(self, conn, method, url, body, headers, retries, timeout, chunked, response_conn, preload_content, decode_content, enforce_content_length)\u001b[0m\n\u001b[1;32m    461\u001b[0m \u001b[38;5;28;01mtry\u001b[39;00m:\n\u001b[1;32m    462\u001b[0m     \u001b[38;5;66;03m# Trigger any extra validation we need to do.\u001b[39;00m\n\u001b[1;32m    463\u001b[0m     \u001b[38;5;28;01mtry\u001b[39;00m:\n\u001b[0;32m--> 464\u001b[0m         \u001b[38;5;28;43mself\u001b[39;49m\u001b[38;5;241;43m.\u001b[39;49m\u001b[43m_validate_conn\u001b[49m\u001b[43m(\u001b[49m\u001b[43mconn\u001b[49m\u001b[43m)\u001b[49m\n\u001b[1;32m    465\u001b[0m     \u001b[38;5;28;01mexcept\u001b[39;00m (SocketTimeout, BaseSSLError) \u001b[38;5;28;01mas\u001b[39;00m e:\n\u001b[1;32m    466\u001b[0m         \u001b[38;5;28mself\u001b[39m\u001b[38;5;241m.\u001b[39m_raise_timeout(err\u001b[38;5;241m=\u001b[39me, url\u001b[38;5;241m=\u001b[39murl, timeout_value\u001b[38;5;241m=\u001b[39mconn\u001b[38;5;241m.\u001b[39mtimeout)\n",
      "File \u001b[0;32m~/Documents/ayo-workspace/iwadi/spam/spam/lib/python3.13/site-packages/urllib3/connectionpool.py:1093\u001b[0m, in \u001b[0;36mHTTPSConnectionPool._validate_conn\u001b[0;34m(self, conn)\u001b[0m\n\u001b[1;32m   1091\u001b[0m \u001b[38;5;66;03m# Force connect early to allow us to validate the connection.\u001b[39;00m\n\u001b[1;32m   1092\u001b[0m \u001b[38;5;28;01mif\u001b[39;00m conn\u001b[38;5;241m.\u001b[39mis_closed:\n\u001b[0;32m-> 1093\u001b[0m     \u001b[43mconn\u001b[49m\u001b[38;5;241;43m.\u001b[39;49m\u001b[43mconnect\u001b[49m\u001b[43m(\u001b[49m\u001b[43m)\u001b[49m\n\u001b[1;32m   1095\u001b[0m \u001b[38;5;66;03m# TODO revise this, see https://github.com/urllib3/urllib3/issues/2791\u001b[39;00m\n\u001b[1;32m   1096\u001b[0m \u001b[38;5;28;01mif\u001b[39;00m \u001b[38;5;129;01mnot\u001b[39;00m conn\u001b[38;5;241m.\u001b[39mis_verified \u001b[38;5;129;01mand\u001b[39;00m \u001b[38;5;129;01mnot\u001b[39;00m conn\u001b[38;5;241m.\u001b[39mproxy_is_verified:\n",
      "File \u001b[0;32m~/Documents/ayo-workspace/iwadi/spam/spam/lib/python3.13/site-packages/urllib3/connection.py:704\u001b[0m, in \u001b[0;36mHTTPSConnection.connect\u001b[0;34m(self)\u001b[0m\n\u001b[1;32m    702\u001b[0m \u001b[38;5;28;01mtry\u001b[39;00m:\n\u001b[1;32m    703\u001b[0m     sock: socket\u001b[38;5;241m.\u001b[39msocket \u001b[38;5;241m|\u001b[39m ssl\u001b[38;5;241m.\u001b[39mSSLSocket\n\u001b[0;32m--> 704\u001b[0m     \u001b[38;5;28mself\u001b[39m\u001b[38;5;241m.\u001b[39msock \u001b[38;5;241m=\u001b[39m sock \u001b[38;5;241m=\u001b[39m \u001b[38;5;28;43mself\u001b[39;49m\u001b[38;5;241;43m.\u001b[39;49m\u001b[43m_new_conn\u001b[49m\u001b[43m(\u001b[49m\u001b[43m)\u001b[49m\n\u001b[1;32m    705\u001b[0m     server_hostname: \u001b[38;5;28mstr\u001b[39m \u001b[38;5;241m=\u001b[39m \u001b[38;5;28mself\u001b[39m\u001b[38;5;241m.\u001b[39mhost\n\u001b[1;32m    706\u001b[0m     tls_in_tls \u001b[38;5;241m=\u001b[39m \u001b[38;5;28;01mFalse\u001b[39;00m\n",
      "File \u001b[0;32m~/Documents/ayo-workspace/iwadi/spam/spam/lib/python3.13/site-packages/urllib3/connection.py:198\u001b[0m, in \u001b[0;36mHTTPConnection._new_conn\u001b[0;34m(self)\u001b[0m\n\u001b[1;32m    193\u001b[0m \u001b[38;5;250m\u001b[39m\u001b[38;5;124;03m\"\"\"Establish a socket connection and set nodelay settings on it.\u001b[39;00m\n\u001b[1;32m    194\u001b[0m \n\u001b[1;32m    195\u001b[0m \u001b[38;5;124;03m:return: New socket connection.\u001b[39;00m\n\u001b[1;32m    196\u001b[0m \u001b[38;5;124;03m\"\"\"\u001b[39;00m\n\u001b[1;32m    197\u001b[0m \u001b[38;5;28;01mtry\u001b[39;00m:\n\u001b[0;32m--> 198\u001b[0m     sock \u001b[38;5;241m=\u001b[39m \u001b[43mconnection\u001b[49m\u001b[38;5;241;43m.\u001b[39;49m\u001b[43mcreate_connection\u001b[49m\u001b[43m(\u001b[49m\n\u001b[1;32m    199\u001b[0m \u001b[43m        \u001b[49m\u001b[43m(\u001b[49m\u001b[38;5;28;43mself\u001b[39;49m\u001b[38;5;241;43m.\u001b[39;49m\u001b[43m_dns_host\u001b[49m\u001b[43m,\u001b[49m\u001b[43m \u001b[49m\u001b[38;5;28;43mself\u001b[39;49m\u001b[38;5;241;43m.\u001b[39;49m\u001b[43mport\u001b[49m\u001b[43m)\u001b[49m\u001b[43m,\u001b[49m\n\u001b[1;32m    200\u001b[0m \u001b[43m        \u001b[49m\u001b[38;5;28;43mself\u001b[39;49m\u001b[38;5;241;43m.\u001b[39;49m\u001b[43mtimeout\u001b[49m\u001b[43m,\u001b[49m\n\u001b[1;32m    201\u001b[0m \u001b[43m        \u001b[49m\u001b[43msource_address\u001b[49m\u001b[38;5;241;43m=\u001b[39;49m\u001b[38;5;28;43mself\u001b[39;49m\u001b[38;5;241;43m.\u001b[39;49m\u001b[43msource_address\u001b[49m\u001b[43m,\u001b[49m\n\u001b[1;32m    202\u001b[0m \u001b[43m        \u001b[49m\u001b[43msocket_options\u001b[49m\u001b[38;5;241;43m=\u001b[39;49m\u001b[38;5;28;43mself\u001b[39;49m\u001b[38;5;241;43m.\u001b[39;49m\u001b[43msocket_options\u001b[49m\u001b[43m,\u001b[49m\n\u001b[1;32m    203\u001b[0m \u001b[43m    \u001b[49m\u001b[43m)\u001b[49m\n\u001b[1;32m    204\u001b[0m \u001b[38;5;28;01mexcept\u001b[39;00m socket\u001b[38;5;241m.\u001b[39mgaierror \u001b[38;5;28;01mas\u001b[39;00m e:\n\u001b[1;32m    205\u001b[0m     \u001b[38;5;28;01mraise\u001b[39;00m NameResolutionError(\u001b[38;5;28mself\u001b[39m\u001b[38;5;241m.\u001b[39mhost, \u001b[38;5;28mself\u001b[39m, e) \u001b[38;5;28;01mfrom\u001b[39;00m\u001b[38;5;250m \u001b[39m\u001b[38;5;21;01me\u001b[39;00m\n",
      "File \u001b[0;32m~/Documents/ayo-workspace/iwadi/spam/spam/lib/python3.13/site-packages/urllib3/util/connection.py:60\u001b[0m, in \u001b[0;36mcreate_connection\u001b[0;34m(address, timeout, source_address, socket_options)\u001b[0m\n\u001b[1;32m     57\u001b[0m \u001b[38;5;28;01mexcept\u001b[39;00m \u001b[38;5;167;01mUnicodeError\u001b[39;00m:\n\u001b[1;32m     58\u001b[0m     \u001b[38;5;28;01mraise\u001b[39;00m LocationParseError(\u001b[38;5;124mf\u001b[39m\u001b[38;5;124m\"\u001b[39m\u001b[38;5;124m'\u001b[39m\u001b[38;5;132;01m{\u001b[39;00mhost\u001b[38;5;132;01m}\u001b[39;00m\u001b[38;5;124m'\u001b[39m\u001b[38;5;124m, label empty or too long\u001b[39m\u001b[38;5;124m\"\u001b[39m) \u001b[38;5;28;01mfrom\u001b[39;00m\u001b[38;5;250m \u001b[39m\u001b[38;5;28;01mNone\u001b[39;00m\n\u001b[0;32m---> 60\u001b[0m \u001b[38;5;28;01mfor\u001b[39;00m res \u001b[38;5;129;01min\u001b[39;00m \u001b[43msocket\u001b[49m\u001b[38;5;241;43m.\u001b[39;49m\u001b[43mgetaddrinfo\u001b[49m\u001b[43m(\u001b[49m\u001b[43mhost\u001b[49m\u001b[43m,\u001b[49m\u001b[43m \u001b[49m\u001b[43mport\u001b[49m\u001b[43m,\u001b[49m\u001b[43m \u001b[49m\u001b[43mfamily\u001b[49m\u001b[43m,\u001b[49m\u001b[43m \u001b[49m\u001b[43msocket\u001b[49m\u001b[38;5;241;43m.\u001b[39;49m\u001b[43mSOCK_STREAM\u001b[49m\u001b[43m)\u001b[49m:\n\u001b[1;32m     61\u001b[0m     af, socktype, proto, canonname, sa \u001b[38;5;241m=\u001b[39m res\n\u001b[1;32m     62\u001b[0m     sock \u001b[38;5;241m=\u001b[39m \u001b[38;5;28;01mNone\u001b[39;00m\n",
      "File \u001b[0;32m/opt/homebrew/Cellar/python@3.13/3.13.2/Frameworks/Python.framework/Versions/3.13/lib/python3.13/socket.py:977\u001b[0m, in \u001b[0;36mgetaddrinfo\u001b[0;34m(host, port, family, type, proto, flags)\u001b[0m\n\u001b[1;32m    974\u001b[0m \u001b[38;5;66;03m# We override this function since we want to translate the numeric family\u001b[39;00m\n\u001b[1;32m    975\u001b[0m \u001b[38;5;66;03m# and socket type values to enum constants.\u001b[39;00m\n\u001b[1;32m    976\u001b[0m addrlist \u001b[38;5;241m=\u001b[39m []\n\u001b[0;32m--> 977\u001b[0m \u001b[38;5;28;01mfor\u001b[39;00m res \u001b[38;5;129;01min\u001b[39;00m \u001b[43m_socket\u001b[49m\u001b[38;5;241;43m.\u001b[39;49m\u001b[43mgetaddrinfo\u001b[49m\u001b[43m(\u001b[49m\u001b[43mhost\u001b[49m\u001b[43m,\u001b[49m\u001b[43m \u001b[49m\u001b[43mport\u001b[49m\u001b[43m,\u001b[49m\u001b[43m \u001b[49m\u001b[43mfamily\u001b[49m\u001b[43m,\u001b[49m\u001b[43m \u001b[49m\u001b[38;5;28;43mtype\u001b[39;49m\u001b[43m,\u001b[49m\u001b[43m \u001b[49m\u001b[43mproto\u001b[49m\u001b[43m,\u001b[49m\u001b[43m \u001b[49m\u001b[43mflags\u001b[49m\u001b[43m)\u001b[49m:\n\u001b[1;32m    978\u001b[0m     af, socktype, proto, canonname, sa \u001b[38;5;241m=\u001b[39m res\n\u001b[1;32m    979\u001b[0m     addrlist\u001b[38;5;241m.\u001b[39mappend((_intenum_converter(af, AddressFamily),\n\u001b[1;32m    980\u001b[0m                      _intenum_converter(socktype, SocketKind),\n\u001b[1;32m    981\u001b[0m                      proto, canonname, sa))\n",
      "\u001b[0;31mKeyboardInterrupt\u001b[0m: "
     ]
    }
   ],
   "source": [
    "from os import close\n",
    "\n",
    "# template\n",
    "keywords = ['\"ai spam\"', \"spam\", \"ai-spam\"]\n",
    "index = start_index\n",
    "se_fm_repository_data = df\n",
    "current_date = datetime.datetime.now()\n",
    "github_earliest_datetime = datetime.datetime(2005, 1, 1)\n",
    "# Loop to increment every 2 months\n",
    "start_date = github_earliest_datetime\n",
    "end_date = current_date\n",
    "\n",
    "while start_date < end_date:\n",
    "    next_date = start_date + datetime.timedelta(days=60)  # Approximation of 2 months\n",
    "    date_range = f\"{start_date.strftime('%Y-%m-%d')}..{next_date.strftime('%Y-%m-%d')}\"\n",
    "\n",
    "    for keyword in tqdm(keywords):\n",
    "        search_keyword = (\n",
    "            f\"label:{keyword} is:pr is:public archived:false created:{date_range}\"\n",
    "        )\n",
    "        start_date = next_date\n",
    "        try:\n",
    "            after_cursor = None\n",
    "            while True:\n",
    "                response = execute_query(\n",
    "                    search_keyword, first=10, after_cursor=after_cursor\n",
    "                )\n",
    "                log_activity(\n",
    "                    f'response[\"search\"][\"issueCount\"]: {response[\"search\"][\"issueCount\"]}\\n'\n",
    "                )\n",
    "                if response[\"search\"][\"issueCount\"] == 0:\n",
    "                    break\n",
    "                # Extract pr\n",
    "                for edge in response[\"search\"][\"edges\"]:\n",
    "                    pull_request = edge[\"node\"]\n",
    "\n",
    "                    if not pull_request:\n",
    "                        continue\n",
    "                    timeline = pull_request[\"timeline\"][\"edges\"]\n",
    "                    labeled_spam_event = next(\n",
    "                        filter(\n",
    "                            lambda x: x[\"node\"]\n",
    "                            and x[\"node\"][\"__typename\"] == \"LabeledEvent\"\n",
    "                            and x[\"node\"][\"label\"][\"name\"]\n",
    "                            and (x[\"node\"][\"label\"][\"name\"]).lower()\n",
    "                            == keyword.strip('\"').lower(),\n",
    "                            timeline,\n",
    "                        ),\n",
    "                        None,\n",
    "                    )\n",
    "\n",
    "                    labeled_spam_event_node = (\n",
    "                        labeled_spam_event[\"node\"] if labeled_spam_event else None\n",
    "                    )\n",
    "                    closed_event = next(\n",
    "                        filter(\n",
    "                            lambda x: x[\"node\"]\n",
    "                            and x[\"node\"][\"__typename\"] == \"ClosedEvent\",\n",
    "                            timeline,\n",
    "                        ),\n",
    "                        None,\n",
    "                    )\n",
    "                    closed_event_node = closed_event[\"node\"] if closed_event else None\n",
    "                    author = pull_request[\"author\"]\n",
    "                    comments = [\n",
    "                        comment[\"node\"] for comment in pull_request[\"comments\"][\"edges\"]\n",
    "                    ]\n",
    "                    labeled_spam_at = (\n",
    "                        labeled_spam_event_node[\"createdAt\"]\n",
    "                        if labeled_spam_event_node\n",
    "                        else None\n",
    "                    )\n",
    "\n",
    "                    labeled_spam_by = (\n",
    "                        labeled_spam_event_node[\"actor\"][\"login\"]\n",
    "                        if labeled_spam_event_node and labeled_spam_event_node[\"actor\"]\n",
    "                        else None\n",
    "                    )\n",
    "                    comments_by_spam_labeler = [\n",
    "                        {\n",
    "                            **labeler_comment,\n",
    "                            \"commented_before_labeling_spam\": (\n",
    "                                labeler_comment[\"createdAt\"] < labeled_spam_at\n",
    "                                if (labeler_comment[\"createdAt\"] and labeled_spam_at)\n",
    "                                is not None\n",
    "                                else None\n",
    "                            ),\n",
    "                        }\n",
    "                        for labeler_comment in comments\n",
    "                        if (\n",
    "                            (\n",
    "                                labeler_comment[\"author\"]\n",
    "                                and labeler_comment[\"author\"][\"login\"]\n",
    "                                == labeled_spam_by\n",
    "                            )\n",
    "                            or (not labeler_comment[\"author\"] and not labeled_spam_by)\n",
    "                        )\n",
    "                    ]\n",
    "\n",
    "                    closed_by = (\n",
    "                        closed_event_node[\"actor\"][\"login\"]\n",
    "                        if closed_event_node and closed_event_node[\"actor\"]\n",
    "                        else None\n",
    "                    )\n",
    "                    closed_at = (\n",
    "                        closed_event_node[\"createdAt\"] if closed_event_node else None\n",
    "                    )\n",
    "                    comments_by_closer = [\n",
    "                        {\n",
    "                            **closer_comment,\n",
    "                            \"commented_before_closing\": (\n",
    "                                closer_comment[\"createdAt\"] < closed_at\n",
    "                                if closed_at\n",
    "                                else False\n",
    "                            ),\n",
    "                        }\n",
    "                        for closer_comment in comments\n",
    "                        if (\n",
    "                            (\n",
    "                                closer_comment[\"author\"]\n",
    "                                and closer_comment[\"author\"][\"login\"] == closed_by\n",
    "                            )\n",
    "                            or (not closer_comment[\"author\"] and not closed_by)\n",
    "                        )\n",
    "                    ]\n",
    "\n",
    "                    author_organizations = (\n",
    "                        [\n",
    "                            organization[\"node\"]\n",
    "                            for organization in author[\"organizations\"][\"edges\"]\n",
    "                            if organization[\"node\"]\n",
    "                        ]\n",
    "                        if author\n",
    "                        and author.get(\"organizations\")\n",
    "                        and author[\"organizations\"].get(\"edges\")\n",
    "                        else []\n",
    "                    )\n",
    "\n",
    "                    timestamp_suffix = (\n",
    "                        f\"_as_at_{datetime.datetime.now().strftime('%Y-%m-%d')}\"\n",
    "                    )\n",
    "\n",
    "                    df.append(\n",
    "                        {\n",
    "                            \"id\": pull_request[\"id\"],\n",
    "                            \"title\": pull_request[\"title\"],\n",
    "                            \"url\": pull_request[\"url\"],\n",
    "                            \"state\": pull_request[\"state\"],\n",
    "                            \"comments_count\": pull_request[\"comments\"][\"totalCount\"],\n",
    "                            \"comments_by_spam_labeler_count\": len(\n",
    "                                comments_by_spam_labeler\n",
    "                            ),\n",
    "                            \"comments_by_spam_labeler\": comments_by_spam_labeler,\n",
    "                            \"labeled_spam_by\": (\n",
    "                                labeled_spam_event_node[\"actor\"][\"login\"]\n",
    "                                if labeled_spam_event_node\n",
    "                                and labeled_spam_event_node[\"actor\"]\n",
    "                                else None\n",
    "                            ),\n",
    "                            \"is_labeled_spam_by_bot\": labeled_spam_by is None,\n",
    "                            \"labeled_spam_at\": labeled_spam_at,\n",
    "                            \"comments_by_closer_count\": len(comments_by_closer),\n",
    "                            \"comments_by_closer\": comments_by_closer,\n",
    "                            \"closed\": pull_request[\"closed\"],\n",
    "                            \"is_closed_by_bot\": closed_by is None,\n",
    "                            \"closed_by\": closed_by,\n",
    "                            \"closed_at\": closed_at,\n",
    "                            \"merged\": pull_request[\"merged\"],\n",
    "                            \"body\": pull_request[\"body\"],\n",
    "                            \"created_at\": pull_request[\"createdAt\"],\n",
    "                            \"updated_at\": pull_request[\"updatedAt\"],\n",
    "                            \"repository\": pull_request[\"repository\"],\n",
    "                            \"repository_name_with_owner\": pull_request[\"repository\"][\n",
    "                                \"nameWithOwner\"\n",
    "                            ],\n",
    "                            \"repository_stargazer_count\": pull_request[\"repository\"][\n",
    "                                \"stargazerCount\"\n",
    "                            ],\n",
    "                            \"repository_watcher_count\": pull_request[\"repository\"][\n",
    "                                \"watchers\"\n",
    "                            ][\"totalCount\"],\n",
    "                            \"repository_is_fork\": pull_request[\"repository\"][\"isFork\"],\n",
    "                            \"repository_languages\": [\n",
    "                                language[\"node\"][\"name\"]\n",
    "                                for language in pull_request[\"repository\"][\"languages\"][\n",
    "                                    \"edges\"\n",
    "                                ]\n",
    "                            ],\n",
    "                            \"merge_commit\": (\n",
    "                                pull_request[\"mergeCommit\"][\"oid\"]\n",
    "                                if pull_request[\"mergeCommit\"]\n",
    "                                else None\n",
    "                            ),\n",
    "                            \"labels\": [\n",
    "                                label[\"node\"][\"name\"]\n",
    "                                for label in pull_request[\"labels\"][\"edges\"]\n",
    "                            ],\n",
    "                            \"commits_count\": pull_request[\"commits\"][\"totalCount\"],\n",
    "                            \"changed_files_count\": pull_request[\"changedFiles\"],\n",
    "                            \"commits\": pull_request[\"commits\"][\"edges\"],\n",
    "                            \"author_name\": (author[\"login\"] if author else None),\n",
    "                            \"author_url\": (author[\"url\"] if author else None),\n",
    "                            \"author_account_created_at\": (\n",
    "                                author[\"createdAt\"] if author else None\n",
    "                            ),\n",
    "                            f\"author_repository_count{timestamp_suffix}\": (\n",
    "                                author[\"repositories\"][\"totalCount\"]\n",
    "                                if author and author[\"repositories\"]\n",
    "                                else None\n",
    "                            ),\n",
    "                            f\"author_followers_count{timestamp_suffix}\": (\n",
    "                                author[\"followers\"][\"totalCount\"]\n",
    "                                if author and author[\"followers\"]\n",
    "                                else None\n",
    "                            ),\n",
    "                            f\"author_following_count{timestamp_suffix}\": (\n",
    "                                author[\"following\"][\"totalCount\"]\n",
    "                                if author and author[\"following\"]\n",
    "                                else None\n",
    "                            ),\n",
    "                            f\"author_repository_discussions_count{timestamp_suffix}\": (\n",
    "                                author[\"repositoryDiscussions\"][\"totalCount\"]\n",
    "                                if author and author[\"repositoryDiscussions\"]\n",
    "                                else None\n",
    "                            ),\n",
    "                            f\"author_repository_discussion_comments_count{timestamp_suffix}\": (\n",
    "                                author[\"repositoryDiscussionComments\"][\"totalCount\"]\n",
    "                                if author and author[\"repositoryDiscussionComments\"]\n",
    "                                else None\n",
    "                            ),\n",
    "                            f\"author_organizations{timestamp_suffix}\": author_organizations,\n",
    "                            \"spam_search_keyword\": keyword,\n",
    "                        }\n",
    "                    )\n",
    "\n",
    "                # Pagination\n",
    "                page_info = response[\"search\"][\"pageInfo\"]\n",
    "                if page_info[\"hasNextPage\"]:\n",
    "                    after_cursor = page_info[\"endCursor\"]\n",
    "                else:\n",
    "                    break\n",
    "            with open(\"progress.pkl\", \"wb\") as f:\n",
    "                pickle.dump({\"df\": se_fm_repository_data, \"start_index\": index + 1}, f)\n",
    "\n",
    "        except Exception as e:\n",
    "            log_activity(f\"Failed to retrieve data for keywords '{keyword}' in date range: {date_range} {e}\")\n",
    "            # Save progress before terminating\n",
    "            with open(\"progress.pkl\", \"wb\") as f:\n",
    "                pickle.dump({\"df\": df, \"start_index\": index}, f)\n",
    "            raise"
   ]
  },
  {
   "cell_type": "code",
   "execution_count": null,
   "id": "24bca9f0",
   "metadata": {},
   "outputs": [],
   "source": [
    "import pickle\n",
    "import pandas as pd\n",
    "\n",
    "\n",
    "def display_pkl_content(filepath):\n",
    "    \"\"\"\n",
    "    Display the content of a pickle file and save it as CSV and JSON files.\n",
    "\n",
    "    This function reads a pickle file from the given filepath, prints its content,\n",
    "    and saves the data contained in the \"df\" key to both a CSV file and a JSON file.\n",
    "    The CSV file is saved with the name \"spam_data_without_org_join_date.csv\" and the JSON file is saved\n",
    "    with the name \"spam_data_without_org_join_date.json\".\n",
    "\n",
    "    Args:\n",
    "        filepath (str): The path to the pickle file to be read.\n",
    "\n",
    "    Raises:\n",
    "        Exception: If there is an error reading the pickle file or writing the CSV/JSON files.\n",
    "    \"\"\"\n",
    "    try:\n",
    "        with open(filepath, \"rb\") as f:\n",
    "            data = pickle.load(f)\n",
    "\n",
    "        log_activity(f\"Content of {filepath}:\\n\")\n",
    "        filename = \"spam_data_without_org_join_date\"\n",
    "        pd.DataFrame(data[\"df\"]).to_csv(f\"{filename}.csv\", index=True)\n",
    "        log_activity(f\"Data written to {filename}.csv successfully.\")\n",
    "        try:\n",
    "            with open(f\"{filename}.json\", \"w\") as f:\n",
    "                json.dump(data[\"df\"], f, indent=4)\n",
    "            log_activity(f\"Data written to {filename}.json successfully.\")\n",
    "        except Exception as e:\n",
    "            log_activity(f\"An error occurred: {e}\")\n",
    "    except Exception as e:\n",
    "        log_activity(f\"An unexpected error occurred: {e}\")\n",
    "\n",
    "\n",
    "filepath = \"progress.pkl\"\n",
    "display_pkl_content(filepath)"
   ]
  },
  {
   "cell_type": "code",
   "execution_count": null,
   "id": "c0deeda4",
   "metadata": {},
   "outputs": [],
   "source": [
    "# generate metadata\n",
    "df = []\n",
    "start_index = 0\n",
    "\n",
    "\n",
    "\n",
    "def generate_metadata(filepath):\n",
    "    \"\"\" \"\"\"\n",
    "    try:\n",
    "        with open(filepath, \"rb\") as f:\n",
    "            data = pickle.load(f)\n",
    "\n",
    "        print(f\"Content of {filepath}:\\n\")\n",
    "        filename = \"spam_data.meta\"\n",
    "        pull_requests = data[\"df\"]\n",
    "        unique_repository = {}\n",
    "        unique_pr_author = {}\n",
    "        unique_pr_spam_labeler = {}\n",
    "        unique_pr_closer = {}\n",
    "        merged_pr_count = 0\n",
    "        closed_pr_count = 0\n",
    "        for pull_request in pull_requests:\n",
    "            def update_unique_value_dict(info_dict, key, value):\n",
    "                if not value:\n",
    "                    print(f\"Warning: Pull request missing '{key}' {pull_request}\")\n",
    "                    return False\n",
    "                if value not in info_dict:\n",
    "                    info_dict[value] = value\n",
    "                return True\n",
    "\n",
    "            # Update repository count\n",
    "            update_unique_value_dict(unique_repository, \"repository_name_with_owner\", pull_request[\"repository_name_with_owner\"])\n",
    "\n",
    "            # Update author count\n",
    "            update_unique_value_dict(unique_pr_author, \"author_name\", pull_request[\"author_name\"])\n",
    "\n",
    "            # Update spam labeler count\n",
    "            update_unique_value_dict(unique_pr_spam_labeler, \"labeled_spam_by\", pull_request[\"labeled_spam_by\"])\n",
    "\n",
    "            # Update closer count\n",
    "            update_unique_value_dict(unique_pr_closer, \"closed_by\", pull_request[\"closed_by\"])\n",
    "\n",
    "            merged_pr_count += 1 if pull_request[\"merged\"] else 0\n",
    "            closed_pr_count += 1 if pull_request[\"closed\"] is not None else 0\n",
    "\n",
    "\n",
    "        total_prs= len(pull_requests)\n",
    "        unique_repository_count= len(unique_repository)\n",
    "        unique_pr_author_count= len(unique_pr_author)\n",
    "        unique_pr_spam_labeler_count= len(unique_pr_spam_labeler)\n",
    "        unique_pr_closer_count= len(unique_pr_closer)\n",
    "        \n",
    "        df.append(\n",
    "            {\n",
    "            \"total_prs\": total_prs,\n",
    "            \"unique_repository_count\": unique_repository_count,\n",
    "            \"unique_repository_ratio\": round(unique_repository_count / total_prs, 3),\n",
    "            \"unique_pr_author_count\": unique_pr_author_count,\n",
    "            \"unique_pr_author_ratio\": round(unique_pr_author_count / total_prs, 3),\n",
    "            \"unique_pr_spam_labeler_count\": unique_pr_spam_labeler_count,\n",
    "            \"unique_pr_spam_labeler_ratio\": round(unique_pr_spam_labeler_count / total_prs, 3),\n",
    "            \"unique_pr_closer_count\": unique_pr_closer_count,\n",
    "            \"unique_pr_closer_ratio\": round(unique_pr_closer_count / total_prs, 3),\n",
    "            \"merged_pr_count\": merged_pr_count,\n",
    "            \"merged_pr_ratio\": round(merged_pr_count / total_prs, 3),\n",
    "            \"closed_pr_count\": closed_pr_count,\n",
    "            \"closed_pr_ratio\": round(closed_pr_count / total_prs, 3),\n",
    "            }\n",
    "        )\n",
    "\n",
    "        pd.DataFrame(df).to_csv(f\"{filename}.csv\", index=True)\n",
    "        log_activity(f\"Data written to {filename}.csv successfully.\")\n",
    "        try:\n",
    "            with open(f\"{filename}.json\", \"w\") as f:\n",
    "                json.dump(df, f, indent=4)\n",
    "            log_activity(f\"Data written to {filename}.json successfully.\")\n",
    "        except Exception as e:\n",
    "            log_activity(f\"An error occurred: {e}\")\n",
    "    except Exception as e:\n",
    "        log_activity(f\"An unexpected error occurred: {e}\")\n",
    "\n",
    "\n",
    "filepath = \"progress.pkl\"\n",
    "generate_metadata(filepath)"
   ]
  },
  {
   "cell_type": "code",
   "execution_count": null,
   "id": "469812ea",
   "metadata": {},
   "outputs": [],
   "source": []
  }
 ],
 "metadata": {
  "kernelspec": {
   "display_name": "spam",
   "language": "python",
   "name": "python3"
  },
  "language_info": {
   "codemirror_mode": {
    "name": "ipython",
    "version": 3
   },
   "file_extension": ".py",
   "mimetype": "text/x-python",
   "name": "python",
   "nbconvert_exporter": "python",
   "pygments_lexer": "ipython3",
   "version": "3.13.2"
  }
 },
 "nbformat": 4,
 "nbformat_minor": 5
}
